{
  "nbformat": 4,
  "nbformat_minor": 0,
  "metadata": {
    "colab": {
      "name": "example1_vector_add.ipynb",
      "provenance": [],
      "authorship_tag": "ABX9TyOwyRijFaMt8hcB4afjzT9Y",
      "include_colab_link": true
    },
    "kernelspec": {
      "name": "python3",
      "display_name": "Python 3"
    },
    "language_info": {
      "name": "python"
    },
    "accelerator": "GPU"
  },
  "cells": [
    {
      "cell_type": "markdown",
      "metadata": {
        "id": "view-in-github",
        "colab_type": "text"
      },
      "source": [
        "<a href=\"https://colab.research.google.com/github/ggruszczynski/CFDPython/blob/master/example1_vector_add.ipynb\" target=\"_parent\"><img src=\"https://colab.research.google.com/assets/colab-badge.svg\" alt=\"Open In Colab\"/></a>"
      ]
    },
    {
      "cell_type": "markdown",
      "source": [
        "# Vector Add\n",
        "\n",
        "In this example, a step by step vector addition on GPU will be shown. This kind of operation is known as SAXPY (Single-precision A*X Plus Y).\n",
        "\n"
      ],
      "metadata": {
        "id": "mqzS-d1dqDPQ"
      }
    },
    {
      "cell_type": "code",
      "source": [
        "%%file vector_add.cu\n",
        "#include <stdio.h>\n",
        "#include <assert.h>\n",
        "\n",
        "\n",
        "//cudaMemcpy (void ∗dst, const void ∗src, size t count, enum cudaMemcpyKind kind)\n",
        "#define MAX_THREADS_IN_BLOCK 1024\n",
        "\n",
        "#define MAX_ERR 1e-6\n",
        "\n",
        "using namespace std;\n",
        "\n",
        "void cpu_vector_add(float *h_out, float *h_a, float *h_b, int n) {\n",
        "    int tid = 0; // this is CPU zero, so we start at zero\n",
        "    while (tid < n)\n",
        "    {\n",
        "        h_out[tid] = h_a[tid] + h_b[tid];\n",
        "        tid += 1;  // we have one CPU, so we increment by one\n",
        "    }\n",
        "\n",
        "    // same, using the for loop\n",
        "    // for(int i = 0; i < n; i++){\n",
        "    //     h_out[i] = h_a[i] + h_b[i];\n",
        "    // }\n",
        "}\n",
        "\n",
        "__global__ void gpu_vector_add(float *out, float *a, float *b, int n) {\n",
        "    // built-in variable blockDim.x describes amount threads per block\n",
        "    int tid = blockIdx.x * blockDim.x + threadIdx.x;\n",
        "\n",
        "    // check if still inside array\n",
        "    if (tid < n)\n",
        "        out[tid] = a[tid] + b[tid];\n",
        "\n",
        "    // more advanced version - handling arbitrary vector/kernel size\n",
        "    // Consider case when gridDim*blockDim < vector size\n",
        "    // int step = gridDim.x * blockDim.x;\n",
        "    // while (tid < n)\n",
        "    // {\n",
        "    //     out[tid] = a[tid] + b[tid];\n",
        "    //     tid += step;\n",
        "    // }\n",
        "\n",
        "    // same, using the for loop\n",
        "    // for(; tid < n; tid += step){\n",
        "    //     out[tid] = a[tid] + b[tid];\n",
        "    // }\n",
        "}\n",
        "\n",
        "void CPU_version_wrapper(const int N)\n",
        "{\n",
        "    float *h_a, *h_b, *h_out; \n",
        "\n",
        "    // Allocate host memory (RAM for CPU)\n",
        "    h_a   = (float*)malloc(sizeof(float) * N);\n",
        "    h_b   = (float*)malloc(sizeof(float) * N);\n",
        "    h_out = (float*)malloc(sizeof(float) * N);\n",
        "\n",
        "    // Initialize array\n",
        "    for(int i = 0; i < N; i++){\n",
        "        h_a[i] = 1.0; \n",
        "        h_b[i] = 2.0;\n",
        "    }\n",
        "\n",
        "    // Main function\n",
        "    cpu_vector_add(h_out, h_a, h_b, N);\n",
        "\n",
        "    for(int i = 0; i < N; i++){\n",
        "        assert(fabs(h_out[i] - h_a[i] - h_b[i]) < MAX_ERR);\n",
        "    }\n",
        "    printf(\"CPU assertion PASSED\\n\");\n",
        "    printf(\"CPU Last element in the array: out[%d] = %.2f\\n\\n\",N-1,  h_out[N-1]);\n",
        "\n",
        "    // Cleanup host memory\n",
        "    free(h_a); free(h_b); free(h_out);\n",
        "}\n",
        "\n",
        "void GPU_version_wrapper(const int N)\n",
        "{\n",
        "\n",
        "    // Allocate CPU memory\n",
        "    float *h_a, *h_b, *h_out; \n",
        "    h_a   = (float*)malloc(sizeof(float) * N);\n",
        "    h_b   = (float*)malloc(sizeof(float) * N);\n",
        "    h_out = (float*)malloc(sizeof(float) * N);\n",
        "\n",
        "    // Initialize array\n",
        "    for(int i = 0; i < N; i++){\n",
        "        h_a[i] = 1.0; \n",
        "        h_b[i] = 2.0;\n",
        "    }\n",
        "    \n",
        "    // Allocate device memory for d_a\n",
        "    float *d_a, *d_b, *d_out;\n",
        "    cudaMalloc((void**)&d_a, sizeof(float) * N);\n",
        "    cudaMalloc((void**)&d_b, sizeof(float) * N);\n",
        "    cudaMalloc((void**)&d_out, sizeof(float) * N);\n",
        "\n",
        "    // Transfer data from host to device  (global) memory\n",
        "    cudaMemcpy(d_a, h_a, sizeof(float) * N, cudaMemcpyHostToDevice);\n",
        "    cudaMemcpy(d_b, h_b, sizeof(float) * N, cudaMemcpyHostToDevice);\n",
        "\n",
        "    // Main function: Call the kernel\n",
        "    gpu_vector_add<<<1,MAX_THREADS_IN_BLOCK>>>(d_out, d_a, d_b, N);//  <<<blocks, threads_per_block>>>\n",
        "   \n",
        "    // implement a kernel for which gridDim*blockDim < vector size\n",
        "    // gpu_vector_add<<<2,64>>>(d_out, d_a, d_b, N);//  <<<blocks, threads_per_block>>>\n",
        "\n",
        "    // if N is a friendly multiplier of THREADS_PER_BLOCK\n",
        "    // gpu_vector_add<<<N/MAX_THREADS_IN_BLOCK,MAX_THREADS_IN_BLOCK>>>(d_out, d_a, d_b, N);\n",
        "    \n",
        "    // if N is not a friendly multiplier of THREADS_PER_BLOCK\n",
        "    // gpu_vector_add<<<(N + MAX_THREADS_IN_BLOCK-1) / MAX_THREADS_IN_BLOCK, MAX_THREADS_IN_BLOCK>>>(d_out, d_a, d_b, N);\n",
        "\n",
        "    // Transfer data from device (global) memory to host\n",
        "    cudaMemcpy(h_out, d_out, sizeof(float) * N, cudaMemcpyDeviceToHost);\n",
        "    // cudaMemcpy() Blocks the CPU until the copy is complete\n",
        "    // Copy begins when all preceding CUDA calls have completed\n",
        "\n",
        "    // Verification\n",
        "    printf(\"GPU Last element in the array: out[%d] = %.2f\\n\",N-1,  h_out[N-1]);\n",
        "    for(int i = 0; i < N; i++){\n",
        "        assert(fabs(h_out[i] - h_a[i] - h_b[i]) < MAX_ERR);\n",
        "    }\n",
        "\n",
        "    printf(\"GPU assertion PASSED\\n\\n\");\n",
        "    \n",
        "    // Cleanup memory after kernel execution\n",
        "    cudaFree(d_a);cudaFree(d_b);cudaFree(d_out);\n",
        "    free(h_a);free(h_b);free(h_out);\n",
        "}\n",
        "\n",
        "\n",
        "\n",
        "int main(){\n",
        "    const int N = 1024;\n",
        "    CPU_version_wrapper(N);\n",
        "    GPU_version_wrapper(N);\n",
        "\n",
        "    return 0;\n",
        "}"
      ],
      "metadata": {
        "colab": {
          "base_uri": "https://localhost:8080/"
        },
        "id": "LA9OzTz9qDin",
        "outputId": "a4924ad7-50e9-4bd3-9a44-5f39b687f8e4"
      },
      "execution_count": 1,
      "outputs": [
        {
          "output_type": "stream",
          "name": "stdout",
          "text": [
            "Writing vector_add.cu\n"
          ]
        }
      ]
    },
    {
      "cell_type": "code",
      "source": [
        "%%shell\n",
        "nvidia-smi\n",
        "\n",
        "\n",
        "CUDA_SUFF=35\n",
        "nvcc -gencode arch=compute_${CUDA_SUFF},code=sm_${CUDA_SUFF} ./vector_add.cu -o vector_add\n",
        "./vector_add"
      ],
      "metadata": {
        "colab": {
          "base_uri": "https://localhost:8080/"
        },
        "id": "BtRMp57qq2z_",
        "outputId": "f21a16d8-b1f8-4c31-a68a-173dcf90c038"
      },
      "execution_count": 2,
      "outputs": [
        {
          "output_type": "stream",
          "name": "stdout",
          "text": [
            "Wed Feb 23 17:40:48 2022       \n",
            "+-----------------------------------------------------------------------------+\n",
            "| NVIDIA-SMI 460.32.03    Driver Version: 460.32.03    CUDA Version: 11.2     |\n",
            "|-------------------------------+----------------------+----------------------+\n",
            "| GPU  Name        Persistence-M| Bus-Id        Disp.A | Volatile Uncorr. ECC |\n",
            "| Fan  Temp  Perf  Pwr:Usage/Cap|         Memory-Usage | GPU-Util  Compute M. |\n",
            "|                               |                      |               MIG M. |\n",
            "|===============================+======================+======================|\n",
            "|   0  Tesla K80           Off  | 00000000:00:04.0 Off |                    0 |\n",
            "| N/A   35C    P8    28W / 149W |      0MiB / 11441MiB |      0%      Default |\n",
            "|                               |                      |                  N/A |\n",
            "+-------------------------------+----------------------+----------------------+\n",
            "                                                                               \n",
            "+-----------------------------------------------------------------------------+\n",
            "| Processes:                                                                  |\n",
            "|  GPU   GI   CI        PID   Type   Process name                  GPU Memory |\n",
            "|        ID   ID                                                   Usage      |\n",
            "|=============================================================================|\n",
            "|  No running processes found                                                 |\n",
            "+-----------------------------------------------------------------------------+\n",
            "nvcc warning : The 'compute_35', 'compute_37', 'compute_50', 'sm_35', 'sm_37' and 'sm_50' architectures are deprecated, and may be removed in a future release (Use -Wno-deprecated-gpu-targets to suppress warning).\n",
            "CPU assertion PASSED\n",
            "CPU Last element in the array: out[1023] = 3.00\n",
            "\n",
            "GPU Last element in the array: out[1023] = 3.00\n",
            "GPU assertion PASSED\n",
            "\n"
          ]
        },
        {
          "output_type": "execute_result",
          "data": {
            "text/plain": [
              ""
            ]
          },
          "metadata": {},
          "execution_count": 2
        }
      ]
    }
  ]
}