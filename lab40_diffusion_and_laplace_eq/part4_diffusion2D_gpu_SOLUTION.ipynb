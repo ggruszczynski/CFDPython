{
  "cells": [
    {
      "cell_type": "markdown",
      "id": "c38d41ec",
      "metadata": {
        "id": "c38d41ec"
      },
      "source": [
        "<a href=\"https://colab.research.google.com/github/ggruszczynski/CFDPython/blob/master/lab40_diffusion_and_laplace_eq/part4_diffusion2D_gpu_SOLUTION.ipynb\" target=\"_parent\"><img src=\"https://colab.research.google.com/assets/colab-badge.svg\" alt=\"Open In Colab\"/></a>"
      ]
    },
    {
      "cell_type": "code",
      "execution_count": 1,
      "id": "7f77543f",
      "metadata": {
        "id": "7f77543f"
      },
      "outputs": [],
      "source": [
        "from numba import cuda\n",
        "from numba import jit\n",
        "import numpy as np\n",
        "# from numba import vectorize, int32, int64, float32, float64\n",
        "import matplotlib.pyplot as plt\n",
        "\n",
        "%matplotlib inline"
      ]
    },
    {
      "cell_type": "code",
      "execution_count": 2,
      "id": "252d0191",
      "metadata": {
        "colab": {
          "base_uri": "https://localhost:8080/"
        },
        "id": "252d0191",
        "outputId": "90a1a702-8bcb-492f-ba46-793a41a0b23c"
      },
      "outputs": [
        {
          "output_type": "stream",
          "name": "stdout",
          "text": [
            "Mon Nov  7 09:15:09 2022       \n",
            "+-----------------------------------------------------------------------------+\n",
            "| NVIDIA-SMI 460.32.03    Driver Version: 460.32.03    CUDA Version: 11.2     |\n",
            "|-------------------------------+----------------------+----------------------+\n",
            "| GPU  Name        Persistence-M| Bus-Id        Disp.A | Volatile Uncorr. ECC |\n",
            "| Fan  Temp  Perf  Pwr:Usage/Cap|         Memory-Usage | GPU-Util  Compute M. |\n",
            "|                               |                      |               MIG M. |\n",
            "|===============================+======================+======================|\n",
            "|   0  Tesla T4            Off  | 00000000:00:04.0 Off |                    0 |\n",
            "| N/A   45C    P8     9W /  70W |      0MiB / 15109MiB |      0%      Default |\n",
            "|                               |                      |                  N/A |\n",
            "+-------------------------------+----------------------+----------------------+\n",
            "                                                                               \n",
            "+-----------------------------------------------------------------------------+\n",
            "| Processes:                                                                  |\n",
            "|  GPU   GI   CI        PID   Type   Process name                  GPU Memory |\n",
            "|        ID   ID                                                   Usage      |\n",
            "|=============================================================================|\n",
            "|  No running processes found                                                 |\n",
            "+-----------------------------------------------------------------------------+\n"
          ]
        }
      ],
      "source": [
        "!nvidia-smi"
      ]
    },
    {
      "cell_type": "code",
      "execution_count": 3,
      "id": "19f9ca82",
      "metadata": {
        "id": "19f9ca82"
      },
      "outputs": [],
      "source": [
        "\n",
        "# Note the use of an `out` array. CUDA kernels written with `@cuda.jit` do not return values,\n",
        "# just like their C counterparts. Also, no explicit type signature is required with @cuda.jit\n",
        "@cuda.jit\n",
        "def add_kernel(x, y, out):\n",
        "    \n",
        "    # The actual values of the following CUDA-provided variables for thread and block indices,\n",
        "    # like function parameters, are not known until the kernel is launched.\n",
        "    \n",
        "    # This calculation gives a unique thread index within the entire grid (see the slides above for more)\n",
        "    idx = cuda.grid(1)          # 1 = one dimensional thread grid, returns a single value.\n",
        "                                # This Numba-provided convenience function is equivalent to\n",
        "                                # `cuda.threadIdx.x + cuda.blockIdx.x * cuda.blockDim.x`\n",
        "\n",
        "    # This thread will do the work on the data element with the same index as its own\n",
        "    # unique index within the grid.\n",
        "    out[idx] = x[idx] + y[idx]"
      ]
    },
    {
      "cell_type": "code",
      "execution_count": 4,
      "id": "c6f0446b",
      "metadata": {
        "id": "c6f0446b"
      },
      "outputs": [],
      "source": [
        "\n",
        "n = 4096\n",
        "x = np.arange(n).astype(np.int32) # [0...4095] on the host\n",
        "y = np.ones_like(x)               # [1...1] on the host\n",
        "\n",
        "d_x = cuda.to_device(x) # Copy of x on the device\n",
        "d_y = cuda.to_device(y) # Copy of y on the device\n",
        "d_out = cuda.device_array_like(d_x) # Like np.array_like, but for device arrays\n",
        "\n",
        "# Because of how we wrote the kernel above, we need to have a 1 thread to one data element mapping,\n",
        "# therefore we define the number of threads in the grid (128*32) to equal n (4096).\n",
        "threads_per_block = 128\n",
        "blocks_per_grid = 32"
      ]
    },
    {
      "cell_type": "code",
      "execution_count": 5,
      "id": "8e12f825",
      "metadata": {
        "colab": {
          "base_uri": "https://localhost:8080/"
        },
        "id": "8e12f825",
        "outputId": "67f3deff-65c6-4cbe-c064-a25532d1ab5c"
      },
      "outputs": [
        {
          "output_type": "stream",
          "name": "stderr",
          "text": [
            "/usr/local/lib/python3.7/dist-packages/numba/cuda/dispatcher.py:488: NumbaPerformanceWarning: Grid size 32 will likely result in GPU under-utilization due to low occupancy.\n",
            "  warn(NumbaPerformanceWarning(msg))\n"
          ]
        },
        {
          "output_type": "stream",
          "name": "stdout",
          "text": [
            "[   1    2    3 ... 4094 4095 4096]\n"
          ]
        }
      ],
      "source": [
        "add_kernel[blocks_per_grid, threads_per_block](d_x, d_y, d_out)\n",
        "cuda.synchronize()\n",
        "print(d_out.copy_to_host()) # Should be [1...4096]"
      ]
    },
    {
      "cell_type": "code",
      "source": [
        "from numba import vectorize\n",
        "\n",
        "@vectorize(['int32(int32, int32)'], target='cuda') # Type signature and target are required for the GPU\n",
        "def add_ufunc(x, y):\n",
        "    return x + y"
      ],
      "metadata": {
        "id": "vo6R3HWfGV3o"
      },
      "id": "vo6R3HWfGV3o",
      "execution_count": 6,
      "outputs": []
    },
    {
      "cell_type": "markdown",
      "source": [
        "\n",
        "## Let us run some benchmarks\n"
      ],
      "metadata": {
        "id": "Wl3JJN9cIADH"
      },
      "id": "Wl3JJN9cIADH"
    },
    {
      "cell_type": "code",
      "source": [
        "%timeit np.add(x, y)   # NumPy on CPU"
      ],
      "metadata": {
        "colab": {
          "base_uri": "https://localhost:8080/"
        },
        "id": "CLdSSw60Gt8s",
        "outputId": "2772e791-c30f-4a75-b2be-0a249f894737"
      },
      "id": "CLdSSw60Gt8s",
      "execution_count": 7,
      "outputs": [
        {
          "output_type": "stream",
          "name": "stdout",
          "text": [
            "1.41 µs ± 25.3 ns per loop (mean ± std. dev. of 7 runs, 1000000 loops each)\n"
          ]
        }
      ]
    },
    {
      "cell_type": "code",
      "source": [
        "%timeit add_ufunc(x, y) # Numba on GPU"
      ],
      "metadata": {
        "colab": {
          "base_uri": "https://localhost:8080/"
        },
        "id": "fpRaddI-G2Oa",
        "outputId": "1a1a5a4c-fa17-4390-bca7-15653b99e135"
      },
      "id": "fpRaddI-G2Oa",
      "execution_count": 8,
      "outputs": [
        {
          "output_type": "stream",
          "name": "stderr",
          "text": [
            "/usr/local/lib/python3.7/dist-packages/numba/cuda/dispatcher.py:488: NumbaPerformanceWarning: Grid size 4 will likely result in GPU under-utilization due to low occupancy.\n",
            "  warn(NumbaPerformanceWarning(msg))\n"
          ]
        },
        {
          "output_type": "stream",
          "name": "stdout",
          "text": [
            "1.04 ms ± 6.57 µs per loop (mean ± std. dev. of 7 runs, 1000 loops each)\n"
          ]
        }
      ]
    },
    {
      "cell_type": "code",
      "source": [
        "%timeit add_kernel[blocks_per_grid, threads_per_block](x, y, d_out) # hand crafted kernel - data from cpu"
      ],
      "metadata": {
        "colab": {
          "base_uri": "https://localhost:8080/"
        },
        "id": "WJQqQe8LHJvZ",
        "outputId": "b5cceaef-870a-4060-99a2-301834a0b850"
      },
      "id": "WJQqQe8LHJvZ",
      "execution_count": 9,
      "outputs": [
        {
          "output_type": "stream",
          "name": "stderr",
          "text": [
            "/usr/local/lib/python3.7/dist-packages/numba/cuda/cudadrv/devicearray.py:885: NumbaPerformanceWarning: Host array used in CUDA kernel will incur copy overhead to/from device.\n",
            "  warn(NumbaPerformanceWarning(msg))\n"
          ]
        },
        {
          "output_type": "stream",
          "name": "stdout",
          "text": [
            "866 µs ± 22.8 µs per loop (mean ± std. dev. of 7 runs, 1000 loops each)\n"
          ]
        }
      ]
    },
    {
      "cell_type": "code",
      "source": [
        "%timeit add_kernel[blocks_per_grid, threads_per_block](d_x, d_y, d_out) # hand crafted kernel - data fetched to gpu"
      ],
      "metadata": {
        "colab": {
          "base_uri": "https://localhost:8080/"
        },
        "id": "uOkyYTBLHfON",
        "outputId": "92971d12-9293-4dab-9836-543dbf27ada2"
      },
      "id": "uOkyYTBLHfON",
      "execution_count": 10,
      "outputs": [
        {
          "output_type": "stream",
          "name": "stdout",
          "text": [
            "83.2 µs ± 25 µs per loop (mean ± std. dev. of 7 runs, 10000 loops each)\n"
          ]
        }
      ]
    },
    {
      "cell_type": "markdown",
      "source": [],
      "metadata": {
        "id": "z4wdRivEXnS5"
      },
      "id": "z4wdRivEXnS5"
    },
    {
      "cell_type": "markdown",
      "id": "45c28f8e",
      "metadata": {
        "id": "45c28f8e"
      },
      "source": [
        "## 2D-diffusion"
      ]
    },
    {
      "cell_type": "markdown",
      "id": "694b7edc",
      "metadata": {
        "id": "694b7edc"
      },
      "source": [
        "The 2D-diffusion equation is known as\n",
        "\n",
        "$$\\frac{\\partial u}{\\partial t} = \\nu \\left(\\frac{\\partial ^2 u}{\\partial x^2} + \\frac{\\partial ^2 u}{\\partial y^2} \\right) $$\n",
        "\n",
        "The same scheme as in the case of 1D diffusion problem will be adopted to account for spatial derivatives in both x and y direction. \n",
        "It consinst of a forward difference in time and two second-order spatial derivatives. \n",
        "\n",
        "$$\\frac{u_{i,j}^{n+1} - u_{i,j}^n}{\\Delta t} = \\nu \\frac{u_{i+1,j}^n - 2 u_{i,j}^n + u_{i-1,j}^n}{\\Delta x^2} + \\nu \\frac{u_{i,j+1}^n-2 u_{i,j}^n + u_{i,j-1}^n}{\\Delta y^2}$$\n",
        "\n",
        "Solving the discretized equation for $u_{i,j}^{n+1}$\n",
        "\n",
        "$$\n",
        "\\begin{split}\n",
        "u_{i,j}^{n+1} = u_{i,j}^n &+ \\frac{\\nu \\Delta t}{\\Delta x^2}(u_{i+1,j}^n - 2 u_{i,j}^n + u_{i-1,j}^n) \\\\\n",
        "&+ \\frac{\\nu \\Delta t}{\\Delta y^2}(u_{i,j+1}^n-2 u_{i,j}^n + u_{i,j-1}^n)\n",
        "\\end{split}\n",
        "$$"
      ]
    },
    {
      "cell_type": "code",
      "execution_count": 11,
      "id": "076a57a4",
      "metadata": {
        "tags": [],
        "id": "076a57a4"
      },
      "outputs": [],
      "source": [
        "\n",
        "# @vectorize(['float32[:](int32, int32, float32, float32, float32)'], target='parallel')  #\n",
        "\n",
        "@jit(nopython=True)\n",
        "def step_cpu(nx, ny, fact, A_in,  A_out):\n",
        "    # loop over all points in domain (except boundary)\n",
        "    for x in range(1,nx-1):\n",
        "        for y in range(1,ny-1):\n",
        "            d2tdx2 = A_in[x-1][y] - 2*A_in[x][y] + A_in[x+1][y]\n",
        "            d2tdy2 = A_in[x][y-1] - 2*A_in[x][y] + A_in[x][y+1]\n",
        "            #update temperatures\n",
        "            A_out[x][y] = A_in[x][y]+fact*(d2tdx2 + d2tdy2)"
      ]
    },
    {
      "cell_type": "code",
      "execution_count": 12,
      "id": "7a47c4c7",
      "metadata": {
        "id": "7a47c4c7"
      },
      "outputs": [],
      "source": [
        "@cuda.jit\n",
        "def step_kernel_gpu(nx, ny, fact, A_in,  A_out):\n",
        "    x, y = cuda.grid(2)\n",
        "    # The above is equivalent to the following 2 lines of code:\n",
        "    # x = cuda.blockIdx.x * cuda.blockDim.x + cuda.threadIdx.x\n",
        "    # y = cuda.blockIdx.y * cuda.blockDim.y + cuda.threadIdx.y\n",
        "    \n",
        "    # loop over all points in domain (except boundary)\n",
        "    if (x > 0 and y > 0 and x < nx-1 and y < ny-1):\n",
        "    # if (x < nx and y < ny):\n",
        "        d2tdx2 = A_in[x-1][y] - 2*A_in[x][y] + A_in[x+1][y]\n",
        "        d2tdy2 = A_in[x][y-1] - 2*A_in[x][y] + A_in[x][y+1]\n",
        "        #update temperatures\n",
        "        A_out[x][y] = A_in[x][y]+fact*(d2tdx2 + d2tdy2)"
      ]
    },
    {
      "cell_type": "code",
      "execution_count": 13,
      "id": "cffd1923",
      "metadata": {
        "id": "cffd1923"
      },
      "outputs": [],
      "source": [
        "diffusivity = 1e-2 # thermal diffusivity \n",
        "nstep = int(1e4)     # number of time steps\n",
        "#Specify our 2D dimensions\n",
        "nx = 256\n",
        "ny = 256"
      ]
    },
    {
      "cell_type": "code",
      "execution_count": 14,
      "id": "f411ab87",
      "metadata": {
        "id": "f411ab87"
      },
      "outputs": [],
      "source": [
        "threads_per_block = (32, 32) # 2D blocks, 32*32=1024 threads, this is the maximum number of threads in the block\n",
        "blocks = (8, 8) #2D grid\n",
        "assert threads_per_block[0]*blocks[0] == nx and threads_per_block[1]*blocks[1] == ny\n",
        "\n",
        "a1 = np.ones((nx, ny)).astype(np.float32) #create a nx * ny vector of 1's\n",
        "a2 = np.ones((nx, ny)).astype(np.float32) \n",
        "\n",
        "###Assign initial conditions\n",
        "a1[int(nx/4):int(3*nx/4), int(ny/4):int(3*ny/4)] = 2\n",
        "# a2[int(nx/4):int(3*nx/4), int(ny/4):int(3*ny/4)] = 2\n",
        "\n",
        "d_a1 = cuda.to_device(a1)\n",
        "d_a2 = cuda.to_device(a2)"
      ]
    },
    {
      "cell_type": "code",
      "execution_count": 15,
      "id": "709456e0",
      "metadata": {
        "colab": {
          "base_uri": "https://localhost:8080/",
          "height": 281
        },
        "id": "709456e0",
        "outputId": "55e5973d-247d-4228-81f7-95d25e76b2e8"
      },
      "outputs": [
        {
          "output_type": "display_data",
          "data": {
            "text/plain": [
              "<Figure size 432x288 with 2 Axes>"
            ],
            "image/png": "[encoded data removed]"
          },
          "metadata": {
            "needs_background": "light"
          }
        }
      ],
      "source": [
        "plt.imshow(d_a1.copy_to_host())\n",
        "plt.colorbar()\n",
        "plt.title('Initial Condition')\n",
        "plt.show()"
      ]
    },
    {
      "cell_type": "code",
      "execution_count": 16,
      "id": "7aaa4654",
      "metadata": {
        "id": "7aaa4654"
      },
      "outputs": [],
      "source": [
        "def iterate_cpu(a1, a2):\n",
        "    for i in range(0,nstep):\n",
        "        step_cpu(nx, ny, diffusivity, a1,  a2)\n",
        "        # // swap the temperature pointers\n",
        "        tmp = a1\n",
        "        a1 = a2\n",
        "        a2 = tmp\n"
      ]
    },
    {
      "cell_type": "code",
      "execution_count": 17,
      "id": "519f4a22",
      "metadata": {
        "colab": {
          "base_uri": "https://localhost:8080/"
        },
        "id": "519f4a22",
        "outputId": "28ccf273-ff5f-4226-df4b-5f02232dba4c"
      },
      "outputs": [
        {
          "output_type": "stream",
          "name": "stdout",
          "text": [
            "3.01 s ± 27.5 ms per loop (mean ± std. dev. of 7 runs, 1 loop each)\n"
          ]
        }
      ],
      "source": [
        "%timeit iterate_cpu(a1, a2)"
      ]
    },
    {
      "cell_type": "code",
      "execution_count": 18,
      "id": "c8be7f5a",
      "metadata": {
        "colab": {
          "base_uri": "https://localhost:8080/",
          "height": 296
        },
        "id": "c8be7f5a",
        "outputId": "66a8e88c-7bee-4746-c7b2-bad1b66342eb"
      },
      "outputs": [
        {
          "output_type": "display_data",
          "data": {
            "text/plain": [
              "<Figure size 432x288 with 2 Axes>"
            ],
            "image/png": "[encoded data removed]"
          },
          "metadata": {
            "needs_background": "light"
          }
        }
      ],
      "source": [
        "solution = a1\n",
        "\n",
        "plt.imshow(solution)\n",
        "plt.colorbar()\n",
        "plt.title(f'CPU Solution \\n {nstep} iterations, diffusivity={diffusivity}')\n",
        "plt.show()"
      ]
    },
    {
      "cell_type": "code",
      "execution_count": 19,
      "id": "ba078ec2",
      "metadata": {
        "id": "ba078ec2"
      },
      "outputs": [],
      "source": [
        "def iterate_gpu(d_a1,  d_a2):\n",
        "    for i in range(0,nstep):\n",
        "        step_kernel_gpu[blocks, threads_per_block](nx, ny, diffusivity, d_a1,  d_a2)\n",
        "        cuda.synchronize()\n",
        "        # // swap the temperature pointers\n",
        "        tmp = d_a1\n",
        "        d_a1 = d_a2\n",
        "        d_a2 = tmp"
      ]
    },
    {
      "cell_type": "code",
      "execution_count": 20,
      "id": "dba8fddc",
      "metadata": {
        "colab": {
          "base_uri": "https://localhost:8080/"
        },
        "id": "dba8fddc",
        "outputId": "f5f6e73f-5867-4fd6-9f53-26f9f4fa2415"
      },
      "outputs": [
        {
          "output_type": "stream",
          "name": "stderr",
          "text": [
            "/usr/local/lib/python3.7/dist-packages/numba/cuda/dispatcher.py:488: NumbaPerformanceWarning: Grid size 64 will likely result in GPU under-utilization due to low occupancy.\n",
            "  warn(NumbaPerformanceWarning(msg))\n"
          ]
        },
        {
          "output_type": "stream",
          "name": "stdout",
          "text": [
            "1.14 s ± 26.1 ms per loop (mean ± std. dev. of 7 runs, 1 loop each)\n"
          ]
        }
      ],
      "source": [
        "%timeit iterate_gpu(d_a1,  d_a2)"
      ]
    },
    {
      "cell_type": "code",
      "execution_count": 21,
      "id": "32d3c0e8",
      "metadata": {
        "colab": {
          "base_uri": "https://localhost:8080/",
          "height": 296
        },
        "id": "32d3c0e8",
        "outputId": "9011fd32-c0d5-455b-bb10-ae815a61386d"
      },
      "outputs": [
        {
          "output_type": "display_data",
          "data": {
            "text/plain": [
              "<Figure size 432x288 with 2 Axes>"
            ],
            "image/png": "[encoded data removed]"
          },
          "metadata": {
            "needs_background": "light"
          }
        }
      ],
      "source": [
        "solution = d_a1.copy_to_host()\n",
        "\n",
        "plt.imshow(solution)\n",
        "plt.colorbar()\n",
        "plt.title(f'GPU Solution \\n {nstep} iterations, diffusivity={diffusivity}')\n",
        "plt.show()\n"
      ]
    }
  ],
  "metadata": {
    "kernelspec": {
      "display_name": "Python 3.10.4 ('experimental-env')",
      "language": "python",
      "name": "python3"
    },
    "language_info": {
      "codemirror_mode": {
        "name": "ipython",
        "version": 3
      },
      "file_extension": ".py",
      "mimetype": "text/x-python",
      "name": "python",
      "nbconvert_exporter": "python",
      "pygments_lexer": "ipython3",
      "version": "3.10.4"
    },
    "vscode": {
      "interpreter": {
        "hash": "587882837062e64d842843ab6ba6be64a9bed13c1c12306316f997a1cf10e58f"
      }
    },
    "colab": {
      "provenance": []
    },
    "accelerator": "GPU",
    "gpuClass": "standard"
  },
  "nbformat": 4,
  "nbformat_minor": 5
}