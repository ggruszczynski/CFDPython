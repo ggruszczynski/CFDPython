{
 "cells": [
  {
   "cell_type": "markdown",
   "metadata": {},
   "source": [
    "[@ggruszczynski](https://github.com/ggruszczynski)"
   ]
  },
  {
   "cell_type": "markdown",
   "metadata": {},
   "source": [
    "You should have completed previous tutorial, [diffusion_part1_and_convolution](./diffusion_part1_and_convolution.ipynb) before continuing. "
   ]
  },
  {
   "cell_type": "markdown",
   "metadata": {},
   "source": [
    "Diffusion part 3: with spatially variable diffusivity in 1-D\n",
    "-----\n",
    "***"
   ]
  },
  {
   "cell_type": "markdown",
   "metadata": {},
   "source": [
    "# Balance of Enthalpy\n",
    "\n",
    "The simplified balance of Enthalpy $H=\\rho c_p T$ is known as:\n",
    "\\begin{align}\n",
    "\\int \\frac{\\partial }{\\partial t} (\\rho c_p T ) dV +  \\oint  ( \\rho c_p T \\boldsymbol{u} ) \\cdot \\boldsymbol{n} dS &= \\oint \\boldsymbol{n} \\cdot \\boldsymbol{q} dS + \\int \\dot{q} dV \\\\ \n",
    "\\boldsymbol{q} &= k \\nabla T\n",
    "\\end{align}\n",
    "The heat flux $ \\boldsymbol{q} $ is related to the thermal conductivity coefficient $k [ W/mK] $. \n",
    "\n",
    "Applying the GGO theorem, we obtain:\n",
    "\n",
    "$$\n",
    "\\frac{\\partial }{\\partial t} (\\rho c_p T ) + \\nabla \\cdot (\\boldsymbol{u} \\rho c_p T ) = \\nabla \\cdot (k \\nabla T)  + \\dot{q} \n",
    "$$\n"
   ]
  },
  {
   "cell_type": "markdown",
   "metadata": {},
   "source": [
    "\n",
    "\n",
    "## Conservative and non-conservative scheme\n",
    "\n",
    "Consider a 1D, unsteady heat transfer equation with variable conduction coefficient.\n",
    "For simplicity, assume that the heat capacity $ \\rho c_p = 1 $.\n",
    "\n",
    "The equation be expressed in two mathematically equivalent forms:\n",
    "$$\n",
    "\\frac{\\partial u}{\\partial t}=\\frac{\\partial}{\\partial x}\\left(k(x) \\frac{\\partial u}{\\partial x}\\right) \n",
    "$$\n",
    "or \n",
    "$$\n",
    "\\frac{\\partial u}{\\partial t}=\\frac{\\partial u}{\\partial x} \\frac{\\partial k}{\\partial x}+k(x) \\frac{\\partial^{2} u}{\\partial x^{2}}\n",
    "$$\n",
    "\n",
    "Both of these continous forms can be discretized. \n",
    "\n",
    "First form leads to the *conservative scheme*\n",
    "\n",
    "$$\n",
    "\\frac{u_{i}^{n+1}-u_{i}^{n}}{\\Delta t}=\\frac{1}{\\Delta x^{2}}\\left(k_{i+\\frac{1}{2}}\\left(u_{i+1}^{n}-u_{i}^{n}\\right)-k_{i-\\frac{1}{2}}\\left(u_{i}^{n}-u_{i-1}^{n}\\right)\\right)\n",
    "$$\n",
    "\n",
    "\n",
    "while the second form results in a *non-conservative scheme*\n",
    "\n",
    "$$\n",
    "\\frac{u_{i}^{n+1}-u_{i}^{n}}{\\Delta t}=\\frac{1}{\\Delta x^{2}}\\left(\\frac{\\left(k_{i+1}-k_{i-1}\\right)}{2} \\frac{\\left(u_{i+1}^{n}-u_{i-1}^{n}\\right)}{2}+k_{i}\\left(u_{i+1}^{n}+u_{i-1}^{n}-2 u_{i}^{n}\\right)\\right)\n",
    "$$\n"
   ]
  },
  {
   "cell_type": "markdown",
   "metadata": {},
   "source": [
    "## Task\n",
    "\n",
    "* Implement both the *conservative* and the *non-conservative* schemes.\n",
    "\n",
    "* Impose the following BC: \n",
    "\n",
    "```\n",
    "u[int(nx/4)] = 10.\n",
    "u[-int(nx/4)] = 1.\n",
    "\n",
    "u[0] = 5.\n",
    "u[-1] = 5.\n",
    "```\n",
    "\n",
    "* Run the simulation for different $k$ and compare results. Which physical quantity may become *not conserved* ?"
   ]
  },
  {
   "cell_type": "code",
   "execution_count": null,
   "metadata": {},
   "outputs": [],
   "source": [
    "import numpy as np\n",
    "import matplotlib.pyplot as plt"
   ]
  },
  {
   "cell_type": "code",
   "execution_count": null,
   "metadata": {},
   "outputs": [],
   "source": [
    "# variable conductivity\n",
    "\n",
    "nx = 128\n",
    "domain_length = 64\n",
    "dx = domain_length / (nx-1)\n",
    "xspace = np.linspace(0, domain_length, nx)\n",
    "\n",
    "u_IC = 5.*np.ones(nx)                    #numpy function ones()\n",
    "u_IC[int((nx-1)/4):int(nx/2 + 1)] = 10   #setting u = 2 between 0.5 and 1 as per our I.C.s\n",
    "\n",
    "k = 1.*np.ones(nx)                      # be aware that dt = sigma * dx**2 / nu\n",
    "k[:int(nx/2)] = 0.1                     # try with 0.1 \n",
    "\n",
    "sigma = .2              # sigma is a parameter, we'll learn more about it later\n",
    "dt = sigma * dx**2 / max(k)              #dt is defined using sigma \n",
    "nt = 10000  # the number of timesteps we want to calculate\n",
    "\n",
    "\n",
    "def calc_diffusion_variable_conductivity(IC,nx,nt,k,dt):\n",
    "    u = IC.copy()\n",
    "    un = IC.copy() #our placeholder array, un, to advance the solution in time\n",
    "\n",
    "    for n in range(nt):  #iterate through time\n",
    "        #impose BC\n",
    "        u[int(nx/4)] = 10.\n",
    "        u[-int(nx/4)] = 1.\n",
    "\n",
    "        u[0] = 5.\n",
    "        u[-1] = 5.\n",
    "\n",
    "        un = u.copy() ##copy the existing values of u into un\n",
    "        for i in range(1, nx - 1):\n",
    "            # this is obviously bad: du/dt = k (d^2)u/(dx)^2 \n",
    "            # u[i] = un[i] + k[i] * dt / dx**2 * (un[i+1] - 2 * un[i] + un[i-1])\n",
    "\n",
    "            # non conservative scheme\n",
    "            # u[i] = TODO...\n",
    "\n",
    "            # conservative scheme\n",
    "            # kf = TODO...      # forward stencil for k_(i+1/2)\n",
    "            # kb = TODO...      # backward stencil for k_(i-1/2)\n",
    "            # u[i] = TODO...\n",
    "\n",
    "    return u\n",
    "\n",
    "u_FD_conservative = calc_diffusion_variable_conductivity(u_IC,nx,nt,k,dt,True)\n",
    "u_FD_non_conservative = calc_diffusion_variable_conductivity(u_IC,nx,nt,k,dt,False)\n"
   ]
  },
  {
   "cell_type": "code",
   "execution_count": null,
   "metadata": {},
   "outputs": [],
   "source": [
    "plt.rcParams.update({'font.size': 16})\n",
    "figure, axis = plt.subplots(1, 1, figsize=(10, 8))\n",
    "plt.subplots_adjust(hspace=1)\n",
    "plt.plot(xspace, u_FD_conservative, label=r'$u_{conservative}$', marker='x', linestyle=\"\", markevery=2)\n",
    "plt.plot(xspace, u_FD_non_conservative, label=r'$u_{non-conservative}$')\n",
    "axis.legend(loc=\"upper right\")\n",
    "plt.grid()"
   ]
  }
 ],
 "metadata": {
  "kernelspec": {
   "display_name": "Python 3",
   "language": "python",
   "name": "python3"
  },
  "language_info": {
   "codemirror_mode": {
    "name": "ipython",
    "version": 3
   },
   "file_extension": ".py",
   "mimetype": "text/x-python",
   "name": "python",
   "nbconvert_exporter": "python",
   "pygments_lexer": "ipython3",
   "version": "3.10.7"
  },
  "metadata": {
   "interpreter": {
    "hash": "f8a2746d3ab3426f08e2132a9e8ad3a7daf862104ae8de960108f6fdcdfbaacf"
   }
  }
 },
 "nbformat": 4,
 "nbformat_minor": 4
}
