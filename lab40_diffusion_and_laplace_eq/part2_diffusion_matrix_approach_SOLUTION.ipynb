{
 "cells": [
  {
   "cell_type": "markdown",
   "metadata": {},
   "source": [
    "[@ggruszczynski](https://github.com/ggruszczynski)"
   ]
  },
  {
   "cell_type": "code",
   "execution_count": 1,
   "metadata": {},
   "outputs": [],
   "source": [
    "from sympy import fourier_transform, exp, sqrt, pi, cos, simplify\n",
    "from sympy.abc import x, k, t, symbols\n",
    "from sympy import init_printing\n",
    "init_printing(use_unicode=False, wrap_line=False)\n",
    "\n",
    "import timeit\n",
    "import numpy as np\n",
    "import matplotlib.pyplot as plt"
   ]
  },
  {
   "cell_type": "markdown",
   "metadata": {},
   "source": [
    "Diffusion part 2: matrix approach; implicit and explicit scheme \n",
    "-----\n",
    "***"
   ]
  },
  {
   "cell_type": "markdown",
   "metadata": {},
   "source": [
    "The one-dimensional diffusion equation is:\n",
    "\n",
    "$$\\frac{\\partial u}{\\partial t}= \\nu \\frac{\\partial^2 u}{\\partial x^2}$$\n",
    "\n",
    "The first thing you should notice is that —unlike the previous two simple equations we have studied— this equation has a second-order derivative. We first need to learn what to do with it!"
   ]
  },
  {
   "cell_type": "markdown",
   "metadata": {},
   "source": [
    "### Discretizing $\\frac{\\partial ^2 u}{\\partial x^2}$"
   ]
  },
  {
   "cell_type": "markdown",
   "metadata": {},
   "source": [
    "The second-order derivative can be represented geometrically as the line tangent to the curve given by the first derivative.  We will discretize the second-order derivative with a Central Difference scheme: a combination of Forward Difference and Backward Difference of the first derivative.  Consider the Taylor expansion of $u_{i+1}$ and $u_{i-1}$ around $u_i$:\n",
    "\n",
    "$u_{i+1} = u_i + \\Delta x \\frac{\\partial u}{\\partial x}\\bigg|_i + \\frac{\\Delta x^2}{2} \\frac{\\partial ^2 u}{\\partial x^2}\\bigg|_i + \\frac{\\Delta x^3}{3!} \\frac{\\partial ^3 u}{\\partial x^3}\\bigg|_i + O(\\Delta x^4)$\n",
    "\n",
    "$u_{i-1} = u_i - \\Delta x \\frac{\\partial u}{\\partial x}\\bigg|_i + \\frac{\\Delta x^2}{2} \\frac{\\partial ^2 u}{\\partial x^2}\\bigg|_i - \\frac{\\Delta x^3}{3!} \\frac{\\partial ^3 u}{\\partial x^3}\\bigg|_i + O(\\Delta x^4)$\n",
    "\n",
    "If we add these two expansions, you can see that the odd-numbered derivative terms will cancel each other out.  If we neglect any terms of $O(\\Delta x^4)$ or higher (and really, those are very small), then we can rearrange the sum of these two expansions to solve for our second-derivative.  \n"
   ]
  },
  {
   "cell_type": "markdown",
   "metadata": {},
   "source": [
    "$u_{i+1} + u_{i-1} = 2u_i+\\Delta x^2 \\frac{\\partial ^2 u}{\\partial x^2}\\bigg|_i + O(\\Delta x^4)$\n",
    "\n",
    "Then rearrange to solve for $\\frac{\\partial ^2 u}{\\partial x^2}\\bigg|_i$ and the result is:\n",
    "\n",
    "$$\\frac{\\partial ^2 u}{\\partial x^2}=\\frac{u_{i+1}-2u_{i}+u_{i-1}}{\\Delta x^2} + O(\\Delta x^4)$$\n"
   ]
  },
  {
   "cell_type": "markdown",
   "metadata": {},
   "source": [
    "### Back to Step 3"
   ]
  },
  {
   "cell_type": "markdown",
   "metadata": {},
   "source": [
    "We can now write the discretized version (FTCS - forward time, central space) of the diffusion equation in 1D:\n",
    "\n",
    "$$\\frac{u_{i}^{n+1}-u_{i}^{n}}{\\Delta t}=\\nu\\frac{u_{i+1}^{n}-2u_{i}^{n}+u_{i-1}^{n}}{\\Delta x^2}$$\n",
    "\n",
    "As before, we notice that once we have an initial condition, the only unknown is $u_{i}^{n+1}$, so we re-arrange the equation solving for our unknown:\n",
    "\n",
    "$$u_{i}^{n+1}=u_{i}^{n}+\\underbrace{\\frac{\\nu\\Delta t}{\\Delta x^2}}_{\\beta}(u_{i+1}^{n}-2u_{i}^{n}+u_{i-1}^{n})$$\n",
    "\n",
    "\n",
    "$$u_{i}^{n+1}=\\beta u_{i-1}^{n} + u_{i}^{n}(1- 2 \\beta) +\\beta u_{i+1}^{n}$$\n",
    "\n",
    "The above discrete equation allows us to write a program to advance a solution in time. But we need an initial condition. Let's continue using our favorite: the hat function. So, at $t=0$, $u=2$ in the interval $0.5\\le x\\le 1$ and $u=1$ everywhere else. We are ready to number-crunch!"
   ]
  },
  {
   "cell_type": "code",
   "execution_count": 2,
   "metadata": {},
   "outputs": [
    {
     "data": {
      "text/plain": [
       "[<matplotlib.lines.Line2D at 0x7ff396faa8c0>]"
      ]
     },
     "execution_count": 2,
     "metadata": {},
     "output_type": "execute_result"
    },
    {
     "data": {
      "image/png": "[encoded data removed]",
      "text/plain": [
       "<Figure size 432x288 with 1 Axes>"
      ]
     },
     "metadata": {
      "needs_background": "light"
     },
     "output_type": "display_data"
    }
   ],
   "source": [
    "# %matplotlib inline\n",
    "\n",
    "nx = 128\n",
    "domain_length = 64\n",
    "dx = domain_length / (nx-1)\n",
    "xspace = np.linspace(0, domain_length, nx)\n",
    "\n",
    "nt = 200                # the number of timesteps we want to calculate\n",
    "nu = 5                  # the value of viscosity\n",
    "sigma = 0.2 # .504      # sigma is a parameter, we'll learn more about it later\n",
    "dt = sigma * dx**2 / nu # dt is defined using sigma ... more later!\n",
    "\n",
    "u_IC = 0*np.ones(nx)                 # numpy function ones()\n",
    "u_IC[int((nx-1)/4):int(nx/2 + 1)] = 1 # setting u = 2 between 0.5 and 1 as per our I.C.s\n",
    "\n",
    "plt.plot(xspace, u_IC)"
   ]
  },
  {
   "cell_type": "markdown",
   "metadata": {},
   "source": [
    "# Matrix approach"
   ]
  },
  {
   "cell_type": "markdown",
   "metadata": {},
   "source": [
    "## Explicit, central FD - matrix approach\n",
    "\n",
    "\n",
    "Notice, that the scheme \n",
    "\n",
    "$$u_{i}^{n+1}=\\beta u_{i-1}^{n} + u_{i}^{n}(1- 2 \\beta) +\\beta u_{i+1}^{n}$$\n",
    "\n",
    "where $\\beta = \\frac{\\nu\\Delta t}{\\Delta x^2}$ can be formulated as:\n",
    "\n",
    "$$\n",
    "\\boldsymbol{u}^{n+1} = \\mathbb{A} \\boldsymbol{u}^n \n",
    "$$\n",
    "\n",
    "\n",
    "Observe, that $ \\mathbb{A} $ have a tridiagonal structure:\n",
    "\n",
    "$$\n",
    "\\begin{bmatrix} \n",
    "A_{0,0} & A_{0,1} & A_{0,2} & \\\\\n",
    "\\beta  & 1 - 2 \\beta& \\beta \\\\\n",
    "0 & \\beta  & 1- 2 \\beta & \\beta \\\\\n",
    "0 & 0 & \\beta & 1- 2 \\beta & \\beta \\\\\n",
    "... \\\\\n",
    "... \\\\\n",
    "... \\\\\n",
    "0 & 0 & 0 & 0 & 0 & \\beta & 1- 2 \\beta & \\beta \\\\\n",
    "0 & 0 & 0 & 0 & 0 & A_{n,n-2} & A_{n,n-1}  & A_{n,n}\\\\\n",
    "\\end{bmatrix}\n",
    "\\quad\n",
    "$$\n",
    "\n",
    "**Hint:**\n",
    "\n",
    "Fill the corners of the matrix using asymmetric stencils:\n",
    "\n",
    "* forward FD for $A_{0,0}, A_{0,1}$ and $A_{0,2}$\n",
    "\n",
    "$$\\frac{u_{i}^{n+1}-u_{i}^{n}}{\\Delta t}=\\nu\\frac{u_i^{n}  -2u_{i+1}^{n} + u_{i+2}^{n}}{\\Delta x^2}$$\n",
    "\n",
    "$$u_{i}^{n+1} = (1 + \\beta ) u_{i}^{n} - 2\\beta u_{i+1}^{n} + \\beta u_{i+2}^{n} $$\n",
    "\n",
    "\n",
    "* backward FD for $A_{n,n}, A_{n,n-1}$ and $A_{n,n-2}$\n",
    "\n",
    "$$\\frac{u_{i}^{n+1}-u_{i}^{n}}{\\Delta t}=\\nu\\frac{u_i^{n}  -2u_{i-1}^{n} + u_{i-2}^{n}}{\\Delta x^2}$$\n",
    "\n",
    "$$u_{i}^{n+1} = (1 + \\beta ) u_{i}^{n} - 2\\beta u_{i-1}^{n} + \\beta u_{i-2}^{n} $$\n"
   ]
  },
  {
   "cell_type": "code",
   "execution_count": 3,
   "metadata": {},
   "outputs": [
    {
     "name": "stdout",
     "output_type": "stream",
     "text": [
      "max(abs(eigenvalues): 1.0000000008934093\n"
     ]
    },
    {
     "data": {
      "image/png": "[encoded data removed]",
      "text/plain": [
       "<Figure size 432x288 with 1 Axes>"
      ]
     },
     "metadata": {
      "needs_background": "light"
     },
     "output_type": "display_data"
    }
   ],
   "source": [
    "# FTCS - forward time, central space\n",
    "import numpy as np\n",
    "np.set_printoptions(precision=3, suppress=True)\n",
    "\n",
    "un_ecfd = u_IC.copy()\n",
    "\n",
    "A = np.zeros((nx, nx))\n",
    "                \n",
    "Beta_FD = dt * nu / (dx**2) \n",
    "last_index_in_matrix = nx -1 \n",
    "\n",
    "# the BC  - use one sided FD            \n",
    "A[0, 0] = 1+Beta_FD     # forward FD\n",
    "A[0, 1] = -2*Beta_FD     # forward FD \n",
    "A[0, 2] = Beta_FD      # forward FD \n",
    "A[last_index_in_matrix, last_index_in_matrix-2] = Beta_FD   # backward FD \n",
    "A[last_index_in_matrix, last_index_in_matrix-1] = -2*Beta_FD  # backward FD \n",
    "A[last_index_in_matrix, last_index_in_matrix] =  1+Beta_FD   # backward FD \n",
    "for i in range(1, last_index_in_matrix): \n",
    "    A[i, i-1] = Beta_FD        # left of the diagonal\n",
    "    A[i, i] = 1 - 2*Beta_FD     # the diagonal\n",
    "    A[i, i+1] = Beta_FD         # right of the diagonal   \n",
    "\n",
    "\n",
    "# print(f\"determinant A: {np.linalg.det(A)}\") \n",
    "w, v = np.linalg.eig(A)  # calculate the eigenvalues and eigenvectors\n",
    "print(f\"max(abs(eigenvalues): {max(abs(w))}\") \n",
    "plt.plot(abs(w))  # plot the eigenvalues\n",
    "\n",
    "for n in range(nt):  #loop for values of n from 0 to nt, so it will run nt times\n",
    "    un_ecfd = A@un_ecfd\n",
    "    # un_ecfd = np.dot(A,un_ecfd) # alternative way of doing the same\n",
    "\n",
    "# plt.plot(xspace, un_ecfd)\n"
   ]
  },
  {
   "cell_type": "markdown",
   "metadata": {},
   "source": [
    "## BTCS - backward time (implicit), central space\n",
    "\n",
    "The laplace operator is calculated using values from the future ($u^{n+1}$).\n",
    "\n",
    "$$\\frac{u_{i}^{n+1}-u_{i}^{n}}{\\Delta t}=\\nu\\frac{u_{i+1}^{n+1}-2u_{i}^{n+1}+u_{i-1}^{n+1}}{\\Delta x^2}$$\n",
    "\n",
    "$$u_{i}^{n+1}=u_{i}^{n}+\\underbrace{\\frac{\\nu\\Delta t}{\\Delta x^2}}_{\\beta}(u_{i+1}^{n+1}-2u_{i}^{n+1}+u_{i-1}^{n+1})$$\n",
    "\n",
    "$$\n",
    "-\\beta u_{i-1}^{n+1} + (1+2 \\beta)u_{i}^{n+1} - \\beta u_{i+1}^{n+1} = u_{i}^{n}\n",
    "$$\n",
    "\n",
    "Notice, that the scheme can be formulated as:\n",
    "\n",
    "$$\n",
    " \\mathbb{A}  \\boldsymbol{u}^{n+1} =\\boldsymbol{u}^n \n",
    "$$\n",
    "\n",
    "\n",
    "Observe, that $ \\mathbb{A} $ have a tridiagonal structure:\n",
    "\n",
    "$$\n",
    "\\begin{bmatrix} \n",
    "A_{0,0} & A_{0,1} & A_{0,2} & \\\\\n",
    "-\\beta  & 1+2 \\beta & -\\beta \\\\\n",
    "0 & -\\beta  & 1+2 \\beta & -\\beta \\\\\n",
    "0 & 0 &- \\beta & 1+2 \\beta & -\\beta \\\\\n",
    "... \\\\\n",
    "... \\\\\n",
    "... \\\\\n",
    "0 & 0 & 0 & 0 & 0 & -\\beta & 1+2 \\beta & -\\beta \\\\\n",
    "0 & 0 & 0 & 0 & 0 & A_{n,n-2} & A_{n,n-1}  & A_{n,n}\\\\\n",
    "\\end{bmatrix}\n",
    "\\quad\n",
    "$$\n",
    "\n",
    "**Hint:**\n",
    "\n",
    "Fill the corners of the matrix using asymmetric stencils:\n",
    "* forward FD for $A_{0,0}, A_{0,1}$ and $A_{0,2}$\n",
    "\n",
    "$$\\frac{u_{i}^{n+1}-u_{i}^{n}}{\\Delta t}=\\nu\\frac{u_i^{n+1}  -2u_{i+1}^{n+1} + u_{i+2}^{n+1}}{\\Delta x^2}$$\n",
    "\n",
    "$$u_{i}^{n+1} (1-  \\underbrace{\\nu\\frac{\\Delta}{\\Delta x^2}}_{\\beta} ) + 2 \\beta u_{i+1}^{n+1} - \\beta u_{i+2}^{n+1} = u_{i}^{n} $$\n",
    "\n",
    "\n",
    "* backward FD for $A_{n,n}, A_{n,n-1}$ and $A_{n,n-2}$\n",
    "\n",
    "$$\\frac{u_{i}^{n+1}-u_{i}^{n}}{\\Delta t}=\\nu\\frac{u_i^{n+1}  -2u_{i-1}^{n+1} + u_{i-2}^{n+1}}{\\Delta x^2}$$\n",
    "\n",
    "$$u_{i}^{n+1} (1-  \\underbrace{\\nu\\frac{\\Delta}{\\Delta x^2}}_{\\beta} ) + 2 \\beta u_{i-1}^{n+1} - \\beta u_{i-2}^{n+1} = u_{i}^{n} $$\n"
   ]
  },
  {
   "cell_type": "code",
   "execution_count": 4,
   "metadata": {},
   "outputs": [
    {
     "name": "stdout",
     "output_type": "stream",
     "text": [
      "max(abs(eigenvalues): 1.00000000351761375583e+00\n"
     ]
    },
    {
     "data": {
      "image/png": "[encoded data removed]",
      "text/plain": [
       "<Figure size 432x288 with 1 Axes>"
      ]
     },
     "metadata": {
      "needs_background": "light"
     },
     "output_type": "display_data"
    }
   ],
   "source": [
    "# BTCS - backward time (implicit), central space\n",
    "import numpy as np\n",
    "np.set_printoptions(precision=3, suppress=True)\n",
    "\n",
    "un_icfd = u_IC.copy()\n",
    "A = np.zeros((nx, nx))\n",
    "                \n",
    "Beta_FD = dt * nu / (dx**2) \n",
    "# nt += 100\n",
    "last_index_in_matrix = nx -1 \n",
    "# the BC  - use one sided FD            \n",
    "A[0, 0] = 1-Beta_FD     # forward FD\n",
    "A[0, 1] = 2*Beta_FD     # forward FD \n",
    "A[0, 2] = -Beta_FD      # forward FD \n",
    "A[last_index_in_matrix, last_index_in_matrix-2] = -Beta_FD   # backward FD \n",
    "A[last_index_in_matrix, last_index_in_matrix-1] = 2*Beta_FD  # backward FD \n",
    "A[last_index_in_matrix, last_index_in_matrix] =  1-Beta_FD   # backward FD \n",
    "for i in range(1, last_index_in_matrix): \n",
    "    A[i, i-1] = -Beta_FD        # left of the diagonal\n",
    "    A[i, i] = 1 + 2*Beta_FD     # the diagonal\n",
    "    A[i, i+1] = -Beta_FD        # right of the diagonal   \n",
    "\n",
    "A_inv = np.linalg.inv(A)\n",
    "\n",
    "# print(f\"determinant A_inv: {np.linalg.det(A_inv)}\") \n",
    "w, v = np.linalg.eig(A_inv)\n",
    "print(f\"max(abs(eigenvalues): {np.max(np.abs(w)):.20e}\") \n",
    "plt.plot(np.abs(w))  # plot the eigenvalues\n",
    "\n",
    "for n in range(nt):  #loop for values of n from 0 to nt, so it will run nt times\n",
    "    un_icfd = A_inv@un_icfd\n",
    "    # alternative way of doing the same:\n",
    "    #     un_icfd = np.dot(A_inv,un_icfd)\n",
    "    #     b = un_icfd.copy() \n",
    "    #     un_icfd = np.linalg.solve(A, b) # u(t+1)\n",
    "                \n",
    "# plt.plot(xspace, un_icfd)\n",
    "# A[-4:,-4:]\n"
   ]
  },
  {
   "cell_type": "markdown",
   "metadata": {},
   "source": [
    "### Compare both schemes\n",
    "\n",
    "Benchmark them using different values of the sigma parameter (set in the cell with initial conditions)\n",
    "```\n",
    "sigma = 0.2 \n",
    "# or\n",
    "sigma = .504 \n",
    "```"
   ]
  },
  {
   "cell_type": "code",
   "execution_count": 5,
   "metadata": {},
   "outputs": [
    {
     "data": {
      "image/png": "[encoded data removed]",
      "text/plain": [
       "<Figure size 720x576 with 1 Axes>"
      ]
     },
     "metadata": {
      "needs_background": "light"
     },
     "output_type": "display_data"
    }
   ],
   "source": [
    "plt.rcParams.update({'font.size': 16})\n",
    "figure, axis = plt.subplots(1, 1, figsize=(10, 8))\n",
    "plt.subplots_adjust(hspace=1)\n",
    "plt.plot(xspace, un_ecfd, label=r'$u_{ecfd}$', marker='x', linestyle=\"\", markevery=2)\n",
    "plt.plot(xspace, un_icfd, label=r'$u_{icfd}$')\n",
    "axis.legend(loc=\"upper right\")\n",
    "plt.grid()"
   ]
  },
  {
   "cell_type": "markdown",
   "metadata": {},
   "source": [
    "## Numerical precision\n",
    "\n",
    "For the implicit scheme, the `max(abs(eigenvalues)`, is just slightly higher than 1, precisely 1.00000000000002375877e+00\n",
    " \n",
    "There 13 zeros between 1 and the next decimal digit, so it is close to the limits of numerical precision for the double data type.\n",
    "\n",
    "Can we go further?\n"
   ]
  },
  {
   "cell_type": "code",
   "execution_count": 6,
   "metadata": {},
   "outputs": [
    {
     "name": "stdout",
     "output_type": "stream",
     "text": [
      "Mpmath settings:\n",
      "  mp.prec = 53                [default: 53]\n",
      "  mp.dps = 15                 [default: 15]\n",
      "  mp.trap_complex = False     [default: False]\n",
      "Mpmath settings:\n",
      "  mp.prec = 120               [default: 53]\n",
      "  mp.dps = 35                 [default: 15]\n",
      "  mp.trap_complex = False     [default: False]\n"
     ]
    }
   ],
   "source": [
    "# Mpmath is a Python library for arbitrary-precision floating-point arithmetic. \n",
    "# For general information about mpmath, see the project website http://mpmath.org/\n",
    "from mpmath import mp\n",
    "print(mp)\n",
    "mp.prec = 120  # denotes the binary precision (measured in bits)\n",
    "# mp.dps = 29 # dps (short for decimal places) is the decimal precision. \n",
    "# Binary and decimal precision are related roughly according to the formula prec = 3.33*dps\n",
    "print(mp)"
   ]
  },
  {
   "cell_type": "code",
   "execution_count": 7,
   "metadata": {},
   "outputs": [],
   "source": [
    "mpA = mp.matrix(A) # convert to mpmath format \n",
    "mpA_inv = mpA**-1  # inverse"
   ]
  },
  {
   "cell_type": "code",
   "execution_count": 8,
   "metadata": {},
   "outputs": [
    {
     "data": {
      "text/plain": [
       "[mpc(real='0.55559393079865101002723162934331718511', imag='-2.459214387665549082011758128316980162e-38'),\n",
       " mpc(real='0.55570906447700087845990056514115120803', imag='-6.7524041931353732616232015608460689082e-39'),\n",
       " mpc(real='0.55590098041965205399253936768870000133', imag='-1.8051791393144770438565986842606219955e-38'),\n",
       " mpc(real='0.55616971828113343530327971959955763416', imag='-1.3976240418770195768729701518088290901e-38'),\n",
       " mpc(real='0.5565153334503877546505939268011609491', imag='-1.2459136056022266081479292801939699432e-38'),\n",
       " mpc(real='0.55693789692278714418987236334983682238', imag='-1.5116456678230855580717281347444861116e-38'),\n",
       " mpc(real='0.55743749513474292802810026946647331832', imag='-2.3386681265851638708833296536147483992e-38'),\n",
       " mpc(real='0.55801422976027944050941273144277947151', imag='-4.8697144169251467253224871730176265245e-39'),\n",
       " mpc(real='0.55866821746880042777577572977915662367', imag='-1.4478324256679103333146831931829670523e-38'),\n",
       " mpc(real='0.55939958964313466656689420163113427388', imag='-6.2272164418035283642066049808488378334e-39'),\n",
       " mpc(real='0.56020849205680474469554507695810035052', imag='-2.2773568013388284732683904987551029493e-38'),\n",
       " mpc(real='0.5610950845093194238476826410856050214', imag='-1.2118215769428400839730402662685887397e-38'),\n",
       " mpc(real='0.56205954041814560191224509680012192469', imag='-1.4153664954213830248514338770225447804e-38'),\n",
       " mpc(real='0.5631020463658705895727819155937033736', imag='-1.4057514388919948061186140177206613136e-38'),\n",
       " mpc(real='0.56422280160091922489925148402502239522', imag='-1.2187759996066436689159858612033936056e-38'),\n",
       " mpc(real='0.56542201749004331466237370109602246646', imag='-2.5739845008707519604560533913580861668e-38'),\n",
       " mpc(real='0.56669991692065309494758930827025857355', imag='-7.7207180362535949253621650601811309029e-39'),\n",
       " mpc(real='0.56805673365091197237665851461903863403', imag='-2.1978804260666614489894332637762193804e-38'),\n",
       " mpc(real='0.56949271160536691503121135852044772789', imag='-9.7967232671877468379337718740105650618e-39'),\n",
       " mpc(real='0.57100810411373773679295689859691316322', imag='-2.7051110143057720892844927941460122641e-38'),\n",
       " mpc(real='0.57260317309033944746388886989096648389', imag='-1.089501661945414080279292301896286162e-38'),\n",
       " mpc(real='0.57427818815146317654139155128779948392', imag='-2.225232292869780642432096534063239934e-38'),\n",
       " mpc(real='0.57603342566789334602626766657627040923', imag='-1.9726437797648282899087601824108355135e-38'),\n",
       " mpc(real='0.57786916774959227165534109788120877611', imag='-1.298124756466431454385026661258447214e-38'),\n",
       " mpc(real='0.57978570115943880393426338472066425633', imag='-2.3279453692748520848244866631017037747e-38'),\n",
       " mpc(real='0.5817833161527656667119028086995972786', imag='-4.7733723982588243296287582843144089604e-39'),\n",
       " mpc(real='0.5838623052393016016193208593199877469', imag='-3.5771809748385496209433324003803587959e-38'),\n",
       " mpc(real='0.58602296186399018367508480281584626404', imag='-4.5658134350385316521621838373774586723e-39'),\n",
       " mpc(real='0.58826557900302826062533086851309408165', imag='-1.0623594748041429458271686873528555905e-38'),\n",
       " mpc(real='0.59059044767134454151692275188058948269', imag='-3.5380508209902778039509650867348954289e-38'),\n",
       " mpc(real='0.59299785533762421560557943153923451139', imag='-5.2428413440414079226251848010494041601e-39'),\n",
       " mpc(real='0.59548808424288007009859353085503669758', imag='-1.2330361983815860542200180171533725306e-38'),\n",
       " mpc(real='0.59806140961847600638846502486600221503', imag='-2.8066199828852453134968998216847034126e-38'),\n",
       " mpc(real='0.60071809779942691506641979093047524076', imag='-7.99513739676151489926601692399363628e-39'),\n",
       " mpc(real='0.60345840422873153056029521606296942555', imag='-2.6313045962926096343187778024146590912e-38'),\n",
       " mpc(real='0.60628257134844431281587497747250778695', imag='-1.782435540716918708071839820454980075e-38'),\n",
       " mpc(real='0.60919082637316096848692840607492867451', imag='-1.9370019244255796977369312906225355714e-38'),\n",
       " mpc(real='0.61218337894158251673705294765698211831', imag='-5.3931435213913130012560110690111217508e-39'),\n",
       " mpc(real='0.61526041864183764047359224137826993018', imag='-2.815685499851593319319477220920198453e-38'),\n",
       " mpc(real='0.61842211240628549332253488523886029211', imag='-2.1938646193970276138190083591802788572e-38'),\n",
       " mpc(real='0.62166860177159444949277293268435152869', imag='-1.8452888852263362699763447835148056709e-38'),\n",
       " mpc(real='0.62500000000000003052975641252833274093', imag='-1.9668454632835396838926706926800916712e-38'),\n",
       " mpc(real='0.62841638905779121589199716745987982928', imag='-7.4943696203272973097367676365795374621e-39'),\n",
       " mpc(real='0.63191781644726259480468762088022630248', imag='-3.1835709187692000766752251788990894217e-38'),\n",
       " mpc(real='0.63550429188860465114123589554819290605', imag='-1.374792514366870646185449165748144308e-38'),\n",
       " mpc(real='0.63917578384849044795416702675539962943', imag='3.2223871435071474619737804027190131958e-40'),\n",
       " mpc(real='0.64293221591245889314271858348962542844', imag='-3.7931150464554762899477358009096536066e-38'),\n",
       " mpc(real='0.64677346299859765209335966846555868853', imag='-8.7718844127236164547559253148851132381e-39'),\n",
       " mpc(real='0.65069934741049786867827537231031190793', imag='-2.100437211185778993446979960775343404e-38'),\n",
       " mpc(real='0.65470963472799359280202798078725831555', imag='-2.1039532708115440112408040290677163264e-38'),\n",
       " mpc(real='0.65880402953481677837726801205583268573', imag='-3.5369072626383694189653613119409625191e-38'),\n",
       " mpc(real='0.66298217098299961686866624514217499113', imag='-1.4586449340699199476278865303319969874e-38'),\n",
       " mpc(real='0.66724362819464558691424182373142296482', imag='-3.911273580397941854373570416112320446e-38'),\n",
       " mpc(real='0.67158789550257472360675265180662999882', imag='-7.6262396080889162800967526438166511046e-39'),\n",
       " mpc(real='0.67601438753233298302518518325927909813', imag='-3.2000920986616727903500996871850797314e-38'),\n",
       " mpc(real='0.6805224341291458084377541068889018131', imag='-2.9388284288041760706037440045432778446e-38'),\n",
       " mpc(real='0.68511127513459748129746332313751071917', imag='-2.8852599634439833651308976933567013776e-38'),\n",
       " mpc(real='0.68978005501913562197217072000591179716', imag='4.9586422512942998423589201860967210149e-39'),\n",
       " mpc(real='0.69452781737793890433138351125458806623', imag='-3.2006328394651833662906306575200129805e-38'),\n",
       " mpc(real='0.69935349929924969584651970830409032045', imag='-4.6648235598427332857652618074475298274e-38'),\n",
       " mpc(real='0.70425592561596523069567734610205382048', imag='-3.0574026237777525192690210085177852607e-38'),\n",
       " mpc(real='0.70923380305310347064160702206144613161', imag='-1.0027478432395208205096525499484022299e-38'),\n",
       " mpc(real='0.71428571428571433170384492191185691249', imag='-3.976474989606182214097893247687878254e-38'),\n",
       " mpc(real='0.71941011192389350213379606430712898113', imag='-2.6909156973144398976418963287166548221e-38'),\n",
       " mpc(real='0.72460531244377320800800116836504817628', imag='-1.0260576462329161685221500563418294923e-38'),\n",
       " mpc(real='0.72986949008570883968758697621444527042', imag='-1.6097882498375185848480513486869867298e-38'),\n",
       " mpc(real='0.7352006707433472222956699333767455233', imag='-1.7197746479518667635015812298823129897e-38'),\n",
       " mpc(real='0.74059672586984417706309488856400617645', imag='-3.5707126006833405395258784620873207478e-38'),\n",
       " mpc(real='0.74605536643018609518464418257328950562', imag='-3.6938128498046903548495536298480582376e-38'),\n",
       " mpc(real='0.75157413693135002424136244994099218708', imag='-4.4660768400012834281059878302803219441e-38'),\n",
       " mpc(real='0.75715040956489375662379272346689597039', imag='-2.2602499759408929504615713583901304503e-38'),\n",
       " mpc(real='0.76278137849948287780756072352058018238', imag='-3.2234452202140121742105215047432089721e-38'),\n",
       " mpc(real='0.76846405436381346731239387449747675516', imag='-3.2130358855765903989172970536249509209e-38'),\n",
       " mpc(real='0.7741952589633512327470881143065175875', imag='3.2116992782962211866978154203878918534e-41'),\n",
       " mpc(real='0.77997162027725048996375143400898420018', imag='-8.9134111226427298425517933339663713534e-39'),\n",
       " mpc(real='0.78578956778470572528210010859621148931', imag='-1.9627880857873816398109683919725622717e-38'),\n",
       " mpc(real='0.79164532817278648246684416616529813054', imag='-4.438982259779595781414794580094493233e-38'),\n",
       " mpc(real='0.79753492148047080515584050304122330002', imag='-7.5544579525371400897269727689511864687e-38'),\n",
       " mpc(real='0.80345415773607706474799224905281648434', imag='-5.6634145767708504615691116579830834957e-38'),\n",
       " mpc(real='0.80939863414754829064747945663013525758', imag='-3.161362272377231956789554750375663255e-38'),\n",
       " mpc(real='0.81536373290701282884393255267781242623', imag='2.1857878986899998587038470836539319187e-38'),\n",
       " mpc(real='0.82134461967267250228153036475474835111', imag='-4.1660304606894389574818979889007268011e-38'),\n",
       " mpc(real='0.82733624279229357691036450082659810847', imag='-1.5908015435095745670910351917797906447e-38'),\n",
       " mpc(real='0.83333333333333340547580169935293746055', imag='4.4524286826069106301597157450709684056e-39'),\n",
       " mpc(real='0.83933040598496151859288548198293132984', imag='-1.53527415741664988998993136610482929e-38'),\n",
       " mpc(real='0.8453217608968621672071017099309593209', imag='-2.4246699008230344435648256559018316038e-38'),\n",
       " mpc(real='0.85130148651867005278032543168304311899', imag='-9.489661857610111788612006876019949697e-39'),\n",
       " mpc(real='0.85726346350212772052569545687183791147', imag='-3.4670277220090082069504873867694523461e-38'),\n",
       " mpc(real='0.86320136972550004561678959483217374012', imag='-1.2601427425567495092834312339149906916e-38'),\n",
       " mpc(real='0.86910868649638082030977644980759491205', imag='-4.5791964064890916030303677351339701999e-39'),\n",
       " mpc(real='0.87497870598472689115349374071977999901', imag='1.0981193589833798191924447076138766415e-38'),\n",
       " mpc(real='0.88080453993271241865371155453990288695', imag='2.2793052829448178684622489976278330193e-38'),\n",
       " mpc(real='0.88657912968177486825423714939210279402', imag='-2.7293136143343599578864566821305549752e-38'),\n",
       " mpc(real='0.89229525755000182154129452430353743075', imag='-3.6175005386536634269962414381131605676e-38'),\n",
       " mpc(real='0.89794555958477334663327542104338678356', imag='-3.3568707548971019528888360149029430415e-38'),\n",
       " mpc(real='0.90352253970633326918884822720093416582', imag='1.3745989070051149247840232846913004364e-38'),\n",
       " mpc(real='0.90901858524773584545407231425340881232', imag='-1.401342515989823402449463967195705172e-38'),\n",
       " mpc(real='0.91442598388544209668626651685948102195', imag='-7.9894859185839915190659692281632527288e-38'),\n",
       " mpc(real='0.9197369419427822885113467757468111392', imag='-3.2355728634102117428515134290840872648e-38'),\n",
       " mpc(real='0.92494360403563852948381659706857814093', imag='-5.9660087005082371821779762987253424234e-38'),\n",
       " mpc(real='0.93003807401613669759999450044955641921', imag='-4.2588932184749224309264879184618947664e-38'),\n",
       " mpc(real='0.93501243715599435441745526043488204531', imag='-8.1977334911487000867967272140882296694e-38'),\n",
       " mpc(real='0.9398587834965972689062669865033606272', imag='-7.7107976929153065806963816808857577603e-39'),\n",
       " mpc(real='0.94456923227803904378408755463933015395', imag='-3.209196799926652143421246039348524804e-38'),\n",
       " mpc(real='0.94913595734444329799836778683126387057', imag='-5.9043638695923147545020718620476060024e-38'),\n",
       " mpc(real='0.95355121340810093413025716949457367029', imag='-1.2134917124054120590229028271883435901e-37'),\n",
       " mpc(real='0.95780736304051648652123706242646019202', imag='-5.3461146671136418348053559571116324054e-38'),\n",
       " mpc(real='0.96189690424459970736334392908788368161', imag='-1.035524917176694529968042546154858832e-37'),\n",
       " mpc(real='0.96581249844920188619182153148872328698', imag='-4.3944580677766379060602165132732761284e-39'),\n",
       " mpc(real='0.96954699875522516327489259705792765577', imag='-1.5283737482797684487126514877965597194e-37'),\n",
       " mpc(real='0.97309347825187040126408188789773062163', imag='-3.4151419979401888103524655681798041594e-38'),\n",
       " mpc(real='0.97644525821247169412934106667631869261', imag='-1.7636551026257602327445565775747558105e-37'),\n",
       " mpc(real='0.97959593597201797336177708863828904304', imag='-8.3580868747869908270729804761743946447e-38'),\n",
       " mpc(real='0.982539412283091348887707571186247989', imag='-2.0991528311412367686234693291343042143e-37'),\n",
       " mpc(real='0.98526991794374131974543694046687768705', imag='7.3462161044244589168909780932680851631e-38'),\n",
       " mpc(real='0.98778203948991844351955382929033313801', imag='-3.428568154870397203545194706100044296e-37'),\n",
       " mpc(real='0.99007074374663111199985050471450662391', imag='1.8417387277798418886656813716501435698e-37'),\n",
       " mpc(real='0.99213140103604686417210789037313133618', imag='-3.0966180436355563004937761714717442312e-37'),\n",
       " mpc(real='0.99395980684737496507126175982970990927', imag='-3.8556264917541560028275387795787068239e-38'),\n",
       " mpc(real='0.99555220178253433760157233611866400866', imag='3.193625112925594668509206114988832705e-38'),\n",
       " mpc(real='0.99690528960327778523930008294727354396', imag='2.4363663339295096716593336561626846114e-37'),\n",
       " mpc(real='0.99801625321950937210139487314439834465', imag='-8.8547540508042886224387000276014517209e-37'),\n",
       " mpc(real='0.99888276847484907366802014266867262962', imag='4.1643417025125265418132912372806004445e-37'),\n",
       " mpc(real='0.99950301560387412325089084251945741596', imag='4.9779420729766933193459587267876851719e-36'),\n",
       " mpc(real='0.99987568825566618645135834336303765491', imag='-2.3757704275209818267944539186750191579e-35'),\n",
       " mpc(real='0.99999999999999832003871527155544657049', imag='-0.00000000072710221480416364505047295821569860835'),\n",
       " mpc(real='0.99999999999999832003871527155401595513', imag='0.00000000072710221480416364505047295302286570143'),\n",
       " mpc(real='0.9999999999999895361479921741380674772', imag='2.1399191987308373540664660440489506466e-35')]"
      ]
     },
     "execution_count": 8,
     "metadata": {},
     "output_type": "execute_result"
    }
   ],
   "source": [
    "E, ER = mp.eig(mp.matrix(mpA_inv))  # E contains the eigenvalues of A. The columns of ER contain the right eigenvectors of A\n",
    "E"
   ]
  },
  {
   "cell_type": "code",
   "execution_count": 9,
   "metadata": {},
   "outputs": [
    {
     "name": "stdout",
     "output_type": "stream",
     "text": [
      "max(abs(eigenvalues): 0.99999999999999832030305408694200708\n",
      "[mpf('0.55559393079865101002723162934331718511')\n",
      " mpf('0.55570906447700087845990056514115120803')\n",
      " mpf('0.55590098041965205399253936768870000133')\n",
      " mpf('0.55616971828113343530327971959955763416')\n",
      " mpf('0.5565153334503877546505939268011609491')\n",
      " mpf('0.55693789692278714418987236334983682238')\n",
      " mpf('0.55743749513474292802810026946647331832')\n",
      " mpf('0.55801422976027944050941273144277947151')\n",
      " mpf('0.55866821746880042777577572977915662367')\n",
      " mpf('0.55939958964313466656689420163113427388')\n",
      " mpf('0.56020849205680474469554507695810035052')\n",
      " mpf('0.5610950845093194238476826410856050214')\n",
      " mpf('0.56205954041814560191224509680012192469')\n",
      " mpf('0.5631020463658705895727819155937033736')\n",
      " mpf('0.56422280160091922489925148402502239522')\n",
      " mpf('0.56542201749004331466237370109602246646')\n",
      " mpf('0.56669991692065309494758930827025857355')\n",
      " mpf('0.56805673365091197237665851461903863403')\n",
      " mpf('0.56949271160536691503121135852044772789')\n",
      " mpf('0.57100810411373773679295689859691316322')\n",
      " mpf('0.57260317309033944746388886989096648389')\n",
      " mpf('0.57427818815146317654139155128779948392')\n",
      " mpf('0.57603342566789334602626766657627040923')\n",
      " mpf('0.57786916774959227165534109788120877611')\n",
      " mpf('0.57978570115943880393426338472066425633')\n",
      " mpf('0.5817833161527656667119028086995972786')\n",
      " mpf('0.5838623052393016016193208593199877469')\n",
      " mpf('0.58602296186399018367508480281584626404')\n",
      " mpf('0.58826557900302826062533086851309408165')\n",
      " mpf('0.59059044767134454151692275188058948269')\n",
      " mpf('0.59299785533762421560557943153923451139')\n",
      " mpf('0.59548808424288007009859353085503669758')\n",
      " mpf('0.59806140961847600638846502486600221503')\n",
      " mpf('0.60071809779942691506641979093047524076')\n",
      " mpf('0.60345840422873153056029521606296942555')\n",
      " mpf('0.60628257134844431281587497747250778695')\n",
      " mpf('0.60919082637316096848692840607492867451')\n",
      " mpf('0.61218337894158251673705294765698211831')\n",
      " mpf('0.61526041864183764047359224137826993018')\n",
      " mpf('0.61842211240628549332253488523886029211')\n",
      " mpf('0.62166860177159444949277293268435152869')\n",
      " mpf('0.62500000000000003052975641252833274093')\n",
      " mpf('0.62841638905779121589199716745987982928')\n",
      " mpf('0.63191781644726259480468762088022630248')\n",
      " mpf('0.63550429188860465114123589554819290605')\n",
      " mpf('0.63917578384849044795416702675539962943')\n",
      " mpf('0.64293221591245889314271858348962542844')\n",
      " mpf('0.64677346299859765209335966846555868853')\n",
      " mpf('0.65069934741049786867827537231031190793')\n",
      " mpf('0.65470963472799359280202798078725831555')\n",
      " mpf('0.65880402953481677837726801205583268573')\n",
      " mpf('0.66298217098299961686866624514217499113')\n",
      " mpf('0.66724362819464558691424182373142296482')\n",
      " mpf('0.67158789550257472360675265180662999882')\n",
      " mpf('0.67601438753233298302518518325927909813')\n",
      " mpf('0.6805224341291458084377541068889018131')\n",
      " mpf('0.68511127513459748129746332313751071917')\n",
      " mpf('0.68978005501913562197217072000591179716')\n",
      " mpf('0.69452781737793890433138351125458806623')\n",
      " mpf('0.69935349929924969584651970830409032045')\n",
      " mpf('0.70425592561596523069567734610205382048')\n",
      " mpf('0.70923380305310347064160702206144613161')\n",
      " mpf('0.71428571428571433170384492191185691249')\n",
      " mpf('0.71941011192389350213379606430712898113')\n",
      " mpf('0.72460531244377320800800116836504817628')\n",
      " mpf('0.72986949008570883968758697621444527042')\n",
      " mpf('0.7352006707433472222956699333767455233')\n",
      " mpf('0.74059672586984417706309488856400617645')\n",
      " mpf('0.74605536643018609518464418257328950562')\n",
      " mpf('0.75157413693135002424136244994099218708')\n",
      " mpf('0.75715040956489375662379272346689597039')\n",
      " mpf('0.76278137849948287780756072352058018238')\n",
      " mpf('0.76846405436381346731239387449747675516')\n",
      " mpf('0.7741952589633512327470881143065175875')\n",
      " mpf('0.77997162027725048996375143400898420018')\n",
      " mpf('0.78578956778470572528210010859621148931')\n",
      " mpf('0.79164532817278648246684416616529813054')\n",
      " mpf('0.79753492148047080515584050304122330002')\n",
      " mpf('0.80345415773607706474799224905281648434')\n",
      " mpf('0.80939863414754829064747945663013525758')\n",
      " mpf('0.81536373290701282884393255267781242623')\n",
      " mpf('0.82134461967267250228153036475474835111')\n",
      " mpf('0.82733624279229357691036450082659810847')\n",
      " mpf('0.83333333333333340547580169935293746055')\n",
      " mpf('0.83933040598496151859288548198293132984')\n",
      " mpf('0.8453217608968621672071017099309593209')\n",
      " mpf('0.85130148651867005278032543168304311899')\n",
      " mpf('0.85726346350212772052569545687183791147')\n",
      " mpf('0.86320136972550004561678959483217374012')\n",
      " mpf('0.86910868649638082030977644980759491205')\n",
      " mpf('0.87497870598472689115349374071977999901')\n",
      " mpf('0.88080453993271241865371155453990288695')\n",
      " mpf('0.88657912968177486825423714939210279402')\n",
      " mpf('0.89229525755000182154129452430353743075')\n",
      " mpf('0.89794555958477334663327542104338678356')\n",
      " mpf('0.90352253970633326918884822720093416582')\n",
      " mpf('0.90901858524773584545407231425340881232')\n",
      " mpf('0.91442598388544209668626651685948102195')\n",
      " mpf('0.9197369419427822885113467757468111392')\n",
      " mpf('0.92494360403563852948381659706857814093')\n",
      " mpf('0.93003807401613669759999450044955641921')\n",
      " mpf('0.93501243715599435441745526043488204531')\n",
      " mpf('0.9398587834965972689062669865033606272')\n",
      " mpf('0.94456923227803904378408755463933015395')\n",
      " mpf('0.94913595734444329799836778683126387057')\n",
      " mpf('0.95355121340810093413025716949457367029')\n",
      " mpf('0.95780736304051648652123706242646019202')\n",
      " mpf('0.96189690424459970736334392908788368161')\n",
      " mpf('0.96581249844920188619182153148872328698')\n",
      " mpf('0.96954699875522516327489259705792765577')\n",
      " mpf('0.97309347825187040126408188789773062163')\n",
      " mpf('0.97644525821247169412934106667631869261')\n",
      " mpf('0.97959593597201797336177708863828904304')\n",
      " mpf('0.982539412283091348887707571186247989')\n",
      " mpf('0.98526991794374131974543694046687768705')\n",
      " mpf('0.98778203948991844351955382929033313801')\n",
      " mpf('0.99007074374663111199985050471450662391')\n",
      " mpf('0.99213140103604686417210789037313133618')\n",
      " mpf('0.99395980684737496507126175982970990927')\n",
      " mpf('0.99555220178253433760157233611866400866')\n",
      " mpf('0.99690528960327778523930008294727354396')\n",
      " mpf('0.99801625321950937210139487314439834465')\n",
      " mpf('0.99888276847484907366802014266867262962')\n",
      " mpf('0.99950301560387412325089084251945741596')\n",
      " mpf('0.99987568825566618645135834336303765491')\n",
      " mpf('0.99999999999999832030305408694200707923')\n",
      " mpf('0.99999999999999832030305408694057646387')\n",
      " mpf('0.9999999999999895361479921741380674772')]\n"
     ]
    }
   ],
   "source": [
    "arr = [mp.fabs(x) for x in E]\n",
    "print(f\"max(abs(eigenvalues): {max(arr)}\") \n",
    "print(np.array(arr))"
   ]
  }
 ],
 "metadata": {
  "interpreter": {
   "hash": "f8a2746d3ab3426f08e2132a9e8ad3a7daf862104ae8de960108f6fdcdfbaacf"
  },
  "kernelspec": {
   "display_name": "Python 3",
   "language": "python",
   "name": "python3"
  },
  "language_info": {
   "codemirror_mode": {
    "name": "ipython",
    "version": 3
   },
   "file_extension": ".py",
   "mimetype": "text/x-python",
   "name": "python",
   "nbconvert_exporter": "python",
   "pygments_lexer": "ipython3",
   "version": "3.10.6"
  },
  "metadata": {
   "interpreter": {
    "hash": "f8a2746d3ab3426f08e2132a9e8ad3a7daf862104ae8de960108f6fdcdfbaacf"
   }
  }
 },
 "nbformat": 4,
 "nbformat_minor": 4
}
