{
 "cells": [
  {
   "cell_type": "markdown",
   "id": "e8fa840d-4549-48d3-9179-53014a6a53f4",
   "metadata": {},
   "source": [
    "# Numerical libraries\n",
    "\n",
    "Here, we will observe the speedup difference between between using optimized numerical libraries and naive implementations.\n",
    "\n",
    "Conclusion: Do not reinvent the wheel."
   ]
  },
  {
   "cell_type": "code",
   "execution_count": 1,
   "id": "0751136f-3c8d-4708-ba80-cf129df2eaa8",
   "metadata": {},
   "outputs": [
    {
     "name": "stdout",
     "output_type": "stream",
     "text": [
      "1.040032148361206 seconds naive (interpreted)\n",
      "0.2577986717224121 seconds jit\n",
      "0.00031256675720214844 seconds numpy @ (aka matmul)\n"
     ]
    }
   ],
   "source": [
    "import sys, numpy\n",
    "from time import *\n",
    "import numba\n",
    "import numpy as np\n",
    "\n",
    "n = 128\n",
    "A = numpy.random.rand(n, n)\n",
    "B = numpy.random.rand(n, n)\n",
    "C = numpy.zeros([n, n])\n",
    "\n",
    "def my_matmul(A, B, C):\n",
    "    for i in range(n):\n",
    "        for j in range(n):\n",
    "            for k in range(n):\n",
    "                C[i][j] += A[i][k] * B[k][j]\n",
    "    return C\n",
    "\n",
    "\n",
    "start = time()\n",
    "C = my_matmul(A,B,C)\n",
    "end = time()\n",
    "print(end - start, 'seconds naive (interpreted)')\n",
    "\n",
    "\n",
    "@numba.njit\n",
    "def my_jit_matmul(A, B, C):\n",
    "    for i in range(n):\n",
    "        for j in range(n):\n",
    "            for k in range(n):\n",
    "                C[i][j] += A[i][k] * B[k][j]\n",
    "    return C\n",
    "\n",
    "\n",
    "start = time()\n",
    "C = my_jit_matmul(A,B,C)\n",
    "end = time()\n",
    "print(end - start, 'seconds jit')\n",
    "\n",
    "\n",
    "start = time()\n",
    "C = A @ B\n",
    "end = time()\n",
    "print(end - start, 'seconds numpy @ (aka matmul)')"
   ]
  },
  {
   "cell_type": "code",
   "execution_count": 2,
   "id": "b84bebf0-b222-40d7-848a-1920b52ff0a9",
   "metadata": {},
   "outputs": [],
   "source": [
    "# %timeit -r 1 -n 2 my_matmul(A,B,C)"
   ]
  },
  {
   "cell_type": "code",
   "execution_count": 3,
   "id": "fa51d0a5-ea56-4ea7-8f86-8e28d0b77a70",
   "metadata": {},
   "outputs": [],
   "source": [
    "# %timeit -r 7 -n 100 my_jit_matmul(A,B,C)"
   ]
  },
  {
   "cell_type": "code",
   "execution_count": 4,
   "id": "04d71ab0-25b7-4a30-904f-8e4ba2b3ac5f",
   "metadata": {},
   "outputs": [],
   "source": [
    "# %timeit -r 7 -n 100 C = A @ B"
   ]
  }
 ],
 "metadata": {
  "kernelspec": {
   "display_name": "Python 3 (ipykernel)",
   "language": "python",
   "name": "python3"
  },
  "language_info": {
   "codemirror_mode": {
    "name": "ipython",
    "version": 3
   },
   "file_extension": ".py",
   "mimetype": "text/x-python",
   "name": "python",
   "nbconvert_exporter": "python",
   "pygments_lexer": "ipython3",
   "version": "3.10.12"
  }
 },
 "nbformat": 4,
 "nbformat_minor": 5
}
