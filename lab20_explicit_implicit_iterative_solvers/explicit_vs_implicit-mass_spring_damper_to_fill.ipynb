{
 "cells": [
  {
   "cell_type": "markdown",
   "metadata": {
    "slideshow": {
     "slide_type": "slide"
    }
   },
   "source": [
    "[@ggruszczynski](https://github.com/ggruszczynski)\n",
    "\n",
    "## Explicit vs Implicit scheme, eigenvalues and stability"
   ]
  },
  {
   "attachments": {
    "Mass_spring_damper.png": {
     "image/png": "[encoded data removed]"
    }
   },
   "cell_type": "markdown",
   "metadata": {
    "slideshow": {
     "slide_type": "slide"
    }
   },
   "source": [
    "\n",
    "Consider a classical problem: mass on a spring with a damper.\n",
    "\n",
    "<img src=\"Mass_spring_damper.png\" style=\"height:200px\">\n",
    "\n",
    "It can be described by a second order, homogeneus, linear differatial equation with constant coefficients:\n",
    "\n",
    "$$ \n",
    "m \\ddot{x} + c \\dot{x} + kx = 0 \\Leftrightarrow \\\\ \n",
    "%\\Leftrightarrow m \\ddot{x} = - c \\dot{x} - kx  \\\\\n",
    "\\Leftrightarrow \\ddot{x} = - \\frac{c}{m} \\dot{x} - \\frac{k}{m} x \n",
    "$$\n",
    "\n",
    "\n",
    "Rewrite it \n",
    "\n",
    "$$\n",
    "\\underbrace{\n",
    "\\begin{bmatrix}\n",
    "\\ddot{x} \\\\\n",
    "\\dot{x}\n",
    "\\end{bmatrix}\n",
    "}_{\\boldsymbol{\\dot{z}}}\n",
    "=\n",
    "\\underbrace{\n",
    "\\begin{bmatrix}\n",
    "- \\frac{c}{m} & - \\frac{k}{m}\\\\\n",
    "            1 & 0 \n",
    "\\end{bmatrix}\n",
    "}_{\\mathbb{A}}\n",
    "\\underbrace{\n",
    "\\begin{bmatrix}\n",
    "\\dot{x}\\\\\n",
    "x\n",
    "\\end{bmatrix}\n",
    "}_{\\boldsymbol{z}}\n",
    "$$\n",
    "\n",
    "\n",
    "Introducing the variables $ z $ and $ \\mathbb{A}$ we can express the equation as\n",
    "\n",
    "$$\n",
    "\\boldsymbol{\\dot{z}} = \\mathbb{A}\\boldsymbol{z}\n",
    "$$\n"
   ]
  },
  {
   "cell_type": "markdown",
   "metadata": {},
   "source": [
    "### Dictionary - Słownik\n",
    "\n",
    "* spring and damper - sprężyna i tłumik\n",
    "* second order - drugiego rzędu\n",
    "* homogeneus - jednorodne\n",
    "* linear differatial equation - linowe równanie różniczkowe\n",
    "* with constant coefficients - ze stałymi współczninikami\n",
    "* explicit - jawny\n",
    "* implicit - uwikłany, niejawny\n",
    "* system of equations - układ równań\n",
    "* determinant of a matrix - wyznacznik macierzy\n",
    "* time step - krok czasowy\n",
    "* stability condition - warunek stabilności\n",
    "* derivative - pochodna\n",
    "* unconditionaly stable - bezwarunkowo stabilne\n",
    "* frequency - częstotliwość\n",
    "* eigenvalue and eigenvector of a matrix - wartość własna i wektor własny macierzy"
   ]
  },
  {
   "cell_type": "markdown",
   "metadata": {
    "tags": []
   },
   "source": [
    "### Some repetition\n",
    "\n",
    "* [Eigenvectors and eigenvalues](https://www.youtube.com/watch?v=PFDu9oVAE-g&list=PLZHQObOWTQDPD3MizzM2xVFitgF8hE_ab&index=14&ab_channel=3Blue1Brown).\n",
    "\n",
    "* The [determinant](https://www.youtube.com/watch?v=Ip3X9LOh2dk&list=PLZHQObOWTQDPD3MizzM2xVFitgF8hE_ab&index=6&ab_channel=3Blue1Brown).\n",
    "\n",
    "* The [stability and eigenvalues](https://www.youtube.com/watch?v=h7nJ6ZL4Lf0&t=2s&ab_channel=SteveBrunton).\n",
    "\n",
    "* The [real and complex eigenvalues](https://tutorial.math.lamar.edu/classes/de/ComplexEigenvalues.aspx).\n",
    "\n",
    "* How to [rise e to the power of a matrix](https://www.youtube.com/watch?v=l61k97RFsfs&list=PLF4lF3MJpif70eHR2Bd-USQ3M84Cp8B_Y&index=1&t=517s&ab_channel=DrPeyamShow).\n",
    "\n"
   ]
  },
  {
   "cell_type": "markdown",
   "metadata": {},
   "source": [
    "## Simple, linear ODE\n",
    "\n",
    "Simple ODE, \n",
    "$$\n",
    "\\dot{z} = \\lambda z\n",
    "$$\n",
    "where $\\lambda = a \\pm i b$, and $z(0)=z_0$,\n",
    "has a simple solution ;)\n",
    "$$\n",
    "z(t) = e^{\\lambda t} z_0 = e^{a t} [cos(bt) \\pm i sin(bt)]  z_0 \n",
    "$$\n",
    "\n",
    "It is easy to observe, that the **continous** solution is stable if  $Re(\\lambda) < 0$.\n"
   ]
  },
  {
   "cell_type": "markdown",
   "metadata": {},
   "source": [
    "\n",
    "## The linear system of PDE\n",
    "\n",
    "\n",
    "$$\n",
    "\\boldsymbol{\\dot{z}} = \\mathbb{A}\\boldsymbol{z}\n",
    "$$\n",
    "\n",
    "One can decompose the $\\mathbb{A}$ into two matrices, containing the eigevalues ($\\mathbb{D}$) and eigenvectors ($\\mathbb{T}$).\n",
    "$$\n",
    "\\mathbb{A} = \\mathbb{T} \\mathbb{D} \\mathbb{T}^{-1}\n",
    "$$\n",
    "\n",
    "Then, the analytical solution can be find as [1, chapter 8]\n",
    "\n",
    "$$\n",
    "\\boldsymbol{z}(t) = e^{\\mathbb{A} t} \\boldsymbol{z}_0 = ... = \\mathbb{T} e^{\\mathbb{D} t} \\mathbb{T}^{-1} \\boldsymbol{z}_0\n",
    "$$\n",
    "\n",
    "where \n",
    "$$\n",
    "\\mathbb{D} = \n",
    "\\begin{bmatrix}\n",
    "\\lambda_1 & 0\\\\\n",
    "0 & \\lambda_2 \n",
    "\\end{bmatrix}\n",
    "$$\n",
    "\n",
    "and\n",
    "$$\n",
    "e^{\\mathbb{D} t} = \n",
    "\\begin{bmatrix}\n",
    "e^{\\lambda_1 t} & 0 \\\\\n",
    "0 & e^{\\lambda_2 t}\n",
    "\\end{bmatrix}\n",
    "$$\n",
    "\n",
    "Let us consider one of the eigenvalues, $\\lambda = a \\pm i b$,\n",
    "$$\n",
    "e^{\\lambda t} = e^{a t} [cos(bt) \\pm i sin(bt)]\n",
    "$$\n",
    "\n",
    "Again, for the **continous** system of ODE to be stable, each of the eigenvalues must be negative, $ Re(\\lambda_k) < 0$\n",
    "\n",
    "---\n",
    "[1] \"Data-Driven Science and Engineering\", Steven L. Brunton and J. Nathan Kutz, 2019"
   ]
  },
  {
   "cell_type": "markdown",
   "metadata": {},
   "source": [
    "## General formula for eigenvalues of a  matrix\n",
    "\n",
    "The eigenvalues of a real, two-dimensional matrix\n",
    "\n",
    "$$\n",
    "\\mathbb{A}= \n",
    "\\begin{bmatrix}\n",
    " a & b \\\\\n",
    " c & d \n",
    "\\end{bmatrix}\n",
    "$$\n",
    "\n",
    "are \n",
    "$$\n",
    "\\lambda=\\frac{1}{2}(a+d) \\pm \\sqrt{\\left(\\frac{1}{2}(a-d)\\right)^{2}+b c}\n",
    "$$\n",
    "\n",
    "Note that the eigenvalues are always real if b and c have the same sign, since the quantity under the radical must be positive.\n",
    "\n",
    "<https://en.wikipedia.org/wiki/Eigenvalues_and_eigenvectors>"
   ]
  },
  {
   "cell_type": "markdown",
   "metadata": {},
   "source": [
    "## Eigenvalues for the continous system\n",
    "For the continous system, the $\\mathbb{A}$ matrix read $\\mathbb{A} =\n",
    "\\begin{bmatrix}\n",
    "- \\frac{c}{m} & - \\frac{k}{m}\\\\\n",
    "            1 & 0 \n",
    "\\end{bmatrix}.\n",
    "$\n",
    "Its eigenvalues can be computed as follows,\n",
    "\n",
    "\\begin{align*}\n",
    "\\lambda_{anal} &=  \\frac{1}{2}(-\\frac{c}{m}+0) \\pm \\sqrt{ \\left(\\frac{1}{2}\\left(-\\frac{c}{m}-0\\right)\\right)^{2} -\\frac{k}{m} } \\\\\n",
    "&= -\\frac{c}{2m} \\pm -\\frac{1}{2m} \\sqrt{ c^2 -4km} \\\\\n",
    "&= -\\frac{c \\pm \\sqrt{ c^2 -4km}}{2m}\n",
    "\\end{align*}\n",
    "\n",
    "### Questions:\n",
    "\n",
    "- what happens if the eigenvalue is real and has positive/negative sign?\n",
    "- what happens if the eigenvalue has only the imaginary component?\n",
    "- what happens if the eigenvalue is complex?"
   ]
  },
  {
   "cell_type": "markdown",
   "metadata": {},
   "source": [
    "## Let us check the formula for eigenvalues of continous system with sympy"
   ]
  },
  {
   "cell_type": "code",
   "execution_count": null,
   "metadata": {},
   "outputs": [],
   "source": [
    "from sympy.solvers import solve\n",
    "from sympy import Symbol, symbols, Matrix, simplify\n",
    "from sympy.utilities.lambdify import lambdify\n",
    "from sympy import init_printing\n",
    "\n",
    "\n",
    "from ipywidgets import interact, interactive, fixed, interact_manual\n",
    "import ipywidgets as widgets\n",
    "import numpy as np\n",
    "%matplotlib widget\n",
    "import matplotlib.pyplot as plt\n",
    "import matplotlib as mpl\n",
    "import numpy as np\n",
    "\n",
    "init_printing()\n",
    "\n",
    "dt_sym = Symbol('dt', real=True, positive=True)\n",
    "c_sym = Symbol('c', real=True, positive=True)\n",
    "k_sym = Symbol('k', real=True, positive=True)\n",
    "m_sym = Symbol('m', real=True, positive=True)\n",
    "\n",
    "A_sym = # Matrix([[..., ...], [..., ...]])\n",
    "\n",
    "\n",
    "a00, a10, a01, a11 = symbols('A B C D')\n",
    "A_sym_general = Matrix([[a00, a10], [a01, a11]])\n",
    "general_eigenvalues = A_sym_general.eigenvals()\n",
    "general_eigenvalues"
   ]
  },
  {
   "cell_type": "code",
   "execution_count": null,
   "metadata": {},
   "outputs": [],
   "source": [
    "simplify(list(A_sym.eigenvals().keys())[0])\n",
    "\n",
    "# alternative way of doing the same\n",
    "#list(general_eigenvalues.keys())[0].subs([(a00, -c_sym/m_sym), (a10, -k_sym/m_sym), (a01, 1), (a11, 0)])"
   ]
  },
  {
   "cell_type": "code",
   "execution_count": null,
   "metadata": {},
   "outputs": [],
   "source": [
    "simplify(list(A_sym.eigenvals().keys())[1])"
   ]
  },
  {
   "cell_type": "markdown",
   "metadata": {},
   "source": [
    "## Energy of the system \n",
    "\n",
    "The total Energy of the system can be written as\n",
    "\n",
    "$$\n",
    "E_{tot} = E_{pot} + E_{kin} = \\frac{1}{2}kx^2 + \\frac{1}{2}m \\dot{x}^2 \n",
    "$$\n",
    "\n",
    "In case of zero dumping, it shall be constant. Check it for each scheme."
   ]
  },
  {
   "cell_type": "markdown",
   "metadata": {
    "slideshow": {
     "slide_type": "slide"
    }
   },
   "source": [
    "## Explicit Scheme\n",
    "\n",
    "\n",
    "$$\n",
    "\\frac{\\boldsymbol{z}_{t+1}-\\boldsymbol{z}_{t}}{\\Delta t} = \\mathbb{A}\\boldsymbol{z}_{t}\n",
    "\\Leftrightarrow\n",
    "$$\n",
    "\n",
    "\n",
    "$$\n",
    "\\Leftrightarrow\n",
    "\\boldsymbol{z}_{t+1} = \n",
    "\\underbrace{(\\mathbb{1} + \\Delta t \\mathbb{A})}_{\\mathbb{M}_E}\\boldsymbol{z}_t\n",
    "$$\n",
    "\n",
    "In each step the result is multiplied by $ \\mathbb{M}_E\n",
    "=\n",
    "\\begin{bmatrix}\n",
    "1 - \\Delta t \\frac{c}{m} & - \\Delta t \\frac{k}{m}\\\\\n",
    "                \\Delta t & 1\n",
    "\\end{bmatrix}$.\n",
    "\n",
    "At the $k-th$ time step, $\\boldsymbol{z}_k = (\\mathbb{M}_E)^k \\boldsymbol{z}_0$.\n",
    "\n",
    "Notice, that each of the dicrete 'modes' is governed by $(e^{\\lambda t})^k$.\n",
    "\n",
    "This leads to the conclusion, that the solution of a **discrete** system is asymptotically stable if all the eigenvalues of $\\mathbb{M}_E$ have a modulus smaller than one, $|\\lambda| < 1 $.\n"
   ]
  },
  {
   "cell_type": "markdown",
   "metadata": {
    "tags": []
   },
   "source": [
    "## Eigenvalues for the explicit scheme\n"
   ]
  },
  {
   "cell_type": "code",
   "execution_count": null,
   "metadata": {},
   "outputs": [],
   "source": [
    "# using sympy\n",
    "M_explicit_sym = # Matrix([[..., ...], [..., ...]]) +  ...*...\n",
    "\n",
    "M_explicit_eigenvalues = M_explicit_sym.eigenvals()\n",
    "simplify(list(M_explicit_eigenvalues.keys())[0])  # there are two eigenvalues: check [0] and [1]"
   ]
  },
  {
   "cell_type": "markdown",
   "metadata": {},
   "source": [
    "one can simplify further using hand and pencil ;)\n",
    "\n",
    "\\begin{align*}\n",
    "\\lambda_{E} &=  \\frac{1}{2}\\left(2-\\frac{c}{m}\\right) \\pm \\sqrt{ \\left(\\frac{1}{2}\\left(-\\frac{\\Delta t c}{m}\\right)\\right)^{2} -\\frac{(\\Delta t)^2k}{m} } \\\\\n",
    "&= 1 -\\frac{\\Delta t c}{2m} \\pm -\\frac{\\Delta t}{2m} \\sqrt{ c^2 - 4km} \\\\\n",
    "&= 1 - \\frac{\\Delta t }{2m} \\left(c \\pm  \\sqrt{ c^2 - 4km}\\right)\n",
    "\\end{align*}"
   ]
  },
  {
   "cell_type": "code",
   "execution_count": null,
   "metadata": {},
   "outputs": [],
   "source": [
    "# properties of the system\n",
    "m = 1           # mass\n",
    "c = 0*1e-2      # damping coefficient\n",
    "k = 1e-0        # stiffnes of the spring"
   ]
  },
  {
   "cell_type": "code",
   "execution_count": null,
   "metadata": {},
   "outputs": [],
   "source": [
    "explicit_eigenvalue = list(M_explicit_eigenvalues.keys())[0].subs([(m_sym, m), (k_sym, k), (c_sym, c)])\n",
    "explicit_eigenvalue = simplify(abs(explicit_eigenvalue))\n",
    "explicit_eigenvalue"
   ]
  },
  {
   "cell_type": "code",
   "execution_count": null,
   "metadata": {},
   "outputs": [],
   "source": [
    "def plot_lambda(x,y, xlim, ylim):\n",
    "    plt.clf() # Used to clear the current Figure’s state without closing it.\n",
    "    plt.close()\n",
    "    plt.plot(x,y)\n",
    "    fig = mpl.pyplot.gcf()\n",
    "    fig.set_size_inches(8,6)\n",
    "    ax = plt.gca()\n",
    "    ax.yaxis.set_major_formatter(mpl.ticker.StrMethodFormatter('{x:,.5f}'))\n",
    "\n",
    "    plt.title(r'$|\\lambda(dt)|$')\n",
    "    plt.xlabel('dt')\n",
    "    plt.ylabel(r'$|\\lambda|$')\n",
    "    plt.xlim(xlim)\n",
    "    plt.ylim(ylim)\n",
    "    # # plt.yscale('log')\n",
    "\n",
    "    plt.grid()\n",
    "    plt.show()"
   ]
  },
  {
   "cell_type": "code",
   "execution_count": null,
   "metadata": {},
   "outputs": [],
   "source": [
    "# https://docs.sympy.org/latest/modules/numeric-computation.html\n",
    "f_ee = lambdify(dt_sym, explicit_eigenvalue, \"numpy\")\n",
    "x_ee = np.linspace(0, 10, 1000000)\n",
    "y_ee = f_ee(x_ee)\n",
    "\n",
    "# plot_lambda(x_ee, y_ee, xlim=[0, 0.015], ylim=[0.99998,1.00001])\n",
    "plot_lambda(x_ee,y_ee, xlim=[0,10], ylim=[0,10])  # see full scale"
   ]
  },
  {
   "cell_type": "code",
   "execution_count": null,
   "metadata": {
    "slideshow": {
     "slide_type": "-"
    }
   },
   "outputs": [],
   "source": [
    "def make_plots(states,time,m,k):\n",
    "    plt.clf() # Used to clear the current Figure’s state without closing it.\n",
    "    plt.close()\n",
    "    fig, (ax1, ax2, ax3) = plt.subplots(1, 3, figsize=(12, 4))\n",
    "    fig.suptitle('Mass on a spring with damper')\n",
    "\n",
    "    ax1.plot(time, states[:,0], linestyle=\"-\", color=\"green\", label='x')\n",
    "    ax1.plot(time, states[:,1], linestyle=\"-\", color=\"blue\", label=r\"$\\dot{x}$\")\n",
    "    ax1.set(xlabel='time', ylabel=r'$x, \\dot{x}$')\n",
    "    ax1.set_title(r'$x(t), \\dot{x}(t)$')\n",
    "    ax1.legend([\"x\",r\"$\\dot{x}$\"],loc=\"upper right\") \n",
    "    ax1.grid(which='both')\n",
    "\n",
    "    ax2.plot(states[:,0], states[:,1], color=\"red\")\n",
    "    ax2.plot(states[0,0], states[0,1], marker='x', color='black', markersize=8)\n",
    "    ax2.set(xlabel='x', ylabel=r\"$\\dot{x}$\")\n",
    "    ax2.set_title(r'trajectory: $\\dot{x}$(x)')\n",
    "    ax2.grid(which='both')\n",
    "\n",
    "    E_pot = 0.5 * k* states[:,1]**2\n",
    "    E_kin = 0.5 * m* states[:,0]**2\n",
    "    E_total = E_kin + E_pot\n",
    "\n",
    "    ax3.plot(time, E_kin, label='E_{kinetic}', linestyle=\"-\",color=\"green\")\n",
    "    ax3.plot(time, E_pot, label='E_{potential}', linestyle=\"-\", color=\"blue\")\n",
    "    ax3.plot(time, E_total, label='E_{total}',marker='', linestyle=\":\", linewidth=2, color=\"red\",  markevery=int(len(E_total)/75) )\n",
    "    ax3.set(xlabel='time', ylabel='E')\n",
    "    ax3.set_title('Energy(t)')\n",
    "    ax3.legend([r\"$E_{kinetic}$\",r\"$E_{potential}$\",r\"$E_{total}$\"],loc=\"upper right\")\n",
    "    ax3.grid(which='both')\n",
    "    # ax3.set_yscale('log')\n",
    "\n",
    "    plt.show()"
   ]
  },
  {
   "cell_type": "code",
   "execution_count": null,
   "metadata": {},
   "outputs": [],
   "source": [
    "# time step - solver settings\n",
    "T_end = 20              # [s] time to be simulated \n",
    "N = int(1e3)            # number of time steps\n",
    "dt = T_end/N            # time step length\n",
    "time = dt*np.arange(N)\n",
    "IC = np.array([1,0])    # IC [position,speed]"
   ]
  },
  {
   "cell_type": "code",
   "execution_count": null,
   "metadata": {
    "slideshow": {
     "slide_type": "slide"
    }
   },
   "outputs": [],
   "source": [
    "# prepare data for computations\n",
    "\n",
    "all_states_explicit = np.zeros([N,2])\n",
    "all_states_explicit[0] = IC\n",
    "\n",
    "# prepare data for computations\n",
    "# A = np.array([\n",
    "#     [..., ...],\n",
    "#     [..., ...]])\n",
    "\n",
    "# M_explicit = np.eye(2) + ...*A\n",
    "\n",
    "\n",
    "w_explicit, v_explicit = np.linalg.eig(M_explicit)  # calculate the eigenvalues and eigenvectors\n",
    "\n",
    "print(f\"dt: {dt}\")\n",
    "print(f\"eigenvalues of M_explicit: {w_explicit}\")\n",
    "print(f\"modulus of the eigenvalues of M_explicit: {np.abs(w_explicit)}\")\n",
    "print(f\"eigenvectors of M_explicit: \\n {v_explicit}\")\n",
    "\n",
    "# compute\n",
    "for i in range(0,N-1):\n",
    "     # all_states_explicit[i+1] = ... @ ...\n",
    "\n",
    "make_plots(all_states_explicit, time,m,k)\n"
   ]
  },
  {
   "cell_type": "markdown",
   "metadata": {
    "slideshow": {
     "slide_type": "slide"
    }
   },
   "source": [
    "# Impilicit Scheme\n",
    "\n",
    "In the implicit scheme, the derivative $\\boldsymbol{\\dot{z}}_{t+1}$ is taken from the future.\n",
    "\n",
    "\n",
    "$$\n",
    "\\frac{\\boldsymbol{z}_{t+1}-\\boldsymbol{z}_{t}}{\\Delta t} = \\mathbb{A}\\boldsymbol{z}_{t+1}\n",
    "\\Leftrightarrow\n",
    "$$\n",
    "\n",
    "\n",
    "$$\n",
    "\\Leftrightarrow \\boldsymbol{z}_{t+1} = \\underbrace{(\\mathbb{1}  - \\Delta t \\mathbb{A} )^{-1}}_{\\mathbb{M}_I} \\boldsymbol{z}_t\n",
    "$$\n",
    "\n",
    "To calculate next iteration, a system of equations, $(\\mathbb{1}  - \\Delta t \\mathbb{A} )^{-1}$, has to be solved.\n",
    "\n",
    "Let us calculate the eigenvalues of $(\\mathbb{M}_I)^{-1}$,\n",
    "\n",
    "$$\n",
    "\\mathbb{M}_I \n",
    "= \n",
    "\\begin{bmatrix}\n",
    "1 + \\Delta t \\frac{c}{m} &  \\Delta t \\frac{k}{m}\\\\\n",
    "               -\\Delta t & 1 \n",
    "\\end{bmatrix}\n",
    "^{-1}\n",
    "$$"
   ]
  },
  {
   "cell_type": "code",
   "execution_count": null,
   "metadata": {},
   "outputs": [],
   "source": [
    "M_implicit_sym = # Matrix([[..., ...], [..., ...]]) -  ...*...\n",
    "M_implicit_sym = M_implicit_sym.inv()\n",
    "M_implicit_eigenvalues = M_implicit_sym.eigenvals()\n",
    "simplify(list(M_implicit_eigenvalues.keys())[0])  # there are two eigenvalues: check [0] and [1]"
   ]
  },
  {
   "cell_type": "code",
   "execution_count": null,
   "metadata": {},
   "outputs": [],
   "source": [
    "implicit_eigenvalue = list(M_implicit_eigenvalues.keys())[0].subs([(m_sym, m), (k_sym, k), (c_sym, c)])\n",
    "implicit_eigenvalue =simplify(abs(implicit_eigenvalue))\n",
    "implicit_eigenvalue"
   ]
  },
  {
   "cell_type": "markdown",
   "metadata": {},
   "source": [
    "Notice that the expression above is always < 1.\n",
    "This means, that the implicit scheme is unconditionaly stable."
   ]
  },
  {
   "cell_type": "code",
   "execution_count": null,
   "metadata": {},
   "outputs": [],
   "source": [
    "f_ie = lambdify(dt_sym, implicit_eigenvalue, \"numpy\")\n",
    "x_ie = np.linspace(0, 10, 100000)\n",
    "y_ie = f_ie(x_ie)\n",
    "plot_lambda(x_ie,y_ie, xlim=[0, 10], ylim=[0.0,1.5])"
   ]
  },
  {
   "cell_type": "code",
   "execution_count": null,
   "metadata": {
    "slideshow": {
     "slide_type": "slide"
    }
   },
   "outputs": [],
   "source": [
    "# M_implicit = np.linalg.inv(...)\n",
    "\n",
    "\n",
    "# print(f\"determinant M_implicit: {np.linalg.det(M_implicit)}\") \n",
    "w_implicit, v_implicit = np.linalg.eig(M_implicit)  # calculate the eigenvalues and eigenvectors\n",
    "\n",
    "print(f\"eigenvalues of M_implicit: {w_implicit}\")\n",
    "print(f\"modulus of the eigenvalues of M_implicit: {np.abs(w_implicit)}\")\n",
    "print(f\"eigenvectors of M_implicit: \\n {v_implicit}\")\n",
    "\n",
    "all_states_implicit = np.zeros([N,2])\n",
    "all_states_implicit[0] = IC\n",
    "\n",
    "for i in range(0,N-1):\n",
    "    # all_states_implicit[i+1] = ...@...\n",
    "\n",
    "make_plots(all_states_implicit, time,m,k)"
   ]
  },
  {
   "cell_type": "markdown",
   "metadata": {},
   "source": [
    "# Midpoint Scheme\n",
    "\n",
    "In the midpoint scheme, the derivative of $\\dot{\\boldsymbol{z}}$ is expressed as an average of current and future state.\n",
    "$$\n",
    "\\frac{\\boldsymbol{z}_{t+1}-\\boldsymbol{z}_{t}}{\\Delta t} = \\mathbb{A} \\frac{\\boldsymbol{z}_{t+1}+\\boldsymbol{z}_{t}}{2}\n",
    "\\Leftrightarrow\n",
    "$$\n",
    "\n",
    "\n",
    "$$\n",
    "\\Leftrightarrow \n",
    "\\left(\\mathbb{1} - \\frac{\\Delta t}{2} \\mathbb{A} \\right) \n",
    "\\boldsymbol{z}_{t+1} \n",
    "= \n",
    "\\left(\\mathbb{1} + \\frac{\\Delta t}{2} \\mathbb{A} \\right) \n",
    "\\boldsymbol{z}_t \n",
    "$$\n",
    "\n",
    "$$\n",
    "\\Leftrightarrow \\boldsymbol{z}_{t+1} \n",
    "= \n",
    "\\underbrace{\\left(\\mathbb{1} - \\frac{\\Delta t}{2} \\mathbb{A} \\right)^{-1}}_{\\mathbb{M}_{Mid_I}}\n",
    "\\underbrace{\\left(\\mathbb{1} + \\frac{\\Delta t}{2} \\mathbb{A} \\right)}_{\\mathbb{M}_{Mid_{II}}} \n",
    "\\boldsymbol{z}_t \n",
    "$$\n"
   ]
  },
  {
   "cell_type": "code",
   "execution_count": null,
   "metadata": {},
   "outputs": [],
   "source": [
    "M_midpoint_sym_partI = # Matrix([[..., ...], [..., ...]]) -  ...*...\n",
    "M_midpoint_sym_partII = # Matrix([[..., ...], [..., ...]]) +  ...*...\n",
    "M_midpoint_sym = M_midpoint_sym_partI.inv()@M_midpoint_sym_partII\n",
    "M_midpoint_eigenvalues = M_midpoint_sym.eigenvals()\n",
    "simplify(list(M_midpoint_eigenvalues.keys())[0])  # there are two eigenvalues: check [0] and [1]"
   ]
  },
  {
   "cell_type": "code",
   "execution_count": null,
   "metadata": {},
   "outputs": [],
   "source": [
    "midpoint_eigenvalue = list(M_midpoint_eigenvalues.keys())[0].subs([(m_sym, m), (k_sym, k), (c_sym, c)])\n",
    "midpoint_eigenvalue =simplify(abs(midpoint_eigenvalue))\n",
    "midpoint_eigenvalue"
   ]
  },
  {
   "cell_type": "code",
   "execution_count": null,
   "metadata": {},
   "outputs": [],
   "source": [
    "f_me = lambdify(dt_sym, midpoint_eigenvalue, \"numpy\")\n",
    "x_me = np.linspace(0, 100, 100000)\n",
    "y_me=f_me(x_me)\n",
    "plot_lambda(x_me,y_me, xlim=[0, 100], ylim=[0.99,1.01])"
   ]
  },
  {
   "cell_type": "code",
   "execution_count": null,
   "metadata": {},
   "outputs": [],
   "source": [
    "# M_midpoint_partI = np.linalg.inv(np.eye(2) - 0.5*dt*A)\n",
    "# M_midpoint_partII = ...\n",
    "# M_midpoint = ...@... # merge M_midpoint_partI and M_midpoint_partII\n",
    "\n",
    "\n",
    "# print(f\"determinant M_midpoint: {np.linalg.det(M_midpoint)}\")\n",
    "w_midpoint, v_midpoint = np.linalg.eig(M_midpoint)  # calculate the eigenvalues and eigenvectors\n",
    "\n",
    "print(f\"eigenvalues of M_midpoint: {w_midpoint}\")\n",
    "print(f\"modulus of the eigenvalues of M_midpoint: {np.abs(w_midpoint)}\")\n",
    "print(f\"eigenvectors of M_midpoint: \\n {v_midpoint}\")\n",
    "\n",
    "\n",
    "all_states_midpoint = np.zeros([N,2])\n",
    "all_states_midpoint[0] = IC\n",
    "\n",
    "for i in range(0,N-1):\n",
    "    # all_states_midpoint[i+1] = ...@...\n",
    "\n",
    "make_plots(all_states_midpoint, time, m, k)"
   ]
  },
  {
   "cell_type": "markdown",
   "metadata": {
    "slideshow": {
     "slide_type": "slide"
    }
   },
   "source": [
    "# Frequency of oscillations\n",
    "\n",
    "Let us analyze the analitical solution of the oscilator.\n",
    "\n",
    "$$ \n",
    "m \\ddot{x} + c \\dot{x} + kx = 0 \n",
    "$$\n",
    "\n",
    "Assuming a solution of form $x(t)= e^{rt}$, the derivatives reads $ \\dot{x} = r e^{rt}$ and $\\ddot{x} = r^2 e^{rt}$.\n",
    "\n",
    "After pluging in and dividing by $ e^{rt}$, the characteristic equation appears as:\n",
    "\n",
    "$$ \n",
    "m r^2 + c r + k = 0 \n",
    "$$\n",
    "\n",
    "\n",
    "when $ c^2 -4mk < 0 $ the general solution is known as[<sup>1</sup>](#fn1) \n",
    "\n",
    "\n",
    "$$ \n",
    "x(t) = e^{\\alpha t} \\left[A cos(\\omega t) + B sin(\\omega t) \\right] =  C e^{\\alpha t}  cos(\\omega t - \\phi_0)\n",
    "$$\n",
    "\n",
    "where\n",
    "\n",
    "$$\n",
    "\\alpha = - \\frac{c}{2m} \\hspace{2em} and \\hspace{2em} \\omega=\\frac{\\sqrt{4mk - c^2}}{2m}\n",
    "$$\n",
    "\n",
    "\n",
    "Conclusions\n",
    "\n",
    "* The frequency of oscillations, $ \\omega $ are **always decreasing** due to the damping $ c $.\n",
    "\n",
    "* Observe the existence of the **numerical dumping** (aka numerical viscosity) in the implicit scheme.\n",
    "\n",
    "* Run the case with $c=0$ and check!\n",
    "\n",
    "* When $ c^2 -4mk \\geq 0 $ then there are no oscilations.\n",
    "\n",
    "## Conservation of the system's energy\n",
    "\n",
    "In case of no dumping $\\omega=\\sqrt{k/m}$.\n",
    "For simplicity, assume $\\phi_0=0$ then,\n",
    "\n",
    "$$\n",
    "x = C cos(\\omega t) \\\\\n",
    "\\dot{x} = - C sin(\\omega t) \n",
    "$$\n",
    "\n",
    "\n",
    "\n",
    "It is easy to show that the total energy is conserved:\n",
    "\n",
    "$$\n",
    "E_{total}  = \\frac{1}{2}kx^2 + \\frac{1}{2}m \\dot{x}^2  \n",
    "= \\frac{C}{2} \\left[ m \\omega^2 sin^2(\\omega t) + k cos^2(\\omega t)   \\right] = \\frac{kC}{2}\n",
    "$$\n",
    "\n",
    "Remember that $1 = cos^2(\\omega t) + sin^2(\\omega t)$.\n",
    "\n",
    "---\n",
    "<span id=\"fn1\"> \"Analiza matematyczna w zadaniach, część II\", W. Krysicki, L. Włodarski., 1974, Rozdział XIII, str. 288-289.</span>"
   ]
  },
  {
   "cell_type": "code",
   "execution_count": null,
   "metadata": {
    "slideshow": {
     "slide_type": "slide"
    }
   },
   "outputs": [],
   "source": [
    "# Frequency domain representation\n",
    "# inspired by:\n",
    "# https://pythontic.com/visualization/signals/fouriertransform_fft\n",
    "\n",
    "# Add the waves\n",
    "amplitude = all_states_implicit[:,0] + all_states_explicit[:,0]\n",
    "# amplitude = all_states_implicit[:,0]\n",
    "# amplitude = all_states_explicit[:,0]\n",
    "\n",
    "fourierTransform = np.fft.fft(amplitude)/len(amplitude)           # Normalize amplitude\n",
    "fourierTransform = fourierTransform[range(int(len(amplitude)/2))] # Exclude sampling frequency\n",
    "\n",
    "samplingFrequency = 1./dt\n",
    "\n",
    "tpCount     = len(amplitude)\n",
    "values      = np.arange(int(tpCount/2))\n",
    "timePeriod  = tpCount/samplingFrequency\n",
    "frequencies = values/timePeriod\n",
    "\n",
    "\n",
    "# Frequency domain representation\n",
    "# Create subplot\n",
    "\n",
    "figure, axis = plt.subplots(3, 1)\n",
    "plt.subplots_adjust(hspace=1)\n",
    "# Time domain representation for  wave 1\n",
    "axis[0].set_title('Explicit')\n",
    "axis[0].plot(time, all_states_explicit[:,0])\n",
    "axis[0].set_xlabel('Time')\n",
    "axis[0].set_ylabel('Amplitude')\n",
    "\n",
    "# Time domain representation for wave 2\n",
    "axis[1].set_title('Implicit')\n",
    "axis[1].plot(time, all_states_implicit[:,0])\n",
    "axis[1].set_xlabel('Time')\n",
    "axis[1].set_ylabel('Amplitude')\n",
    "\n",
    "# Frequency domain representation\n",
    "axis[2].set_title('Fourier transform depicting the frequency components')\n",
    "axis[2].plot(frequencies, abs(fourierTransform))\n",
    "axis[2].set_xlabel('Frequency')\n",
    "axis[2].set_ylabel('Amplitude')\n",
    "plt.show()\n",
    "\n",
    "##\n",
    "beta_undamped = np.sqrt(4*m*k)/(2*m) # [rad/s]\n",
    "beta_damped = np.sqrt(4*m*k-c*c)/(2*m) # [rad/s]\n",
    "\n",
    "print(f\"beta_damped = {beta_damped/(2*np.pi):.4e} [Hz] \\t beta_undamped = {beta_undamped/(2*np.pi):.4e} [Hz]\")\n",
    "print(f\"frequency peak at = {frequencies[int(np.argmax(abs(fourierTransform)))]:.4e} [Hz]\")\n"
   ]
  },
  {
   "cell_type": "code",
   "execution_count": null,
   "metadata": {},
   "outputs": [],
   "source": [
    "print(k,m,c)\n",
    "print(f\"w undamped = {np.sqrt(k/m)/(2*np.pi)}\")"
   ]
  },
  {
   "cell_type": "markdown",
   "metadata": {},
   "source": [
    "# Questions:\n",
    "\n",
    "* What is the general difference between the implicit, explicit and midpoint scheme in terms of stability?\n",
    "* Consider the numerical integration rules, such as rectangle and trapezoidal rule. How do they compare to the Euler's implicit/explicit scheme and the midpoint scheme?\n",
    "* What is the numerical condition for the stability of the scheme?\n",
    "* In the implicit and midpoint scheme the inverse of the matrix have been calculated... but only once.\n",
    "Which kind of problems (think of the $k$ and $c$) coefficient would require to invert the matrix in each time step?\n",
    "* Which schemes allows you to make longer time steps?\n",
    "* What is the geometrical interpretation of the determinant?"
   ]
  }
 ],
 "metadata": {
  "@webio": {
   "lastCommId": null,
   "lastKernelId": null
  },
  "celltoolbar": "Slideshow",
  "interpreter": {
   "hash": "f8a2746d3ab3426f08e2132a9e8ad3a7daf862104ae8de960108f6fdcdfbaacf"
  },
  "kernelspec": {
   "display_name": "Python 3 (ipykernel)",
   "language": "python",
   "name": "python3"
  },
  "language_info": {
   "codemirror_mode": {
    "name": "ipython",
    "version": 3
   },
   "file_extension": ".py",
   "mimetype": "text/x-python",
   "name": "python",
   "nbconvert_exporter": "python",
   "pygments_lexer": "ipython3",
   "version": "3.8.10"
  },
  "metadata": {
   "interpreter": {
    "hash": "f8a2746d3ab3426f08e2132a9e8ad3a7daf862104ae8de960108f6fdcdfbaacf"
   }
  }
 },
 "nbformat": 4,
 "nbformat_minor": 4
}
