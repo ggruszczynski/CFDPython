{
 "cells": [
  {
   "cell_type": "markdown",
   "metadata": {},
   "source": [
    "[@ggruszczynski](https://github.com/ggruszczynski)\n",
    "\n",
    "# LBM - some theory\n",
    "\n",
    "In this tutorial the reader will get the idea of:\n",
    "\n",
    "* symbolic code generation\n",
    "* a bit more advanced LBM models \n",
    "\n",
    "It will be shown how the moments of equilibrium distribution function and the transformation matrices can be calculated.\n",
    "Let us begin with some repetition for the newcomers..."
   ]
  },
  {
   "cell_type": "markdown",
   "metadata": {},
   "source": [
    "### Repetition: Discrete Boltzmann equation\n",
    "\n",
    "$$\n",
    "\\underbrace{ f_i(\\boldsymbol{x} + \\boldsymbol{e_i} \\Delta {\\boldsymbol{x}}, t +  \\Delta {t} ) }_{Streaming} =\n",
    "\\underbrace{ f_i(\\boldsymbol{x}, t ) - \\frac{1}{\\tau } ( f_i - f_i^{eq}) + \\left(1 - \\frac{1}{2\\tau}\\right) F_i(\\boldsymbol{x}, t ) }_{Collision}\n",
    "$$\n",
    "\n",
    "where:\n",
    "* $\\tau = \\tau(\\nu)$ relaxation parameter, $\\nu$ is the kinematic viscosity \n",
    "* $f_i$ - discrete probability distribution function\n",
    "* $F_i$ - source term (ex. gravity force)"
   ]
  },
  {
   "cell_type": "markdown",
   "metadata": {},
   "source": [
    "### Repetition: Algorithm\n",
    "\n",
    "1. Initialize $ \\enspace f_i ^{in} $ \n",
    "\n",
    "\n",
    "2. Compute density \n",
    "$ \\rho = \\sum_{i=0}^{8} f_i ^{in}(\\boldsymbol{x},t)$\n",
    " and velocity \n",
    "$ \\boldsymbol{u}(\\boldsymbol{x},t) = \\frac{1}{\\rho} \\sum_{i=0}^{8} \\, f_i ^{in}(\\boldsymbol{x},t) \\boldsymbol{e}_i +  \\frac{\\textbf{F}}{2 \\rho} \\delta t  $ \n",
    "\n",
    "3. Compute equilibrium distribution function\n",
    "$  f_i ^{eq}(\\boldsymbol{x},t) =  w_i \\rho \n",
    " \\left[ 1 + \\frac{\\boldsymbol{e}_i \\boldsymbol{u}}{c_s^2 e^2} + \\frac{ (\\boldsymbol{e}_i \\boldsymbol{u})^2}{2 c_s^4 e^4} - \\frac{\\boldsymbol{u}^2 } {2c_s^2 e^2} \\right] $\n",
    "\n",
    "4. Collision  \n",
    "$  f_i ^{out}(\\boldsymbol{x},t) = f_i^{in}(\\boldsymbol{x},t) - \\frac{1}{\\tau_f} \\bigg[ f_i^{in}(\\boldsymbol{x},t) - f_i^{eq}(\\boldsymbol{x},t) \\bigg] + F_i(\\boldsymbol{x}, t ) $ \n",
    "\n",
    "5. Streaming \n",
    "$  f_i ^{in}(\\boldsymbol{x} + \\boldsymbol{e}_i ,t+1) =  f_i^{out} (\\boldsymbol{x},t) $ \n"
   ]
  },
  {
   "cell_type": "markdown",
   "metadata": {},
   "source": [
    "### Repetition: moments\n",
    "\n",
    "![title](ParallelaxesTheory.png)\n",
    "$$\n",
    "m_0 = M = \\int r^0 \\rho(r) d \\Omega \\\\ \n",
    "m_1 = \\mu = \\frac{1}{M}\\int r^1 \\rho(r) d \\Omega \\\\ \n",
    "m_2 = I_{zz'} = \\int r^2 \\rho(r) d \\Omega \\\\ \n",
    "\\sigma ^2 =  I_{xx'}\\int (r - \\mu)^2 \\rho(r) d \\Omega  \n",
    "$$"
   ]
  },
  {
   "cell_type": "markdown",
   "metadata": {},
   "source": [
    "### The raw moments and central moments in LBM\n",
    "$$\n",
    "\\kappa_{mn} = \\sum_{i}(e_{i, x})^m ( e_{i, y})^n f_{i} \\\\\n",
    "\\tilde{\\kappa}_{mn} = \\sum_{i} ( e_{i, x} - u_x)^m ( e_{i, y} - u_y)^n f_{i}\n",
    "$$\n",
    "Physical interpretation:\n",
    "$$\n",
    "\\rho = \\kappa_{00} = \\sum_i f_i % \\hspace{2em} \\text{- normalized pressure} \n",
    " \\\\\n",
    "\\rho \\textbf{u} = \\rho [ u_x, u_y]^\\top = [ \\kappa_{10}, \\kappa_{01}]^\\top \n",
    "= \\sum_i f_i \\textbf{e}_i + \\frac{\\textbf{F}}{2} \\delta t\n",
    "$$\n",
    "\n",
    "<img src=\"latticeVelocities_concept.png\" style=\"height:200px\">"
   ]
  },
  {
   "cell_type": "markdown",
   "metadata": {},
   "source": [
    "### Algorithm - revisited\n",
    "\n",
    "1. Initialize $ \\enspace f_i ^{in} $\n",
    "\n",
    "2. Compute velocity\n",
    "$\\textbf{u} = [u_x, u_y]^\\top = [ \\kappa_{10}, \\kappa_{01}]^\\top \n",
    "= \\dfrac{1}{\\rho} \\sum_i f_i \\textbf{e}_i + \\frac{\\textbf{F}}{2 \\rho} \\delta t $ \n",
    "\n",
    "3. Compute (central) moments\n",
    "\n",
    "$ \\boldsymbol{\\tilde{\\Upsilon}}(\\boldsymbol{x},t) =\\mathbb{N}\\mathbb{M} \\textbf{f}(\\boldsymbol{x},t) \\\\\n",
    " \\boldsymbol{\\tilde{\\Upsilon}}^{eq} =\n",
    "    [\\rho, \n",
    "     0,  \n",
    "     0, \n",
    "     c_s^2 \\rho, \n",
    "     c_s^2 \\rho, \n",
    "     0, \n",
    "     0, \n",
    "     0, \n",
    "     \\sigma^2 \\rho] ^\\top \\\\ \n",
    "\\tilde{\\boldsymbol{F}}  = \n",
    "[\n",
    "     0, \n",
    "     F_x /\\rho , \n",
    "     F_y /\\rho , \n",
    "     0, \n",
    "     0, \n",
    "     0, \n",
    "     c_s^2 F_y /\\rho , \n",
    "     c_s^2 F_x /\\rho , \n",
    "     0]^\\top \n",
    "$\n",
    "\n",
    " \n",
    "4. Collision\n",
    "$  \\boldsymbol{\\tilde{\\Upsilon}}(\\textbf{x}, t + \\delta t ) = \\boldsymbol{\\tilde{\\Upsilon}}  - \\mathbb{S} (\\boldsymbol{\\tilde{\\Upsilon}} - \\boldsymbol{\\tilde{\\Upsilon}}^{eq}) + (\\mathbb{1} - \\mathbb{S}/2)\\tilde{\\textbf{F}} $ \n",
    "\n",
    "5. Streaming \n",
    "$  f_i(\\textbf{x} + \\textbf{e}\\delta t, t + \\delta t ) \n",
    " =  \n",
    "\\mathbb{M}^{-1} \\mathbb{N}^{-1} \\boldsymbol{\\tilde{\\Upsilon}}_{i}(\\textbf{x}, t + \\delta t )  $ \n",
    "\n"
   ]
  },
  {
   "cell_type": "markdown",
   "metadata": {},
   "source": [
    "\n",
    "\n",
    "## Moments of Equilibrium Distribution Function\n",
    "\n",
    "Now, we are going to calculate the (central) moments of equilibrium distribution function.\n",
    "\n",
    "The formulas for the discrete equilibrium distribution function $ f^{eq}_i $\n",
    "comes from a discretization of the continous Maxwell-Boltzmann distribution function.\n",
    "The Maxwell-Boltzmann equilibrium distribution function in a continuous, velocity space is known as:\n",
    "\n",
    "$$\n",
    "\\Psi^{\\textit{M-B, eq}} = \n",
    "\\Psi^{\\textit{M-B, eq}}(\\psi, \\boldsymbol{\\xi}, \\boldsymbol{u}) =\n",
    "\\dfrac{\\psi}{(2 \\pi c_s^2)^{D/2}} \n",
    "exp \\left[\n",
    "-\\frac{(\\boldsymbol{\\xi}-\\boldsymbol{u})^2}{2 c_s^2}\n",
    "\\right] \n",
    "$$\n",
    "\n",
    "Where $ \\psi $  is the quantity of interest (like fluid density or enthalpy), $c_s^2$ is the lattice speed of sound (aka variance of the distribution) and $ D $ is the number of dimensions.\n",
    "The continuous definition of the central moments is:\n",
    "\n",
    "$$\n",
    "\\tilde{\\kappa}_{mn} = \\int_{-\\infty}^{\\infty} \\int_{-\\infty}^{\\infty}\n",
    "(\\xi_x - u_x)^m (\\xi_y -u_y)^n\n",
    "\\Psi(\\psi, \\boldsymbol{\\xi}, \\boldsymbol{u}) \n",
    "d \\xi_x d \\xi_y \n",
    "$$"
   ]
  },
  {
   "cell_type": "code",
   "execution_count": 1,
   "metadata": {},
   "outputs": [],
   "source": [
    "from sympy import Symbol, exp, pi, integrate, oo\n",
    "from sympy import simplify, Float, preorder_traversal\n",
    "from sympy.matrices import Matrix, eye, diag\n",
    "from sympy.interactive.printing import init_printing\n",
    "from sympy import ccode\n",
    "import sympy as sp\n",
    "import numpy as np\n",
    "\n",
    "# init_printing()"
   ]
  },
  {
   "cell_type": "code",
   "execution_count": 2,
   "metadata": {},
   "outputs": [],
   "source": [
    "ex_D2Q9 = Matrix([0, 1, 0, -1, 0, 1, -1, 1, -1])\n",
    "ey_D2Q9 = Matrix([0, 0, 1, 0, -1, 1, 1, -1, -1])\n",
    "\n",
    "# Let us choose the following order of moments\n",
    "# one can denote the variables as f[0], f[1], f[2], f[3]... \n",
    "# or f_00, f_10, f_01, f_20 \n",
    "# We will use the latter notation.\n",
    "# observe that f[3]=f_20. It is streamed from direction e[-1,0].\n",
    "\n",
    "order_of_moments = [ \n",
    "    (0, 0), \n",
    "    (1, 0),\n",
    "    (0, 1),\n",
    "    (2, 0),\n",
    "    (0, 2),\n",
    "    (1, 1),\n",
    "    (2, 1),\n",
    "    (1, 2),\n",
    "    (2, 2)]\n",
    "\n",
    "dzeta_x = Symbol('dzeta_x', real=True)\n",
    "dzeta_y = Symbol('dzeta_y', real=True)\n",
    "\n",
    "dzeta2D = Matrix([dzeta_x, dzeta_y])\n",
    "\n",
    "ux = Symbol('u.x')  # don't set real=True for velocity as it freezes the test suite :/\n",
    "uy = Symbol('u.y')\n",
    "\n",
    "u2D = Matrix([ux, uy])\n",
    "\n",
    "# rho = Symbol(r'\\rho', positive=True)\n",
    "# cs2 = Symbol(r'\\sigma', positive=True)\n",
    "\n",
    "rho = Symbol('rho', positive=True)\n",
    "cs2 = 1./3."
   ]
  },
  {
   "cell_type": "code",
   "execution_count": 3,
   "metadata": {},
   "outputs": [],
   "source": [
    "def round_and_simplify(stuff):\n",
    "    simplified_stuff = simplify(stuff)\n",
    "    rounded_stuff = simplified_stuff\n",
    "\n",
    "    for a in preorder_traversal(rounded_stuff):\n",
    "        if isinstance(a, Float):\n",
    "            rounded_stuff = rounded_stuff.subs(a, round(a, 10))\n",
    "\n",
    "    rounded_and_simplified_stuff = simplify(rounded_stuff)\n",
    "    return rounded_and_simplified_stuff"
   ]
  },
  {
   "cell_type": "markdown",
   "metadata": {},
   "source": [
    "## Task\n",
    "\n",
    "Fill the body of `get_Maxwellian_DF` function and run the script to calculate (central) moments.\n"
   ]
  },
  {
   "cell_type": "code",
   "execution_count": 4,
   "metadata": {},
   "outputs": [],
   "source": [
    "class ContinuousCMTransforms:\n",
    "    def __init__(self, dzeta, u, rho, cs2):\n",
    "        \"\"\"\n",
    "        :param dzeta: direction (x,y,z)\n",
    "        :param u: velocity (x,y,z) i.e., mean of the distribution\n",
    "        :param rho: density (not necessarily m00, for instance in multiphase flows)\n",
    "        :param cs2: variance of the distribution = (speed of sound)^2,\n",
    "                    for isothermal LB cs2=1./3;\n",
    "                    otherwise  cs2 = Symbol('RT', positive=True) \n",
    "\n",
    "        \"\"\"\n",
    "        self.dzeta = dzeta\n",
    "        self.u = u\n",
    "        self.rho = rho\n",
    "        self.sigma2 = cs2\n",
    "\n",
    "    def get_Maxwellian_DF(self):\n",
    "        \"\"\"\n",
    "        :return: continuous, local Maxwell-Boltzmann distribution       \n",
    "        \"\"\"\n",
    "        dzeta_minus_u = self.dzeta - self.u\n",
    "        dzeta_u2 = dzeta_minus_u.dot(dzeta_minus_u)\n",
    "\n",
    "        # df = self.rho / pow(2 * sp.pi * self.cs2, 2 / 2)  # this is to difficult for sympy :/\n",
    "        df = self.rho / (2 * sp.pi * self.sigma2)  # 2D version hack\n",
    "\n",
    "        df *= exp(-dzeta_u2 / (2 * self.sigma2))\n",
    "        return df\n",
    "\n",
    "    def get_m(self, mno):\n",
    "        fun = self.get_Maxwellian_DF()\n",
    "        for dzeta_i, mno_i in zip(self.dzeta, mno):\n",
    "            fun *= pow(dzeta_i, mno_i)\n",
    "\n",
    "        lim = [(dim, -oo, oo) for dim in self.dzeta]\n",
    "        result = integrate(fun, *lim)\n",
    "        return round_and_simplify(result)\n",
    "\n",
    "    def get_cm(self, mno):\n",
    "        fun = self.get_Maxwellian_DF()\n",
    "        for dzeta_i, u_i, mno_i in zip(self.dzeta, self.u, mno):\n",
    "            fun *= pow((dzeta_i - u_i), mno_i)\n",
    "\n",
    "        lim = [(dim, -oo, oo) for dim in self.dzeta]\n",
    "        result = integrate(fun, *lim)\n",
    "        return round_and_simplify(result)\n"
   ]
  },
  {
   "cell_type": "code",
   "execution_count": 5,
   "metadata": {},
   "outputs": [
    {
     "data": {
      "text/latex": [
       "$\\displaystyle 1.0 \\rho$"
      ],
      "text/plain": [
       "1.0*rho"
      ]
     },
     "execution_count": 5,
     "metadata": {},
     "output_type": "execute_result"
    }
   ],
   "source": [
    "# here the zeroth moment is calculated\n",
    "ccmt = ContinuousCMTransforms(dzeta2D, u2D, rho=rho, cs2=cs2)\n",
    "row0 = order_of_moments[0]\n",
    "moment0 = ccmt.get_cm(row0)\n",
    "\n",
    "moment0"
   ]
  },
  {
   "cell_type": "code",
   "execution_count": 6,
   "metadata": {},
   "outputs": [
    {
     "data": {
      "text/latex": [
       "$\\displaystyle \\left[\\begin{matrix}1.0 \\rho\\\\1.0 \\rho u.x\\\\1.0 \\rho u.y\\\\\\rho \\left(1.0 u.x^{2} + 0.3333333333\\right)\\\\\\rho \\left(1.0 u.y^{2} + 0.3333333333\\right)\\\\1.0 \\rho u.x u.y\\\\\\rho u.y \\left(1.0 u.x^{2} + 0.3333333333\\right)\\\\\\rho u.x \\left(1.0 u.y^{2} + 0.3333333333\\right)\\\\\\rho \\left(1.0 u.x^{2} u.y^{2} + 0.3333333333 u.x^{2} + 0.3333333333 u.y^{2} + 0.1111111111\\right)\\end{matrix}\\right]$"
      ],
      "text/plain": [
       "Matrix([\n",
       "[                                                                           1.0*rho],\n",
       "[                                                                       1.0*rho*u.x],\n",
       "[                                                                       1.0*rho*u.y],\n",
       "[                                                   rho*(1.0*u.x**2 + 0.3333333333)],\n",
       "[                                                   rho*(1.0*u.y**2 + 0.3333333333)],\n",
       "[                                                                   1.0*rho*u.x*u.y],\n",
       "[                                               rho*u.y*(1.0*u.x**2 + 0.3333333333)],\n",
       "[                                               rho*u.x*(1.0*u.y**2 + 0.3333333333)],\n",
       "[rho*(1.0*u.x**2*u.y**2 + 0.3333333333*u.x**2 + 0.3333333333*u.y**2 + 0.1111111111)]])"
      ]
     },
     "execution_count": 6,
     "metadata": {},
     "output_type": "execute_result"
    }
   ],
   "source": [
    "# write a line of code to calculate the whole vector of moments\n",
    "\n",
    "m_eq = Matrix([ccmt.get_m(row) for row in order_of_moments])\n",
    "m_eq"
   ]
  },
  {
   "cell_type": "code",
   "execution_count": 7,
   "metadata": {},
   "outputs": [
    {
     "data": {
      "text/latex": [
       "$\\displaystyle \\left[\\begin{matrix}1.0 \\rho\\\\0\\\\0\\\\0.3333333333 \\rho\\\\0.3333333333 \\rho\\\\0\\\\0\\\\0\\\\0.1111111111 \\rho\\end{matrix}\\right]$"
      ],
      "text/plain": [
       "Matrix([\n",
       "[         1.0*rho],\n",
       "[               0],\n",
       "[               0],\n",
       "[0.3333333333*rho],\n",
       "[0.3333333333*rho],\n",
       "[               0],\n",
       "[               0],\n",
       "[               0],\n",
       "[0.1111111111*rho]])"
      ]
     },
     "execution_count": 7,
     "metadata": {},
     "output_type": "execute_result"
    }
   ],
   "source": [
    "# and the vector of central moments\n",
    "\n",
    "cm_eq = Matrix([ccmt.get_cm(row) for row in order_of_moments])\n",
    "cm_eq"
   ]
  },
  {
   "cell_type": "code",
   "execution_count": 8,
   "metadata": {},
   "outputs": [
    {
     "name": "stdout",
     "output_type": "stream",
     "text": [
      "double cm_eq_00 = 1.0*rho;\n",
      "double cm_eq_10 = 0;\n",
      "double cm_eq_01 = 0;\n",
      "double cm_eq_20 = 0.33333333329937886*rho;\n",
      "double cm_eq_02 = 0.33333333329937886*rho;\n",
      "double cm_eq_11 = 0;\n",
      "double cm_eq_21 = 0;\n",
      "double cm_eq_12 = 0;\n",
      "double cm_eq_22 = 0.11111111110039928*rho;\n"
     ]
    }
   ],
   "source": [
    "# next, print is as 'C' code\n",
    "\n",
    "def print_code(order_of_moments, lhs,rhs):\n",
    "    for moment, expr in zip(order_of_moments, rhs):\n",
    "        mstr = [str(m) for m in moment]\n",
    "        mstr = ''.join(mstr)\n",
    "        print(f\"double {lhs}_{mstr} = {ccode(expr)};\")\n",
    "\n",
    "print_code(order_of_moments, \"cm_eq\", cm_eq)"
   ]
  },
  {
   "cell_type": "markdown",
   "metadata": {},
   "source": [
    "## Moments of non-equlibrium Distribution Function\n",
    "\n",
    "The discrete distribution function are streamed along the lattice links, which are defined by a set of discrete velocities,$\\textbf{e}$.\n",
    "Using the Euleran basis and a D2Q9 space, the discrete velocities read,\n",
    "\n",
    "$$\n",
    "\\textbf{e} = [\\textbf{e}_x, \\textbf{e}_y], \\\\\n",
    "\\textbf{e}_x = [0,1,0,-1,0,1,-1,-1,1]^\\top, \\\\\n",
    "\\textbf{e}_y = [0,0,1,0,-1,1,1,-1,-1]^\\top, \\\\\n",
    "$$\n",
    "\n",
    "The discrete, raw and central moments are introduced based on the work of Geier et al. [^5] as,\n",
    "\n",
    "$$ k_{mn} = \\sum_{\\alpha}(e_{\\alpha x})^m ( e_{\\alpha y})^n \\Psi_{\\alpha} $$\n",
    "\n",
    "while the central moments are calculated in a moving reference frame i.e., with respect to the fluid velocity:\n",
    "\n",
    "$$ \\tilde{k}_{mn} = \\sum_{\\alpha} ( e_{\\alpha x} - u_x)^m ( e_{\\alpha y} - u_y)^n \\Psi_{\\alpha} $$\n",
    "\n",
    "where $ \\Psi_{\\alpha} $ is the distribution function of interest (for example hydrodynamic or enthalpy).\n",
    "\n",
    "Notice, that the equations can be expressed by matrix transformations [^1][^2][^3][^4].\n",
    "\n",
    "$$\n",
    "\\boldsymbol{\\Upsilon} = \\mathbb{M} \\boldsymbol{\\Psi} \\\\\n",
    "\\boldsymbol{\\tilde{\\Upsilon}} = \\mathbb{N} \\boldsymbol{\\Upsilon} = \\underbrace{\\mathbb{N} \\mathbb{M}}_{\\mathbb{T}} \\boldsymbol{\\Psi}\n",
    "$$\n",
    "\n",
    "\n",
    "where $\\boldsymbol{\\Upsilon}$ and $\\boldsymbol{\\tilde{\\Upsilon}}$ denote the raw and central moments, respectively.\n",
    "From the computational point of view, it is preferred to perform the transformations in two steps as in above (without explicit usage of the $\\mathbb{T}$ matrix).\n",
    "\n",
    "Rows of the transformation matrices are calculated analogously to $k$ and $\\tilde{k}$, \n",
    "$$\n",
    "M_{mn} = [ (\\textbf{e}_x)^m (\\textbf{e}_y)^n ]^\\top, \\\\\n",
    "T_{mn} = [ (\\textbf{e}_x - \\mathbb{1} u_x)^m (\\textbf{e}_y - \\mathbb{1} u_y)^n ]\n",
    "$$\n",
    "Then, the matrices are assembled row by row as,\n",
    "\n",
    "$$\n",
    "\\mathbb{M}  \n",
    " = \n",
    " \\left[\n",
    " M_{00}, \n",
    " M_{10}, \n",
    " M_{01},  \n",
    " M_{20},\n",
    " M_{02},\n",
    " M_{11},\n",
    " M_{10},\n",
    " M_{01},\n",
    " M_{22}\n",
    " \\right]\n",
    "  \\\\\n",
    "\\mathbb{T} = \n",
    " \\left[\n",
    " T_{00}, \n",
    " T_{10}, \n",
    " T_{01}, \n",
    " T_{20},\n",
    " T_{02},\n",
    " T_{11},\n",
    " T_{10},\n",
    " T_{01},\n",
    " T_{22}\n",
    " \\right]\n",
    "$$\n",
    "\n",
    "The $\\mathbb{N}$ matrix can be found as $\\mathbb{N} = \\mathbb{T} \\mathbb{M}^{-1} $.\n",
    "\n",
    "Observe that $ \\mathbb{M} $ is a fixed matrix while $ \\mathbb{N} $ depends on the fluid velocity, $ \\textbf{u} $. \n",
    "\n",
    "Finally, the set of the central moments can be expressed in vector form as,\n",
    "\n",
    "$$\n",
    "\\boldsymbol{\\tilde{\\Upsilon}} = \n",
    "[\\tilde{k}_{00}, \\tilde{k}_{10}, \\tilde{k}_{01}, \\tilde{k}_{20}, \\tilde{k}_{02}, \\tilde{k}_{11}, \\tilde{k}_{21}, \\tilde{k}_{12}, \\tilde{k}_{22}]^\\top.\n",
    "$$\n",
    "\n",
    "The physical interpretation of the raw, zeroth and first order moments of the hydrodynamic  DF corresponds to the values of density, $ \\rho $ and momentum $  \\rho \\textbf{u} $.\n",
    "\n",
    "\n"
   ]
  },
  {
   "cell_type": "code",
   "execution_count": 9,
   "metadata": {},
   "outputs": [],
   "source": [
    "\n",
    "class MatrixGenerator:\n",
    "    def __init__(self, ex, ey, order_of_moments):\n",
    "        self.ex = ex\n",
    "        self.ey = ey\n",
    "        self.order_of_moments = order_of_moments\n",
    "\n",
    "    def __matrix_maker(self, row_maker_fun):\n",
    "        M = [row_maker_fun(*row) for row in self.order_of_moments]\n",
    "        return M\n",
    "\n",
    "    def get_raw_moments_matrix(self):\n",
    "        \"\"\"\n",
    "        :return: transformation matrix from DF to raw moments\n",
    "        \"\"\"\n",
    "    \n",
    "        def get_row(m, n):\n",
    "            row = [pow((self.ex[i]), m) * pow((self.ey[i]), n)  for i in range(0, 9)]\n",
    "            return row\n",
    "\n",
    "        m_ = self.__matrix_maker(get_row)\n",
    "        # M = [get_row(*row) for row in self.order_of_moments] # same as\n",
    "        return Matrix(m_)\n",
    "\n",
    "    def get_T_matrix(self):\n",
    "        \"\"\"\n",
    "        :return: transformation matrix from DF to central moments\n",
    "        \"\"\"\n",
    "\n",
    "        def get_row(m, n):\n",
    "            row = [pow((self.ex[i] - ux), m) * pow((self.ey[i] - uy), n)  for i in range(0, 9)]\n",
    "            row = [round_and_simplify(r) for r in row] # simplify the elements in each row\n",
    "            return row\n",
    "\n",
    "        m_ = self.__matrix_maker(get_row)\n",
    "        return Matrix(m_)\n"
   ]
  },
  {
   "cell_type": "code",
   "execution_count": 10,
   "metadata": {},
   "outputs": [
    {
     "data": {
      "text/latex": [
       "$\\displaystyle \\left[\\begin{matrix}1 & 1 & 1 & 1 & 1 & 1 & 1 & 1 & 1\\\\0 & 1 & 0 & -1 & 0 & 1 & -1 & 1 & -1\\\\0 & 0 & 1 & 0 & -1 & 1 & 1 & -1 & -1\\\\0 & 1 & 0 & 1 & 0 & 1 & 1 & 1 & 1\\\\0 & 0 & 1 & 0 & 1 & 1 & 1 & 1 & 1\\\\0 & 0 & 0 & 0 & 0 & 1 & -1 & -1 & 1\\\\0 & 0 & 0 & 0 & 0 & 1 & 1 & -1 & -1\\\\0 & 0 & 0 & 0 & 0 & 1 & -1 & 1 & -1\\\\0 & 0 & 0 & 0 & 0 & 1 & 1 & 1 & 1\\end{matrix}\\right]$"
      ],
      "text/plain": [
       "Matrix([\n",
       "[1, 1, 1,  1,  1, 1,  1,  1,  1],\n",
       "[0, 1, 0, -1,  0, 1, -1,  1, -1],\n",
       "[0, 0, 1,  0, -1, 1,  1, -1, -1],\n",
       "[0, 1, 0,  1,  0, 1,  1,  1,  1],\n",
       "[0, 0, 1,  0,  1, 1,  1,  1,  1],\n",
       "[0, 0, 0,  0,  0, 1, -1, -1,  1],\n",
       "[0, 0, 0,  0,  0, 1,  1, -1, -1],\n",
       "[0, 0, 0,  0,  0, 1, -1,  1, -1],\n",
       "[0, 0, 0,  0,  0, 1,  1,  1,  1]])"
      ]
     },
     "execution_count": 10,
     "metadata": {},
     "output_type": "execute_result"
    }
   ],
   "source": [
    "matrixGenerator = MatrixGenerator(ex_D2Q9, ey_D2Q9, order_of_moments)\n",
    "\n",
    "Mraw = matrixGenerator.get_raw_moments_matrix()\n",
    "Mraw"
   ]
  },
  {
   "cell_type": "code",
   "execution_count": 11,
   "metadata": {},
   "outputs": [
    {
     "data": {
      "text/latex": [
       "$\\displaystyle \\left[\\begin{matrix}1 & 0 & 0 & 0 & 0 & 0 & 0 & 0 & 0\\\\- u.x & 1 & 0 & 0 & 0 & 0 & 0 & 0 & 0\\\\- u.y & 0 & 1 & 0 & 0 & 0 & 0 & 0 & 0\\\\u.x^{2} & - 2 u.x & 0 & 1 & 0 & 0 & 0 & 0 & 0\\\\u.y^{2} & 0 & - 2 u.y & 0 & 1 & 0 & 0 & 0 & 0\\\\u.x u.y & - u.y & - u.x & 0 & 0 & 1 & 0 & 0 & 0\\\\- u.x^{2} u.y & 2 u.x u.y & u.x^{2} & - u.y & 0 & - 2 u.x & 1 & 0 & 0\\\\- u.x u.y^{2} & u.y^{2} & 2 u.x u.y & 0 & - u.x & - 2 u.y & 0 & 1 & 0\\\\u.x^{2} u.y^{2} & - 2 u.x u.y^{2} & - 2 u.x^{2} u.y & u.y^{2} & u.x^{2} & 4 u.x u.y & - 2 u.y & - 2 u.x & 1\\end{matrix}\\right]$"
      ],
      "text/plain": [
       "Matrix([\n",
       "[            1,             0,             0,      0,      0,         0,      0,      0, 0],\n",
       "[         -u.x,             1,             0,      0,      0,         0,      0,      0, 0],\n",
       "[         -u.y,             0,             1,      0,      0,         0,      0,      0, 0],\n",
       "[       u.x**2,        -2*u.x,             0,      1,      0,         0,      0,      0, 0],\n",
       "[       u.y**2,             0,        -2*u.y,      0,      1,         0,      0,      0, 0],\n",
       "[      u.x*u.y,          -u.y,          -u.x,      0,      0,         1,      0,      0, 0],\n",
       "[  -u.x**2*u.y,     2*u.x*u.y,        u.x**2,   -u.y,      0,    -2*u.x,      1,      0, 0],\n",
       "[  -u.x*u.y**2,        u.y**2,     2*u.x*u.y,      0,   -u.x,    -2*u.y,      0,      1, 0],\n",
       "[u.x**2*u.y**2, -2*u.x*u.y**2, -2*u.x**2*u.y, u.y**2, u.x**2, 4*u.x*u.y, -2*u.y, -2*u.x, 1]])"
      ]
     },
     "execution_count": 11,
     "metadata": {},
     "output_type": "execute_result"
    }
   ],
   "source": [
    "Traw = matrixGenerator.get_T_matrix()\n",
    "Nraw = Traw * Mraw.inv()\n",
    "\n",
    "Nraw = Matrix([round_and_simplify(Nraw[i,:]) for i in range(9)])\n",
    "Nraw"
   ]
  },
  {
   "cell_type": "markdown",
   "metadata": {},
   "source": [
    "## Task\n",
    "We have just generate the matrix of transformation. \n",
    "Now, let as create the vector of variables which are going to be transformed.\n",
    "Implement the `get_symbols` function. It shall return a vector (1-D Matrix, i.e. `Matrix([stuff])` ) having the following form $ [f_{00}, f_{10}, f_{01}, f_{20}, f_{02}, etc...] $"
   ]
  },
  {
   "cell_type": "code",
   "execution_count": 12,
   "metadata": {},
   "outputs": [
    {
     "data": {
      "text/latex": [
       "$\\displaystyle \\left[\\begin{matrix}f_{00}\\\\f_{10}\\\\f_{01}\\\\f_{20}\\\\f_{02}\\\\f_{11}\\\\f_{21}\\\\f_{12}\\\\f_{22}\\end{matrix}\\right]$"
      ],
      "text/plain": [
       "Matrix([\n",
       "[f_00],\n",
       "[f_10],\n",
       "[f_01],\n",
       "[f_20],\n",
       "[f_02],\n",
       "[f_11],\n",
       "[f_21],\n",
       "[f_12],\n",
       "[f_22]])"
      ]
     },
     "execution_count": 12,
     "metadata": {},
     "output_type": "execute_result"
    }
   ],
   "source": [
    "\n",
    "def get_symbols(name, directions):\n",
    "    print_symbols = []\n",
    "    \n",
    "    for direction in directions:\n",
    "        direction = [str(d) for d in direction]\n",
    "        direction = ''.join(direction)\n",
    "        print_symbols.append(f\"{name}_{direction}\")\n",
    "\n",
    "    return Matrix(print_symbols)\n",
    "\n",
    "fs = get_symbols(\"f\", order_of_moments)\n",
    "fs"
   ]
  },
  {
   "cell_type": "code",
   "execution_count": 13,
   "metadata": {},
   "outputs": [
    {
     "data": {
      "text/latex": [
       "$\\displaystyle \\left[\\begin{matrix}f_{00} + f_{01} + f_{02} + f_{10} + f_{11} + f_{12} + f_{20} + f_{21} + f_{22}\\\\f_{10} + f_{11} + f_{12} - f_{20} - f_{21} - f_{22}\\\\f_{01} - f_{02} + f_{11} - f_{12} + f_{21} - f_{22}\\\\f_{10} + f_{11} + f_{12} + f_{20} + f_{21} + f_{22}\\\\f_{01} + f_{02} + f_{11} + f_{12} + f_{21} + f_{22}\\\\f_{11} - f_{12} - f_{21} + f_{22}\\\\f_{11} - f_{12} + f_{21} - f_{22}\\\\f_{11} + f_{12} - f_{21} - f_{22}\\\\f_{11} + f_{12} + f_{21} + f_{22}\\end{matrix}\\right]$"
      ],
      "text/plain": [
       "Matrix([\n",
       "[f_00 + f_01 + f_02 + f_10 + f_11 + f_12 + f_20 + f_21 + f_22],\n",
       "[                     f_10 + f_11 + f_12 - f_20 - f_21 - f_22],\n",
       "[                     f_01 - f_02 + f_11 - f_12 + f_21 - f_22],\n",
       "[                     f_10 + f_11 + f_12 + f_20 + f_21 + f_22],\n",
       "[                     f_01 + f_02 + f_11 + f_12 + f_21 + f_22],\n",
       "[                                   f_11 - f_12 - f_21 + f_22],\n",
       "[                                   f_11 - f_12 + f_21 - f_22],\n",
       "[                                   f_11 + f_12 - f_21 - f_22],\n",
       "[                                   f_11 + f_12 + f_21 + f_22]])"
      ]
     },
     "execution_count": 13,
     "metadata": {},
     "output_type": "execute_result"
    }
   ],
   "source": [
    "m = Mraw * fs\n",
    "m"
   ]
  },
  {
   "cell_type": "code",
   "execution_count": 14,
   "metadata": {},
   "outputs": [
    {
     "name": "stdout",
     "output_type": "stream",
     "text": [
      "//raw moments from density-probability functions\n",
      "double m_00 = f_00 + f_01 + f_02 + f_10 + f_11 + f_12 + f_20 + f_21 + f_22;\n",
      "double m_10 = f_10 + f_11 + f_12 - f_20 - f_21 - f_22;\n",
      "double m_01 = f_01 - f_02 + f_11 - f_12 + f_21 - f_22;\n",
      "double m_20 = f_10 + f_11 + f_12 + f_20 + f_21 + f_22;\n",
      "double m_02 = f_01 + f_02 + f_11 + f_12 + f_21 + f_22;\n",
      "double m_11 = f_11 - f_12 - f_21 + f_22;\n",
      "double m_21 = f_11 - f_12 + f_21 - f_22;\n",
      "double m_12 = f_11 + f_12 - f_21 - f_22;\n",
      "double m_22 = f_11 + f_12 + f_21 + f_22;\n"
     ]
    }
   ],
   "source": [
    "print(\"//raw moments from density-probability functions\")\n",
    "print_code(order_of_moments, \"m\", m)"
   ]
  },
  {
   "cell_type": "code",
   "execution_count": 15,
   "metadata": {},
   "outputs": [
    {
     "data": {
      "text/latex": [
       "$\\displaystyle \\left[\\begin{matrix}m_{00}\\\\- m_{00} u.x + m_{10}\\\\- m_{00} u.y + m_{01}\\\\m_{00} u.x^{2} - 2 m_{10} u.x + m_{20}\\\\m_{00} u.y^{2} - 2 m_{01} u.y + m_{02}\\\\m_{00} u.x u.y - m_{01} u.x - m_{10} u.y + m_{11}\\\\- m_{00} u.x^{2} u.y + m_{01} u.x^{2} + 2 m_{10} u.x u.y - 2 m_{11} u.x - m_{20} u.y + m_{21}\\\\- m_{00} u.x u.y^{2} + 2 m_{01} u.x u.y - m_{02} u.x + m_{10} u.y^{2} - 2 m_{11} u.y + m_{12}\\\\m_{00} u.x^{2} u.y^{2} - 2 m_{01} u.x^{2} u.y + m_{02} u.x^{2} - 2 m_{10} u.x u.y^{2} + 4 m_{11} u.x u.y - 2 m_{12} u.x + m_{20} u.y^{2} - 2 m_{21} u.y + m_{22}\\end{matrix}\\right]$"
      ],
      "text/plain": [
       "Matrix([\n",
       "[                                                                                                                                    m_00],\n",
       "[                                                                                                                        -m_00*u.x + m_10],\n",
       "[                                                                                                                        -m_00*u.y + m_01],\n",
       "[                                                                                                         m_00*u.x**2 - 2*m_10*u.x + m_20],\n",
       "[                                                                                                         m_00*u.y**2 - 2*m_01*u.y + m_02],\n",
       "[                                                                                               m_00*u.x*u.y - m_01*u.x - m_10*u.y + m_11],\n",
       "[                                                          -m_00*u.x**2*u.y + m_01*u.x**2 + 2*m_10*u.x*u.y - 2*m_11*u.x - m_20*u.y + m_21],\n",
       "[                                                          -m_00*u.x*u.y**2 + 2*m_01*u.x*u.y - m_02*u.x + m_10*u.y**2 - 2*m_11*u.y + m_12],\n",
       "[m_00*u.x**2*u.y**2 - 2*m_01*u.x**2*u.y + m_02*u.x**2 - 2*m_10*u.x*u.y**2 + 4*m_11*u.x*u.y - 2*m_12*u.x + m_20*u.y**2 - 2*m_21*u.y + m_22]])"
      ]
     },
     "execution_count": 15,
     "metadata": {},
     "output_type": "execute_result"
    }
   ],
   "source": [
    "ms = get_symbols(\"m\", order_of_moments)\n",
    "cm = Nraw * ms\n",
    "cm"
   ]
  },
  {
   "cell_type": "code",
   "execution_count": 16,
   "metadata": {},
   "outputs": [
    {
     "name": "stdout",
     "output_type": "stream",
     "text": [
      "//central moments from raw moments\n",
      "double cm_00 = m_00;\n",
      "double cm_10 = -m_00*u.x + m_10;\n",
      "double cm_01 = -m_00*u.y + m_01;\n",
      "double cm_20 = m_00*pow(u.x, 2) - 2*m_10*u.x + m_20;\n",
      "double cm_02 = m_00*pow(u.y, 2) - 2*m_01*u.y + m_02;\n",
      "double cm_11 = m_00*u.x*u.y - m_01*u.x - m_10*u.y + m_11;\n",
      "double cm_21 = -m_00*pow(u.x, 2)*u.y + m_01*pow(u.x, 2) + 2*m_10*u.x*u.y - 2*m_11*u.x - m_20*u.y + m_21;\n",
      "double cm_12 = -m_00*u.x*pow(u.y, 2) + 2*m_01*u.x*u.y - m_02*u.x + m_10*pow(u.y, 2) - 2*m_11*u.y + m_12;\n",
      "double cm_22 = m_00*pow(u.x, 2)*pow(u.y, 2) - 2*m_01*pow(u.x, 2)*u.y + m_02*pow(u.x, 2) - 2*m_10*u.x*pow(u.y, 2) + 4*m_11*u.x*u.y - 2*m_12*u.x + m_20*pow(u.y, 2) - 2*m_21*u.y + m_22;\n"
     ]
    }
   ],
   "source": [
    "print(\"//central moments from raw moments\")\n",
    "print_code(order_of_moments, \"cm\", cm)"
   ]
  },
  {
   "cell_type": "code",
   "execution_count": 17,
   "metadata": {},
   "outputs": [],
   "source": [
    "# RELAXATION MATRIX\n",
    "omega_v = Symbol('omega_nu', positive=True)\n",
    "omega_b = Symbol('omega_bulk', positive=True) \n",
    "\n",
    "s_plus_D2Q9 = (omega_b + omega_v) / 2\n",
    "s_minus_D2Q9 = (omega_b - omega_v) / 2\n",
    "\n",
    "S_relax_hydro_D2Q9 = diag(1, 1, 1, s_plus_D2Q9, s_plus_D2Q9, omega_v, 1, 1, 1)\n",
    "S_relax_hydro_D2Q9[3, 4] = s_minus_D2Q9\n",
    "S_relax_hydro_D2Q9[4, 3] = s_minus_D2Q9"
   ]
  },
  {
   "cell_type": "code",
   "execution_count": 18,
   "metadata": {},
   "outputs": [
    {
     "name": "stdout",
     "output_type": "stream",
     "text": [
      "//collision in central moments space\n",
      "double cm_after_collision_00 = 1.0*rho;\n",
      "double cm_after_collision_10 = 0;\n",
      "double cm_after_collision_01 = 0;\n",
      "double cm_after_collision_20 = m_00*pow(u.x, 2) - 2*m_10*u.x + m_20 + ((1.0/2.0)*omega_bulk - 1.0/2.0*omega_nu)*(-m_00*pow(u.y, 2) + 2*m_01*u.y - m_02 + 0.33333333329937886*rho) + ((1.0/2.0)*omega_bulk + (1.0/2.0)*omega_nu)*(-m_00*pow(u.x, 2) + 2*m_10*u.x - m_20 + 0.33333333329937886*rho);\n",
      "double cm_after_collision_02 = m_00*pow(u.y, 2) - 2*m_01*u.y + m_02 + ((1.0/2.0)*omega_bulk - 1.0/2.0*omega_nu)*(-m_00*pow(u.x, 2) + 2*m_10*u.x - m_20 + 0.33333333329937886*rho) + ((1.0/2.0)*omega_bulk + (1.0/2.0)*omega_nu)*(-m_00*pow(u.y, 2) + 2*m_01*u.y - m_02 + 0.33333333329937886*rho);\n",
      "double cm_after_collision_11 = m_00*u.x*u.y - m_01*u.x - m_10*u.y + m_11 + omega_nu*(-m_00*u.x*u.y + m_01*u.x + m_10*u.y - m_11);\n",
      "double cm_after_collision_21 = 0;\n",
      "double cm_after_collision_12 = 0;\n",
      "double cm_after_collision_22 = 0.11111111110039928*rho;\n"
     ]
    }
   ],
   "source": [
    "cm_after_collision = eye(9) * cm + S_relax_hydro_D2Q9 * (cm_eq - cm)\n",
    "print(\"//collision in central moments space\")\n",
    "print_code(order_of_moments, \"cm_after_collision\", cm_after_collision)"
   ]
  },
  {
   "cell_type": "markdown",
   "metadata": {},
   "source": [
    "## Summary\n",
    "\n",
    "That's the magic - you have learned how perform symbolic computations and generate code from it.\n",
    "The back-tranformation from central moments to moments, then from moments to distribution function follow the same way.\n"
   ]
  },
  {
   "cell_type": "markdown",
   "metadata": {},
   "source": [
    "References:\n",
    "\n",
    "[^1]: Linlin Fei, Kai Hong Luo, 'Cascaded lattice Boltzmann method for incompressible thermal flows with heat sources and general thermal boundary conditions' Computers and Fluids (2018).\n",
    "\n",
    "[^2]: Linlin Fei, Kai Hong Luo, Chuandong Lin, Qing Li, 'Modeling incompressible thermal flows using a central-moments-based lattice Boltzmann method' International Journal of Heat and Mass Transfer (2017).\n",
    "\n",
    "[^3]: Linlin Fei and Kai Hong Luo, 'Consistent forcing scheme in the cascaded lattice Boltzmann method' Physical Review E 96, 053307 (2017).\n",
    "\n",
    "[^4]: Linlin Fei, Kai H. Luo and Qing Li, 'Three-dimensional cascaded lattice Boltzmann method: Improved implementation and consistent forcing scheme' Physical Review E 97, 053309 (2018)\n",
    "\n",
    "[^5]: M. Geier, A. Greiner, J. G. Korvink, 'Cascaded digital lattice Boltzmann automata for high Reynolds number flow' Physical Review E - Statistical, Nonlinear, and Soft Matter Physics 73 (2006).\n",
    "\n",
    "[^6]: Xiaoyi He, Xiaowen Shan, and Gary D. Doolen, 'Discrete Boltzmann equation model for nonideal gases' in Physical Review E - Statistical Physics, Plasmas, Fluids, and Related Interdisciplinary Topics (1998).\n"
   ]
  }
 ],
 "metadata": {
  "kernelspec": {
   "display_name": "Python 3 (ipykernel)",
   "language": "python",
   "name": "python3"
  },
  "language_info": {
   "codemirror_mode": {
    "name": "ipython",
    "version": 3
   },
   "file_extension": ".py",
   "mimetype": "text/x-python",
   "name": "python",
   "nbconvert_exporter": "python",
   "pygments_lexer": "ipython3",
   "version": "3.10.12"
  }
 },
 "nbformat": 4,
 "nbformat_minor": 4
}
