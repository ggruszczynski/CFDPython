{
 "cells": [
  {
   "cell_type": "code",
   "execution_count": 1,
   "id": "e5e32fe3-3820-4ef6-8a07-14947ead8c75",
   "metadata": {},
   "outputs": [],
   "source": [
    "# On recovering the second-order convergence of the lattice Boltzmann method with reaction-type source terms\n",
    "\n",
    "# July 2021\n",
    "# Grzegorz Gruszczyński, Michał Dzikowski, Łukasz Łaniewski-Wołłk\n",
    "#\n",
    "# <https://arxiv.org/abs/2107.03962>\n",
    "\n",
    "from sympy import symbols, Eq, Matrix, solve, lambdify, diff\n",
    "from sympy.solvers.ode.systems import dsolve_system\n",
    "from sympy import *\n",
    "import numpy as np\n",
    "import matplotlib.pyplot as plt\n",
    "from eq_solver import block_simpler, extract_real_solution\n",
    "import os\n",
    "\n",
    "from sympy import init_printing\n",
    "init_printing() \n",
    "# %matplotlib inline\n",
    "init_printing(use_latex='mathjax')\n",
    "# import handcalcs.render"
   ]
  },
  {
   "cell_type": "markdown",
   "id": "f85e1e68-8ef5-45fe-a3c9-bfa8e03ca4b3",
   "metadata": {},
   "source": [
    "## Macroscopic equation\n",
    "\n",
    "\\begin{align*}\n",
    "\\begin{cases}\n",
    "\\partial_t c_A + \\nabla (u \\cdot c_A) &= \\nabla \\cdot (D \\nabla c_A)-k_A c_A +k_C c_C \\\\\n",
    "\\partial_t c_C + \\nabla (u \\cdot c_C) &= \\nabla \\cdot (D \\nabla c_C)+k_A c_A -k_C c_C\n",
    "\\end{cases}\n",
    "\\end{align*}"
   ]
  },
  {
   "cell_type": "markdown",
   "id": "fe36a196-dbaf-4fb6-9e7a-e5a951c9e1e8",
   "metadata": {},
   "source": [
    "\n",
    "The variable being solved in a LBM scheme is $\\boldsymbol{\\tilde{c}}$.\n",
    "\n",
    "The implicit relation (due to 'shift' of variables) is\n",
    "\n",
    "$$\n",
    "\\boldsymbol{\\tilde{c}} = \\boldsymbol{c} - \\frac{1}{2} \\boldsymbol{Q}\n",
    "$$\n",
    "\n",
    "$$\n",
    "\\begin{bmatrix} \n",
    "\\tilde{c}_A \\\\\n",
    "\\tilde{c}_C\\\\\n",
    "\\end{bmatrix}\n",
    "\\quad\n",
    "=\n",
    "\\begin{bmatrix} \n",
    "c_A \\\\\n",
    "c_C \\\\\n",
    "\\end{bmatrix}\n",
    "\\quad\n",
    "-\\frac{1}{2}\n",
    "\\begin{bmatrix} \n",
    "-k_A c_A  &  k_C c_C \\\\\n",
    "+k_A c_A  & -k_C c_C \\\\\n",
    "\\end{bmatrix}\n",
    "\\quad\n",
    "$$\n",
    "\n",
    "Let us find $\\boldsymbol{c} = \\boldsymbol{c}(\\boldsymbol{\\tilde{c}})$"
   ]
  },
  {
   "cell_type": "code",
   "execution_count": 2,
   "id": "43a29d99-668d-4784-b7de-46950eb10595",
   "metadata": {},
   "outputs": [],
   "source": [
    "str_ca = 'c_A'  # non-shifted quantity\n",
    "str_cc = 'c_C'  # non-shifted quantity\n",
    "str_k_a = 'k_A'  # source term intensity\n",
    "str_k_c = 'k_C'  # source term intensity\n",
    "str_dt = 'dt'\n",
    "str_tilde_ca = r'\\tilde{c}_A'  # shifted quantity\n",
    "str_tilde_cc = r'\\tilde{c}_C'  # shifted quantity\n",
    "str_Q = 'Q'\n",
    "\n",
    "ca = symbols(f\"{str_ca}\", real=True)  # non-shifted quantity\n",
    "cc = symbols(f\"{str_cc}\", real=True)  # non-shifted quantity\n",
    "k_a = symbols(f'{str_k_a}', real=True, positive=True, nonzero=True)\n",
    "k_c = symbols(f'{str_k_c}', real=True, positive=True, nonzero=True)\n",
    "DT = symbols(f'{str_dt}', real=True, positive=True, nonzero=True)  # DT=1 in LBM\n",
    "DT =1 \n",
    "tilde_ca = symbols(f'{str_tilde_ca}', real=True)\n",
    "tilde_cc = symbols(f'{str_tilde_cc}', real=True)\n",
    "\n",
    "given = [tilde_ca, tilde_cc]\n",
    "unknown = [ca, cc]\n",
    "Q = [- k_a * ca + k_c *cc, k_a*ca - k_c*cc]\n",
    "\n",
    "EQs = Eq(Matrix(given), Matrix(unknown) - DT*Matrix(Q)/2)\n"
   ]
  },
  {
   "cell_type": "code",
   "execution_count": 3,
   "id": "08b704f0-ee99-45e6-a52c-942cedea7f5d",
   "metadata": {},
   "outputs": [],
   "source": [
    "solutions = solve(EQs, unknown, dict=True)\n",
    "symbolic_solutions_as_matrix = Matrix([list(s.values()) for s in solutions])\n",
    "symbolic_solutions_as_matrix\n",
    "\n",
    "inputs_as_symbols = [tilde_ca, tilde_cc, k_a, k_c]\n",
    "inputs_as_str = symbols([str_tilde_ca, str_tilde_cc, str_k_a, str_k_c])\n"
   ]
  },
  {
   "cell_type": "code",
   "execution_count": 4,
   "id": "868737a7-d31b-492a-892b-34ed11a8adb4",
   "metadata": {},
   "outputs": [
    {
     "data": {
      "text/latex": [
       "$\\displaystyle \\left[ \\left\\{ c_{A} : \\frac{\\tilde{c}_A k_{C} + 2 \\tilde{c}_A + \\tilde{c}_C k_{C}}{k_{A} + k_{C} + 2}, \\  c_{C} : \\frac{\\tilde{c}_A k_{A} + \\tilde{c}_C k_{A} + 2 \\tilde{c}_C}{k_{A} + k_{C} + 2}\\right\\}\\right]$"
      ],
      "text/plain": [
       "⎡⎧     \\tilde{c}_A⋅k_C + 2⋅\\tilde{c}_A + \\tilde{c}_C⋅k_C       \\tilde{c}_A⋅k_A + \\tilde{c}_C⋅k_A + 2⋅\\tilde{c}_C⎫⎤\n",
       "⎢⎨c_A: ─────────────────────────────────────────────────, c_C: ─────────────────────────────────────────────────⎬⎥\n",
       "⎣⎩                       k_A + k_C + 2                                           k_A + k_C + 2                  ⎭⎦"
      ]
     },
     "execution_count": 4,
     "metadata": {},
     "output_type": "execute_result"
    }
   ],
   "source": [
    "solutions"
   ]
  },
  {
   "cell_type": "code",
   "execution_count": 20,
   "id": "f57bde97-84dd-474f-a802-6b5410841539",
   "metadata": {},
   "outputs": [
    {
     "data": {
      "text/plain": [
       "'\\\\left[ \\\\left\\\\{ c_{A} : \\\\frac{\\\\tilde{c}_A k_{C} + 2 \\\\tilde{c}_A + \\\\tilde{c}_C k_{C}}{k_{A} + k_{C} + 2}, \\\\  c_{C} : \\\\frac{\\\\tilde{c}_A k_{A} + \\\\tilde{c}_C k_{A} + 2 \\\\tilde{c}_C}{k_{A} + k_{C} + 2}\\\\right\\\\}\\\\right]'"
      ]
     },
     "execution_count": 20,
     "metadata": {},
     "output_type": "execute_result"
    }
   ],
   "source": [
    "latex(solutions)"
   ]
  },
  {
   "cell_type": "code",
   "execution_count": 5,
   "id": "0773d8be-516f-4c5c-b005-17ca6a2eb70c",
   "metadata": {},
   "outputs": [
    {
     "data": {
      "text/latex": [
       "$\\displaystyle \\left[ - c_{A} k_{A} + c_{C} k_{C}, \\  c_{A} k_{A} - c_{C} k_{C}\\right]$"
      ],
      "text/plain": [
       "[-c_A⋅k_A + c_C⋅k_C, c_A⋅k_A - c_C⋅k_C]"
      ]
     },
     "execution_count": 5,
     "metadata": {},
     "output_type": "execute_result"
    }
   ],
   "source": [
    "Q"
   ]
  },
  {
   "cell_type": "code",
   "execution_count": 6,
   "id": "7e6d93aa-e404-410c-a57a-2bd5d4d8be6b",
   "metadata": {},
   "outputs": [
    {
     "name": "stdout",
     "output_type": "stream",
     "text": [
      "//=== THIS IS AUTOMATICALLY GENERATED CODE ===\n",
      "real_t c_A; real_t c_C;\n",
      "c_A = (\\tilde{c}_A*k_C + 2*\\tilde{c}_A + \\tilde{c}_C*k_C)/(k_A + k_C + 2) ; // 8\n",
      "c_C = (\\tilde{c}_A*k_A + \\tilde{c}_C*k_A + 2*\\tilde{c}_C)/(k_A + k_C + 2) ; // 8\n"
     ]
    }
   ],
   "source": [
    "print(\"//=== THIS IS AUTOMATICALLY GENERATED CODE ===\")\n",
    "# print(f'const real_t {str_dt} = 1.;')\n",
    "print(f'real_t {str_ca}; real_t {str_cc};')\n",
    "\n",
    "# inputs_as_symbols.append(ca)\n",
    "# inputs_as_str.append(str_ca)\n",
    "\n",
    "block_simpler([str_ca], [symbolic_solutions_as_matrix.subs(dict(zip(inputs_as_symbols, inputs_as_str)))[0]])  \n",
    "block_simpler([str_cc], [symbolic_solutions_as_matrix.subs(dict(zip(inputs_as_symbols, inputs_as_str)))[1]])"
   ]
  },
  {
   "cell_type": "code",
   "execution_count": 7,
   "id": "01f84d70-27bd-4edd-83d5-a00420fece27",
   "metadata": {},
   "outputs": [
    {
     "name": "stdout",
     "output_type": "stream",
     "text": [
      "\n",
      "real_t Qa; real_t Qb;\n",
      "Qa = -c_A*k_A + c_C*k_C ; // 3\n",
      "Qc = c_A*k_A - c_C*k_C ; // 3\n"
     ]
    }
   ],
   "source": [
    "print(f'\\nreal_t {str_Q}a; real_t {str_Q}b;')\n",
    "block_simpler([\"Qa\"], [Q[0].subs(dict(zip(inputs_as_symbols, inputs_as_str)))])\n",
    "block_simpler([\"Qc\"], [Q[1].subs(dict(zip(inputs_as_symbols, inputs_as_str)))])"
   ]
  },
  {
   "cell_type": "markdown",
   "id": "0c00d745-161c-4b0d-9d08-5b2e8a141857",
   "metadata": {},
   "source": [
    "## Let us solve a system of ODE in sympy"
   ]
  },
  {
   "cell_type": "code",
   "execution_count": 16,
   "id": "9e069bc9-4adc-49cb-9159-0012082a7197",
   "metadata": {},
   "outputs": [
    {
     "data": {
      "text/latex": [
       "$\\displaystyle \\left[ - k_{A} c_{A}{\\left(t \\right)} + k_{C} c_{C}{\\left(t \\right)} + \\frac{d}{d t} c_{A}{\\left(t \\right)}, \\  k_{A} c_{A}{\\left(t \\right)} - k_{C} c_{C}{\\left(t \\right)} + \\frac{d}{d t} c_{C}{\\left(t \\right)}\\right]$"
      ],
      "text/plain": [
       "⎡                           d                                     d         ⎤\n",
       "⎢-k_A⋅c_A(t) + k_C⋅c_C(t) + ──(c_A(t)), k_A⋅c_A(t) - k_C⋅c_C(t) + ──(c_C(t))⎥\n",
       "⎣                           dt                                    dt        ⎦"
      ]
     },
     "execution_count": 16,
     "metadata": {},
     "output_type": "execute_result"
    }
   ],
   "source": [
    "# redefine 'concentrations' as sympy function\n",
    "ca = symbols(f\"{str_ca}\", real=True, cls=Function)  # non-shifted quantity\n",
    "cc = symbols(f\"{str_cc}\", real=True, cls=Function)  # non-shifted quantity\n",
    "k_a = symbols(f'{str_k_a}', real=True, positive=True, nonzero=True)\n",
    "k_c = symbols(f'{str_k_c}', real=True, positive=True, nonzero=True)\n",
    "t = symbols('t', real=True, positive=True)\n",
    "\n",
    "\n",
    "\n",
    "# IC={ca(0):40, cc(0): 10} # initial condition\n",
    "k_a_num = 1; k_c_num = 3   # specify value of the constant\n",
    "\n",
    "# IC={ca(0): symbols(f'{str_ca}_0', real=True, positive=True, nonzero=True),\n",
    "#     cc(0): symbols(f'{str_cc}_0', real=True, positive=True, nonzero=True)} # initial condition\n",
    "# https://stackoverflow.com/questions/71708863/derivative-or-diff-in-sympy-ode\n",
    "odesys = [diff(ca(t),t,1)  -k_a * ca(t)+k_c*cc(t),\n",
    "          diff(cc(t),t,1)  +k_a * ca(t)-k_c*cc(t)]\n",
    "odesys"
   ]
  },
  {
   "cell_type": "code",
   "execution_count": 19,
   "id": "460f5577-ba61-4bab-b93e-c42a9ea76987",
   "metadata": {},
   "outputs": [
    {
     "data": {
      "text/plain": [
       "'\\\\left[ - k_{A} c_{A}{\\\\left(t \\\\right)} + k_{C} c_{C}{\\\\left(t \\\\right)} + \\\\frac{d}{d t} c_{A}{\\\\left(t \\\\right)}, \\\\  k_{A} c_{A}{\\\\left(t \\\\right)} - k_{C} c_{C}{\\\\left(t \\\\right)} + \\\\frac{d}{d t} c_{C}{\\\\left(t \\\\right)}\\\\right]'"
      ]
     },
     "execution_count": 19,
     "metadata": {},
     "output_type": "execute_result"
    }
   ],
   "source": []
  },
  {
   "cell_type": "code",
   "execution_count": 17,
   "id": "7b9f65a2-e746-43d6-8c98-9c8bb839ba9a",
   "metadata": {},
   "outputs": [
    {
     "data": {
      "text/latex": [
       "$\\displaystyle \\left[ c_{A}{\\left(t \\right)} = \\frac{C_{1} k_{C}}{k_{A}} - C_{2} e^{t \\left(k_{A} + k_{C}\\right)}, \\  c_{C}{\\left(t \\right)} = C_{1} + C_{2} e^{t \\left(k_{A} + k_{C}\\right)}\\right]$"
      ],
      "text/plain": [
       "⎡         C₁⋅k_C       t⋅(k_A + k_C)                    t⋅(k_A + k_C)⎤\n",
       "⎢c_A(t) = ────── - C₂⋅ℯ             , c_C(t) = C₁ + C₂⋅ℯ             ⎥\n",
       "⎣          k_A                                                       ⎦"
      ]
     },
     "execution_count": 17,
     "metadata": {},
     "output_type": "execute_result"
    }
   ],
   "source": [
    "general_solution=dsolve_system(odesys)[0];\n",
    "general_solution"
   ]
  },
  {
   "cell_type": "code",
   "execution_count": 22,
   "id": "0793a38b-f9f7-453e-85b3-37638c47727f",
   "metadata": {},
   "outputs": [
    {
     "data": {
      "text/plain": [
       "'\\\\left[ c_{A}{\\\\left(t \\\\right)} = \\\\frac{C_{1} k_{C}}{k_{A}} - C_{2} e^{t \\\\left(k_{A} + k_{C}\\\\right)}, \\\\  c_{C}{\\\\left(t \\\\right)} = C_{1} + C_{2} e^{t \\\\left(k_{A} + k_{C}\\\\right)}\\\\right]'"
      ]
     },
     "execution_count": 22,
     "metadata": {},
     "output_type": "execute_result"
    }
   ],
   "source": [
    "latex(general_solution)"
   ]
  },
  {
   "cell_type": "code",
   "execution_count": 18,
   "id": "2ccd90e9-8c90-4bb9-944d-3c08887190d4",
   "metadata": {},
   "outputs": [
    {
     "data": {
      "text/latex": [
       "$\\displaystyle \\left[ c_{A}{\\left(t \\right)} = \\frac{c_{A 0} k_{C}}{k_{A} + k_{C}} + \\frac{c_{C 0} k_{C}}{k_{A} + k_{C}} + \\left(\\frac{c_{A 0} k_{A}}{k_{A} + k_{C}} - \\frac{c_{C 0} k_{C}}{k_{A} + k_{C}}\\right) e^{t \\left(k_{A} + k_{C}\\right)}, \\  c_{C}{\\left(t \\right)} = \\frac{c_{A 0} k_{A}}{k_{A} + k_{C}} + \\frac{c_{C 0} k_{A}}{k_{A} + k_{C}} - \\left(\\frac{c_{A 0} k_{A}}{k_{A} + k_{C}} - \\frac{c_{C 0} k_{C}}{k_{A} + k_{C}}\\right) e^{t \\left(k_{A} + k_{C}\\right)}\\right]$"
      ],
      "text/plain": [
       "⎡         c_A_0⋅k_C   c_C_0⋅k_C   ⎛c_A_0⋅k_A   c_C_0⋅k_C⎞  t⋅(k_A + k_C)           c_A_0⋅k_A   c_C_0⋅k_A   ⎛c_A_0⋅k_A   c_C_0⋅k_C⎞  t⋅(k_A + k_C)⎤\n",
       "⎢c_A(t) = ───────── + ───────── + ⎜───────── - ─────────⎟⋅ℯ             , c_C(t) = ───────── + ───────── - ⎜───────── - ─────────⎟⋅ℯ             ⎥\n",
       "⎣         k_A + k_C   k_A + k_C   ⎝k_A + k_C   k_A + k_C⎠                          k_A + k_C   k_A + k_C   ⎝k_A + k_C   k_A + k_C⎠               ⎦"
      ]
     },
     "execution_count": 18,
     "metadata": {},
     "output_type": "execute_result"
    }
   ],
   "source": [
    "particular_solution = dsolve_system(odesys, ics=IC)[0]; particular_solution"
   ]
  },
  {
   "cell_type": "code",
   "execution_count": 11,
   "id": "184ffcc9-8b60-4f40-a31b-45aae6f64583",
   "metadata": {},
   "outputs": [
    {
     "data": {
      "text/latex": [
       "$\\displaystyle \\left[ c_{A}{\\left(t \\right)} = \\frac{3 k_{A 0}}{4} + \\left(\\frac{k_{A 0}}{4} - \\frac{15}{2}\\right) e^{4 t} + \\frac{15}{2}, \\  c_{C}{\\left(t \\right)} = \\frac{k_{A 0}}{4} - \\left(\\frac{k_{A 0}}{4} - \\frac{15}{2}\\right) e^{4 t} + \\frac{5}{2}\\right]$"
      ],
      "text/plain": [
       "⎡         3⋅k_A_0   ⎛k_A_0   15⎞  4⋅t   15           k_A_0   ⎛k_A_0   15⎞  4⋅t   5⎤\n",
       "⎢c_A(t) = ─────── + ⎜───── - ──⎟⋅ℯ    + ──, c_C(t) = ───── - ⎜───── - ──⎟⋅ℯ    + ─⎥\n",
       "⎣            4      ⎝  4     2 ⎠        2              4     ⎝  4     2 ⎠        2⎦"
      ]
     },
     "execution_count": 11,
     "metadata": {},
     "output_type": "execute_result"
    }
   ],
   "source": [
    "fun_result = [r.subs([(k_a, k_a_num),(k_c, k_c_num)]) for r in particular_solution]; fun_result"
   ]
  },
  {
   "cell_type": "code",
   "execution_count": 12,
   "id": "c890720f-5cdb-4527-b9ef-b8a24710a91a",
   "metadata": {},
   "outputs": [
    {
     "data": {
      "text/latex": [
       "$\\displaystyle \\left[ c_{A}{\\left(5 \\right)} = 121291299.602448 k_{A 0} - 3638738958.07343, \\  c_{C}{\\left(5 \\right)} = 3638738968.07343 - 121291298.602448 k_{A 0}\\right]$"
      ],
      "text/plain": [
       "[c_A(5) = 121291299.602448⋅k_A_0 - 3638738958.07343, c_C(5) = 3638738968.07343 - 121291298.602448⋅k_A_0]"
      ]
     },
     "execution_count": 12,
     "metadata": {},
     "output_type": "execute_result"
    }
   ],
   "source": [
    "# evaluate at a given time spot\n",
    "t_spot = 5\n",
    "v = [v.evalf(subs={t:t_spot}) for v in fun_result]\n",
    "v"
   ]
  }
 ],
 "metadata": {
  "kernelspec": {
   "display_name": "Python 3 (ipykernel)",
   "language": "python",
   "name": "python3"
  },
  "language_info": {
   "codemirror_mode": {
    "name": "ipython",
    "version": 3
   },
   "file_extension": ".py",
   "mimetype": "text/x-python",
   "name": "python",
   "nbconvert_exporter": "python",
   "pygments_lexer": "ipython3",
   "version": "3.10.12"
  }
 },
 "nbformat": 4,
 "nbformat_minor": 5
}
