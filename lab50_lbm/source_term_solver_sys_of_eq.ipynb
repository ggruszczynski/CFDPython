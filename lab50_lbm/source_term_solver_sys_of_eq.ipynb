{
 "cells": [
  {
   "cell_type": "code",
   "execution_count": 1,
   "id": "e5e32fe3-3820-4ef6-8a07-14947ead8c75",
   "metadata": {},
   "outputs": [],
   "source": [
    "# On recovering the second-order convergence of the lattice Boltzmann method with reaction-type source terms\n",
    "\n",
    "# July 2021\n",
    "# Grzegorz Gruszczyński, Michał Dzikowski, Łukasz Łaniewski-Wołłk\n",
    "#\n",
    "# <https://arxiv.org/abs/2107.03962>\n",
    "\n",
    "from sympy import symbols, Eq, Matrix, solve, lambdify\n",
    "from sympy import *\n",
    "import numpy as np\n",
    "import matplotlib.pyplot as plt\n",
    "from eq_solver import block_simpler, extract_real_solution\n",
    "import os\n",
    "\n",
    "from sympy import init_printing\n",
    "init_printing() \n",
    "# %matplotlib inline\n",
    "init_printing(use_latex='mathjax')\n",
    "# import handcalcs.render"
   ]
  },
  {
   "cell_type": "markdown",
   "id": "f85e1e68-8ef5-45fe-a3c9-bfa8e03ca4b3",
   "metadata": {},
   "source": [
    "## Macroscopic equation\n",
    "\n",
    "\\begin{align*}\n",
    "\\begin{cases}\n",
    "\\partial_t c_A + \\nabla (u \\cdot c_A) &= \\nabla \\cdot (D \\nabla c_A)-k_H c_A +k_R c_C \\\\\n",
    "\\partial_t c_C + \\nabla (u \\cdot c_C) &= \\nabla \\cdot (D \\nabla c_C)+k_H c_A -k_R c_C\n",
    "\\end{cases}\n",
    "\\end{align*}"
   ]
  },
  {
   "cell_type": "markdown",
   "id": "fe36a196-dbaf-4fb6-9e7a-e5a951c9e1e8",
   "metadata": {},
   "source": [
    "\n",
    "The variable being solved in a LBM scheme is $\\boldsymbol{\\tilde{c}}$.\n",
    "\n",
    "The implicit relation (due to 'shift' of variables) is\n",
    "\n",
    "$$\n",
    "\\boldsymbol{\\tilde{c}} = \\boldsymbol{c} - \\frac{1}{2} \\boldsymbol{Q}\n",
    "$$\n",
    "\n",
    "$$\n",
    "\\begin{bmatrix} \n",
    "\\tilde{c}_A \\\\\n",
    "\\tilde{c}_C\\\\\n",
    "\\end{bmatrix}\n",
    "\\quad\n",
    "=\n",
    "\\begin{bmatrix} \n",
    "c_A \\\\\n",
    "c_C \\\\\n",
    "\\end{bmatrix}\n",
    "\\quad\n",
    "-\\frac{1}{2}\n",
    "\\begin{bmatrix} \n",
    "-k_H c_A  &  k_R c_C \\\\\n",
    "+k_H c_A  & -k_R c_C \\\\\n",
    "\\end{bmatrix}\n",
    "\\quad\n",
    "$$\n",
    "\n",
    "Let us find $\\boldsymbol{c} = \\boldsymbol{c}(\\boldsymbol{\\tilde{c}})$"
   ]
  },
  {
   "cell_type": "code",
   "execution_count": 2,
   "id": "43a29d99-668d-4784-b7de-46950eb10595",
   "metadata": {},
   "outputs": [],
   "source": [
    "str_ca = 'c_A'  # non-shifted quantity\n",
    "str_cc = 'c_C'  # non-shifted quantity\n",
    "str_k_a = 'k_A'  # source term intensity\n",
    "str_k_c = 'k_C'  # source term intensity\n",
    "str_dt = 'dt'\n",
    "str_tilde_ca = r'\\tilde{c}_A'  # shifted quantity\n",
    "str_tilde_cc = r'\\tilde{c}_C'  # shifted quantity\n",
    "str_Q = 'Q'\n",
    "\n",
    "ca = symbols(f\"{str_ca}\", real=True)  # non-shifted quantity\n",
    "cc = symbols(f\"{str_cc}\", real=True)  # non-shifted quantity\n",
    "k_a = symbols(f'{str_k_a}', real=True, positive=True, nonzero=True)\n",
    "k_c = symbols(f'{str_k_c}', real=True, positive=True, nonzero=True)\n",
    "DT = symbols(f'{str_dt}', real=True, positive=True, nonzero=True)  # DT=1 in LBM\n",
    "DT =1 \n",
    "tilde_ca = symbols(f'{str_tilde_ca}', real=True)\n",
    "tilde_cc = symbols(f'{str_tilde_cc}', real=True)\n",
    "\n",
    "given = [tilde_ca, tilde_cc]\n",
    "unknown = [ca, cc]\n",
    "Q = [- k_a * ca + k_c *cc, k_a*ca - k_c*cc]\n",
    "\n",
    "EQs = Eq(Matrix(given), Matrix(unknown) - DT*Matrix(Q)/2)\n"
   ]
  },
  {
   "cell_type": "code",
   "execution_count": 3,
   "id": "08b704f0-ee99-45e6-a52c-942cedea7f5d",
   "metadata": {},
   "outputs": [],
   "source": [
    "solutions = solve(EQs, unknown, dict=True)\n",
    "symbolic_solutions_as_matrix = Matrix([list(s.values()) for s in solutions])\n",
    "symbolic_solutions_as_matrix\n",
    "\n",
    "inputs_as_symbols = [tilde_ca, tilde_cc, k_a, k_c]\n",
    "inputs_as_str = symbols([str_tilde_ca, str_tilde_cc, str_k_a, str_k_c])\n"
   ]
  },
  {
   "cell_type": "code",
   "execution_count": 4,
   "id": "868737a7-d31b-492a-892b-34ed11a8adb4",
   "metadata": {},
   "outputs": [
    {
     "data": {
      "text/latex": [
       "$\\displaystyle \\left[ \\left\\{ c_{A} : \\frac{\\tilde{c}_A k_{C} + 2 \\tilde{c}_A + \\tilde{c}_C k_{C}}{k_{A} + k_{C} + 2}, \\  c_{C} : \\frac{\\tilde{c}_A k_{A} + \\tilde{c}_C k_{A} + 2 \\tilde{c}_C}{k_{A} + k_{C} + 2}\\right\\}\\right]$"
      ],
      "text/plain": [
       "⎡⎧     \\tilde{c}_A⋅k_C + 2⋅\\tilde{c}_A + \\tilde{c}_C⋅k_C       \\tilde{c}_A⋅k_A\n",
       "⎢⎨c_A: ─────────────────────────────────────────────────, c_C: ───────────────\n",
       "⎣⎩                       k_A + k_C + 2                                        \n",
       "\n",
       " + \\tilde{c}_C⋅k_A + 2⋅\\tilde{c}_C⎫⎤\n",
       "──────────────────────────────────⎬⎥\n",
       "   k_A + k_C + 2                  ⎭⎦"
      ]
     },
     "execution_count": 4,
     "metadata": {},
     "output_type": "execute_result"
    }
   ],
   "source": [
    "solutions"
   ]
  },
  {
   "cell_type": "code",
   "execution_count": 5,
   "id": "0773d8be-516f-4c5c-b005-17ca6a2eb70c",
   "metadata": {},
   "outputs": [
    {
     "data": {
      "text/latex": [
       "$\\displaystyle \\left[ - c_{A} k_{A} + c_{C} k_{C}, \\  c_{A} k_{A} - c_{C} k_{C}\\right]$"
      ],
      "text/plain": [
       "[-c_A⋅k_A + c_C⋅k_C, c_A⋅k_A - c_C⋅k_C]"
      ]
     },
     "execution_count": 5,
     "metadata": {},
     "output_type": "execute_result"
    }
   ],
   "source": [
    "Q"
   ]
  },
  {
   "cell_type": "code",
   "execution_count": 6,
   "id": "7e6d93aa-e404-410c-a57a-2bd5d4d8be6b",
   "metadata": {},
   "outputs": [
    {
     "name": "stdout",
     "output_type": "stream",
     "text": [
      "//=== THIS IS AUTOMATICALLY GENERATED CODE ===\n",
      "real_t c_A; real_t c_C;\n",
      "c_A = (\\tilde{c}_A*k_C + 2*\\tilde{c}_A + \\tilde{c}_C*k_C)/(k_A + k_C + 2) ; // 8\n",
      "c_C = (\\tilde{c}_A*k_A + \\tilde{c}_C*k_A + 2*\\tilde{c}_C)/(k_A + k_C + 2) ; // 8\n"
     ]
    }
   ],
   "source": [
    "print(\"//=== THIS IS AUTOMATICALLY GENERATED CODE ===\")\n",
    "# print(f'const real_t {str_dt} = 1.;')\n",
    "print(f'real_t {str_ca}; real_t {str_cc};')\n",
    "\n",
    "# inputs_as_symbols.append(ca)\n",
    "# inputs_as_str.append(str_ca)\n",
    "\n",
    "block_simpler([str_ca], [symbolic_solutions_as_matrix.subs(dict(zip(inputs_as_symbols, inputs_as_str)))[0]])  \n",
    "block_simpler([str_cc], [symbolic_solutions_as_matrix.subs(dict(zip(inputs_as_symbols, inputs_as_str)))[1]])"
   ]
  },
  {
   "cell_type": "code",
   "execution_count": 7,
   "id": "01f84d70-27bd-4edd-83d5-a00420fece27",
   "metadata": {},
   "outputs": [
    {
     "name": "stdout",
     "output_type": "stream",
     "text": [
      "\n",
      "real_t Qa; real_t Qb;\n",
      "Qa = -c_A*k_A + c_C*k_C ; // 3\n",
      "Qc = c_A*k_A - c_C*k_C ; // 3\n"
     ]
    }
   ],
   "source": [
    "print(f'\\nreal_t {str_Q}a; real_t {str_Q}b;')\n",
    "block_simpler([\"Qa\"], [Q[0].subs(dict(zip(inputs_as_symbols, inputs_as_str)))])\n",
    "block_simpler([\"Qc\"], [Q[1].subs(dict(zip(inputs_as_symbols, inputs_as_str)))])"
   ]
  }
 ],
 "metadata": {
  "kernelspec": {
   "display_name": "Python 3",
   "language": "python",
   "name": "python3"
  },
  "language_info": {
   "codemirror_mode": {
    "name": "ipython",
    "version": 3
   },
   "file_extension": ".py",
   "mimetype": "text/x-python",
   "name": "python",
   "nbconvert_exporter": "python",
   "pygments_lexer": "ipython3",
   "version": "3.10.6"
  }
 },
 "nbformat": 4,
 "nbformat_minor": 5
}
